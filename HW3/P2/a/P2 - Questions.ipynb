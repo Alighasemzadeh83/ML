{
 "cells": [
  {
   "cell_type": "markdown",
   "metadata": {
    "id": "havFsrqzlXPy"
   },
   "source": [
    "# Optimization Techniques on MNIST Dataset\n",
    "This notebook explores various optimization techniques for training neural networks on the MNIST dataset. The focus will be on different optimization strategies including Adaptive Learning Rates, SGD, Mini-Batch Gradient Descent, and Learning Rate Adjustments. Each section will provide a practical task related to these techniques."
   ]
  },
  {
   "cell_type": "code",
   "execution_count": 73,
   "metadata": {
    "id": "ywjE9LpmlXP1"
   },
   "outputs": [],
   "source": [
    "import tensorflow as tf\n",
    "import numpy as np\n",
    "import matplotlib.pyplot as plt\n",
    "\n",
    "# Load Fashion MNIST dataset\n",
    "(x_train, y_train), (x_test, y_test) = tf.keras.datasets.fashion_mnist.load_data()\n",
    "\n",
    "# Normalize data\n",
    "x_train, x_test = x_train / 255.0, x_test / 255.0\n",
    "\n",
    "# One-hot encode labels\n",
    "y_train = tf.keras.utils.to_categorical(y_train, 10)\n",
    "y_test = tf.keras.utils.to_categorical(y_test, 10)"
   ]
  },
  {
   "cell_type": "code",
   "execution_count": 74,
   "metadata": {},
   "outputs": [
    {
     "name": "stdout",
     "output_type": "stream",
     "text": [
      "(60000, 28, 28)\n",
      "(60000, 10)\n"
     ]
    }
   ],
   "source": [
    "print(x_train.shape)\n",
    "print(y_train.shape)"
   ]
  },
  {
   "cell_type": "code",
   "execution_count": 75,
   "metadata": {},
   "outputs": [],
   "source": [
    "X_train_flat = x_train.reshape(x_train.shape[0], -1)"
   ]
  },
  {
   "cell_type": "markdown",
   "metadata": {},
   "source": [
    "## Adaptive Learning Rates"
   ]
  },
  {
   "cell_type": "markdown",
   "metadata": {
    "id": "4rNvoHEDlXP2"
   },
   "source": [
    "## Implementing a Simple Neural Network from Scratch"
   ]
  },
  {
   "cell_type": "markdown",
   "metadata": {
    "id": "8IMMs-s6lXP2"
   },
   "source": [
    "### Building the Network\n",
    "Define the architecture of a simple feedforward neural network with one hidden layer. You will need to manually initialize the weights and biases.\n",
    "\n",
    "**TODO:** Initialize Parameters\n",
    "Objective: Create a function to initialize weights and biases for all layers of the network.\n",
    "Instructions:\n",
    "- Initialize weights with small random values and biases with zeros.\n",
    "- Use numpy for creating arrays and operations.\n",
    "\n",
    "Hint: Use np.random.randn for weights and np.zeros for biases. Scale weights by 0.1."
   ]
  },
  {
   "cell_type": "code",
   "execution_count": 136,
   "metadata": {
    "id": "HEUr0figlXP3"
   },
   "outputs": [],
   "source": [
    "def initialize_parameters(input_size, hidden_size, output_size):\n",
    "    \"\"\"\n",
    "    Initialize weights and biases for a simple feedforward neural network.\n",
    "\n",
    "    Parameters:\n",
    "    - input_size: Number of input features.\n",
    "    - hidden_size: Number of neurons in the hidden layer.\n",
    "    - output_size: Number of output classes.\n",
    "\n",
    "    Returns:\n",
    "    - parameters: A dictionary containing weights and biases.\n",
    "    \"\"\"\n",
    "    np.random.seed(14)\n",
    "    W1 = np.random.randn(hidden_size, input_size) * 0.1\n",
    "    b1 = np.zeros(hidden_size)\n",
    "\n",
    "    W2 = np.random.randn(output_size, hidden_size) * 0.1\n",
    "    b2 = np.zeros(output_size)\n",
    "    return {'W1' : W1, 'b1' : b1, 'W2' : W2, 'b2' : b2}"
   ]
  },
  {
   "cell_type": "markdown",
   "metadata": {
    "id": "bDvfRCVq-74-"
   },
   "source": [
    "\n",
    "TODO: Define Activation Functions\n",
    "Objective: Implement commonly used activation functions.\n",
    "Instructions:\n",
    " - Define the ReLU and Sigmoid activation functions.\n",
    " - Ensure each function works with numpy arrays and supports both forward and derivative (gradient) computations.\n"
   ]
  },
  {
   "cell_type": "code",
   "execution_count": 126,
   "metadata": {
    "id": "qIBwOlH6_Jg4"
   },
   "outputs": [],
   "source": [
    "def relu(x):\n",
    "    \"\"\"\n",
    "    ReLU activation function.\n",
    "\n",
    "    Parameters:\n",
    "    - x: Input numpy array.\n",
    "\n",
    "    Returns:\n",
    "    - Output after applying ReLU.\n",
    "    \"\"\"\n",
    "    return np.maximum(0, x)\n",
    "\n",
    "def relu_derivative(x):\n",
    "    \"\"\"\n",
    "    Derivative of ReLU activation function.\n",
    "\n",
    "    Parameters:\n",
    "    - x: Input numpy array.\n",
    "\n",
    "    Returns:\n",
    "    - Derivative of ReLU.\n",
    "    \"\"\"\n",
    "    return np.where(x > 0, 1, 0)\n",
    "\n",
    "def sigmoid(x):\n",
    "    \"\"\"\n",
    "    Sigmoid activation function.\n",
    "\n",
    "    Parameters:\n",
    "    - x: Input numpy array.\n",
    "\n",
    "    Returns:\n",
    "    - Output after applying sigmoid.\n",
    "    \"\"\"\n",
    "    return 1 / (1 + np.exp(-x))\n",
    "\n",
    "def sigmoid_derivative(x):\n",
    "    \"\"\"\n",
    "    Derivative of sigmoid activation function.\n",
    "\n",
    "    Parameters:\n",
    "    - x: Input numpy array.\n",
    "\n",
    "    Returns:\n",
    "    - Derivative of sigmoid.\n",
    "    \"\"\"\n",
    "    sigmoid_x = sigmoid(x)\n",
    "    return sigmoid_x * (1 - sigmoid_x)"
   ]
  },
  {
   "cell_type": "markdown",
   "metadata": {
    "id": "h6HxkvToEDjr"
   },
   "source": [
    "TODO: Perform forward propagation through the network.\n",
    "\n",
    "    Parameters:\n",
    "    - X: Input data (shape: number of examples x input size).\n",
    "    - parameters: Dictionary containing weights and biases.\n",
    "\n",
    "    Returns:\n",
    "    - A2: Output of the network (after activation).\n",
    "    - cache: Dictionary containing intermediate values for backpropagation."
   ]
  },
  {
   "cell_type": "code",
   "execution_count": 127,
   "metadata": {
    "id": "4ylVbZoXECpn"
   },
   "outputs": [],
   "source": [
    "def forward_propagation(X, parameters):\n",
    "    \"\"\"\n",
    "    Perform forward propagation through the network.\n",
    "\n",
    "    Parameters:\n",
    "    - X: Input data (shape: number of examples x input size).\n",
    "    - parameters: Dictionary containing weights and biases.\n",
    "\n",
    "    Returns:\n",
    "    - A2: Output of the network (after activation).\n",
    "    - cache: Dictionary containing intermediate values for backpropagation.\n",
    "    \"\"\"\n",
    "    W1 = parameters['W1']\n",
    "    b1 = parameters['b1']\n",
    "    W2 = parameters['W2']\n",
    "    b2 = parameters['b2']\n",
    "\n",
    "    Z1 = np.dot(X, W1.T) + b1.T\n",
    "    A1 = relu(Z1)\n",
    "    Z2 = np.dot(A1, W2.T) + b2.T\n",
    "    A2 = sigmoid(Z2)\n",
    "    cache = {\"Z1\": Z1, \"A1\": A1, \"Z2\": Z2, \"A2\": A2}\n",
    "    return A2, cache"
   ]
  },
  {
   "cell_type": "markdown",
   "metadata": {
    "id": "-KtURRNUC_NP"
   },
   "source": [
    "TODO: Implement the loss function. Compute the categorical cross-entropy loss.\n",
    "\n",
    "    Parameters:\n",
    "    - y_true: True labels (one-hot encoded).\n",
    "    - y_pred: Predicted probabilities (output of the network).\n",
    "\n",
    "    Returns:\n",
    "    - loss: Computed loss."
   ]
  },
  {
   "cell_type": "code",
   "execution_count": 128,
   "metadata": {
    "id": "advoE8kEC-vk"
   },
   "outputs": [],
   "source": [
    "def compute_loss(y_true, y_pred):\n",
    "    \"\"\"\n",
    "    Compute the categorical cross-entropy loss.\n",
    "\n",
    "    Parameters:\n",
    "    - y_true: True labels (one-hot encoded).\n",
    "    - y_pred: Predicted probabilities (output of the network).\n",
    "\n",
    "    Returns:\n",
    "    - loss: Computed loss.\n",
    "    \"\"\"\n",
    "    m = y_true.shape[0]\n",
    "    epsilon = 1e-8\n",
    "    loss = -np.sum(y_true * np.log(y_pred + epsilon)) / m\n",
    "    \n",
    "    return loss"
   ]
  },
  {
   "cell_type": "markdown",
   "metadata": {
    "id": "s5V1D0jUDK3B"
   },
   "source": [
    "TODO: Implement backpropagation for the network and Perform backward propagation through the network.\n",
    "\n",
    "    Parameters:\n",
    "    - X: Input data.\n",
    "    - y_true: True labels.\n",
    "    - parameters: Dictionary containing weights and biases.\n",
    "    - cache: Intermediate values from forward propagation.\n",
    "\n",
    "    Returns:\n",
    "    - gradients: Dictionary containing gradients for weights and biases."
   ]
  },
  {
   "cell_type": "code",
   "execution_count": 129,
   "metadata": {
    "id": "4CxAo9FlBG18"
   },
   "outputs": [],
   "source": [
    "def backward_propagation(X, y_true, parameters, cache):\n",
    "    \"\"\"\n",
    "    Perform backward propagation through the network.\n",
    "\n",
    "    Parameters:\n",
    "    - X: Input data.\n",
    "    - y_true: True labels.\n",
    "    - parameters: Dictionary containing weights and biases.\n",
    "    - cache: Intermediate values from forward propagation.\n",
    "\n",
    "    Returns:\n",
    "    - gradients: Dictionary containing gradients for weights and biases.\n",
    "    \"\"\"\n",
    "    m = X.shape[0]\n",
    "    A1 = cache[\"A1\"]\n",
    "    Z1 = cache[\"Z1\"]\n",
    "    A2 = cache[\"A2\"]\n",
    "    \n",
    "    W1 = parameters[\"W1\"]\n",
    "    W2 = parameters[\"W2\"]\n",
    "    \n",
    "    dZ2 = A2 - y_true\n",
    "    dW2 = np.dot(dZ2.T, A1) / m\n",
    "    db2 = np.sum(dZ2, axis=0, keepdims=True).T / m\n",
    "    dA1 = np.dot(dZ2, W2) \n",
    "    dZ1 = dA1 * relu_derivative(Z1)\n",
    "    dW1 = np.dot(dZ1.T, X) / m\n",
    "    db1 = np.sum(dZ1, axis=0, keepdims=True).T / m\n",
    "    grads = {\"dW1\": dW1, \"db1\": db1[0], \"dW2\": dW2, \"db2\": db2[0]}\n",
    "    return grads"
   ]
  },
  {
   "cell_type": "markdown",
   "metadata": {
    "id": "LG2cvi3DDe4Q"
   },
   "source": [
    "TODO: Update the parameters using gradient descent.\n",
    "\n",
    "    Parameters:\n",
    "    - parameters: Current weights and biases.\n",
    "    - gradients: Calculated gradients.\n",
    "    - learning_rate: Learning rate for updates.\n",
    "\n",
    "    Returns:\n",
    "    - parameters: Updated weights and biases."
   ]
  },
  {
   "cell_type": "code",
   "execution_count": 130,
   "metadata": {
    "id": "9uMGXPGqDdk4"
   },
   "outputs": [],
   "source": [
    "def update_parameters(parameters, gradients, learning_rate=0.01):\n",
    "    \"\"\"\n",
    "    Update parameters using gradient descent.\n",
    "\n",
    "    Parameters:\n",
    "    - parameters: Current weights and biases.\n",
    "    - gradients: Calculated gradients.\n",
    "    - learning_rate: Learning rate for updates.\n",
    "\n",
    "    Returns:\n",
    "    - parameters: Updated weights and biases.\n",
    "    \"\"\"\n",
    "    W1 = parameters[\"W1\"]\n",
    "    b1 = parameters[\"b1\"]\n",
    "    W2 = parameters[\"W2\"]\n",
    "    b2 = parameters[\"b2\"]\n",
    "\n",
    "    dW1 = gradients[\"dW1\"]\n",
    "    db1 = gradients[\"db1\"]\n",
    "    dW2 = gradients[\"dW2\"]\n",
    "    db2 = gradients[\"db2\"]\n",
    "\n",
    "\n",
    "    W1 -= learning_rate * dW1\n",
    "    b1 -= learning_rate * db1\n",
    "    W2 -= learning_rate * dW2\n",
    "    b2 -= learning_rate * db2\n",
    "    \n",
    "    return {\"W1\": W1, \"b1\": b1, \"W2\": W2, \"b2\": b2}"
   ]
  },
  {
   "cell_type": "markdown",
   "metadata": {
    "id": "5E4UZg1SD2bM"
   },
   "source": [
    "TODO: Train the model by changing the hidden layer size (such as [32, 64, 128]) and observe the impact on network performance during training.\n",
    "\n",
    "    Train the neural network model.\n",
    "\n",
    "    Parameters:\n",
    "    - X_train: Training data.\n",
    "    - y_train: One-hot encoded labels.\n",
    "    - hidden_size: Number of neurons in the hidden layer.\n",
    "    - epochs: Number of training epochs.\n",
    "    - learning_rate: Learning rate for optimization."
   ]
  },
  {
   "cell_type": "code",
   "execution_count": 131,
   "metadata": {
    "colab": {
     "base_uri": "https://localhost:8080/"
    },
    "id": "GlsAvdUCDzSb",
    "outputId": "39851e5f-dea2-49d0-bdc0-3cbc5cbb08b5"
   },
   "outputs": [],
   "source": [
    "def train_model(X_train, y_train, hidden_size, epochs=50, learning_rate=0.01):\n",
    "    \"\"\"\n",
    "    Train the neural network model.\n",
    "\n",
    "    Parameters:\n",
    "    - X_train: Training data.\n",
    "    - y_train: One-hot encoded labels.\n",
    "    - hidden_size: Number of neurons in the hidden layer.\n",
    "    - epochs: Number of training epochs.\n",
    "    - learning_rate: Learning rate for optimization.\n",
    "    \"\"\"\n",
    "    input_size = X_train.shape[1]\n",
    "    output_size = y_train.shape[1]\n",
    "    parameters = initialize_parameters(input_size, hidden_size, output_size)\n",
    "\n",
    "    for epoch in range(epochs):\n",
    "        A2, cache = forward_propagation(X_train, parameters)\n",
    "        loss = compute_loss(y_train, A2)\n",
    "        gradients = backward_propagation(X_train, y_train, parameters, cache)\n",
    "        parameters = update_parameters(parameters, gradients, learning_rate)\n",
    "\n",
    "        if epoch % 10 == 0:\n",
    "            print(f\"Epoch {epoch}, Loss: {loss:.4f}\")\n",
    "    return parameters"
   ]
  },
  {
   "cell_type": "code",
   "execution_count": 132,
   "metadata": {},
   "outputs": [],
   "source": [
    "X_train_flat = x_train.reshape(x_train.shape[0], -1)\n",
    "X_test_flat = x_test.reshape(x_test.shape[0], -1)"
   ]
  },
  {
   "cell_type": "code",
   "execution_count": 137,
   "metadata": {},
   "outputs": [
    {
     "name": "stdout",
     "output_type": "stream",
     "text": [
      "Training with hidden layer size:  32\n",
      "Epoch 0, Loss: 0.5373\n",
      "Epoch 10, Loss: 1.2256\n",
      "Epoch 20, Loss: 1.7543\n",
      "Epoch 30, Loss: 1.9309\n",
      "Epoch 40, Loss: 1.9575\n",
      "\n",
      "Training with hidden layer size:  64\n",
      "Epoch 0, Loss: 0.7473\n",
      "Epoch 10, Loss: 1.5705\n",
      "Epoch 20, Loss: 1.8625\n",
      "Epoch 30, Loss: 1.9005\n",
      "Epoch 40, Loss: 1.8631\n",
      "\n",
      "Training with hidden layer size:  128\n",
      "Epoch 0, Loss: 0.7156\n",
      "Epoch 10, Loss: 1.7661\n",
      "Epoch 20, Loss: 1.8577\n",
      "Epoch 30, Loss: 1.7796\n",
      "Epoch 40, Loss: 1.6805\n",
      "\n"
     ]
    }
   ],
   "source": [
    "for hidden_size in [32, 64, 128]:\n",
    "    print(\"Training with hidden layer size: \", hidden_size)\n",
    "    train_model(X_train_flat, y_train, hidden_size)\n",
    "    print()"
   ]
  },
  {
   "cell_type": "markdown",
   "metadata": {
    "id": "YuCNlJCHKf1S"
   },
   "source": [
    "TODO: Implement Adam Optimizer\n",
    "\n",
    "1. Initialize Parameters: Create variables to store the moment estimates (first and second) for each parameter.\n",
    "\n",
    "    Parameters:\n",
    "    - parameters: Dictionary containing weights and biases.\n",
    "\n",
    "    Returns:\n",
    "    - v: First moment vector (initialized to zeros).\n",
    "    - s: Second moment vector (initialized to zeros).\n",
    "    - t: Time step (initialized to 0).\n",
    "\n",
    "2. Update Rules: Implement the update rules based on the gradients, learning rate, and moment estimates.\n"
   ]
  },
  {
   "cell_type": "code",
   "execution_count": 138,
   "metadata": {
    "id": "Iqy1_rfsKP8b"
   },
   "outputs": [],
   "source": [
    "def initialize_adam(parameters):\n",
    "    \"\"\"\n",
    "    Initialize the Adam optimizer variables.\n",
    "\n",
    "    Parameters:\n",
    "    - parameters: Dictionary containing weights and biases.\n",
    "\n",
    "    Returns:\n",
    "    - v: First moment vector (initialized to zeros).\n",
    "    - s: Second moment vector (initialized to zeros).\n",
    "    - t: Time step (initialized to 0).\n",
    "    \"\"\"\n",
    "    v = {}\n",
    "    s = {}\n",
    "    for key in parameters:\n",
    "        v[key] = np.zeros_like(parameters[key])\n",
    "        s[key] = np.zeros_like(parameters[key])\n",
    "    \n",
    "    t = 0\n",
    "    return v, s, t\n",
    "\n",
    "def update_parameters_with_adam(parameters, gradients, v, s, t, learning_rate=0.001, beta1=0.9, beta2=0.999, epsilon=1e-8):\n",
    "    \"\"\"\n",
    "    Update parameters using the Adam optimizer.\n",
    "\n",
    "    Parameters:\n",
    "    - parameters: Current weights and biases.\n",
    "    - gradients: Calculated gradients.\n",
    "    - v: First moment vector.\n",
    "    - s: Second moment vector.\n",
    "    - t: Time step.\n",
    "    - learning_rate: Learning rate for updates.\n",
    "    - beta1: Exponential decay rate for the first moment estimates.\n",
    "    - beta2: Exponential decay rate for the second moment estimates.\n",
    "    - epsilon: Small constant for numerical stability.\n",
    "\n",
    "    Returns:\n",
    "    - parameters: Updated weights and biases.\n",
    "    - v: Updated first moment vector.\n",
    "    - s: Updated second moment vector.\n",
    "    - t: Updated time step.\n",
    "    \"\"\"\n",
    "    t += 1\n",
    "    for key in parameters:\n",
    "        v[key] = beta1 * v[key] + (1 - beta1) * gradients[\"d\" + key]\n",
    "        s[key] = beta2 * s[key] + (1 - beta2) * (gradients[\"d\" + key] ** 2)\n",
    "        v_corrected = v[key] / (1 - beta1 ** t)\n",
    "        s_corrected = s[key] / (1 - beta2 ** t)\n",
    "        parameters[key] -= learning_rate * v_corrected / (np.sqrt(s_corrected) + epsilon)\n",
    "    \n",
    "    return parameters, v, s, t"
   ]
  },
  {
   "cell_type": "markdown",
   "metadata": {
    "id": "-mU6NQXdLQd_"
   },
   "source": [
    "TODO: Implement Adam optimizer into the training loop."
   ]
  },
  {
   "cell_type": "code",
   "execution_count": 139,
   "metadata": {
    "colab": {
     "base_uri": "https://localhost:8080/"
    },
    "id": "NMPqxphzKSv8",
    "outputId": "10d1696e-ad85-407e-def8-c2cbd424bb97"
   },
   "outputs": [],
   "source": [
    "def train_model_with_adam(X_train, y_train, hidden_size, epochs=50, learning_rate=0.001):\n",
    "    \"\"\"\n",
    "    Train the neural network model using Adam optimizer.\n",
    "\n",
    "    Parameters:\n",
    "    - X_train: Training data.\n",
    "    - y_train: One-hot encoded labels.\n",
    "    - hidden_size: Number of neurons in the hidden layer.\n",
    "    - epochs: Number of training epochs.\n",
    "    - learning_rate: Learning rate for optimization.\n",
    "    \"\"\"\n",
    "    input_size = X_train.shape[1]\n",
    "    output_size = y_train.shape[1]\n",
    "    parameters = initialize_parameters(input_size, hidden_size, output_size)\n",
    "\n",
    "    v, s, t = initialize_adam(parameters)\n",
    "    for epoch in range(epochs):\n",
    "        A2, cache = forward_propagation(X_train, parameters)\n",
    "        loss = compute_loss(y_train, A2)\n",
    "        gradients = backward_propagation(X_train, y_train, parameters, cache)\n",
    "        parameters, v, s, t = update_parameters_with_adam(parameters, gradients, v, s, t, learning_rate)\n",
    "        if epoch % 10 == 0:\n",
    "            print(f\"Epoch {epoch}, Loss: {loss:.4f}\")\n",
    "    \n",
    "    return parameters"
   ]
  },
  {
   "cell_type": "code",
   "execution_count": 140,
   "metadata": {},
   "outputs": [
    {
     "name": "stdout",
     "output_type": "stream",
     "text": [
      "Training with hidden layer size:  32\n",
      "Epoch 0, Loss: 0.5373\n",
      "Epoch 10, Loss: 1.2798\n",
      "Epoch 20, Loss: 2.1093\n",
      "Epoch 30, Loss: 2.0924\n",
      "Epoch 40, Loss: 1.7129\n",
      "\n",
      "Training with hidden layer size:  64\n",
      "Epoch 0, Loss: 0.7473\n",
      "Epoch 10, Loss: 1.9936\n",
      "Epoch 20, Loss: 2.0123\n",
      "Epoch 30, Loss: 1.2836\n",
      "Epoch 40, Loss: 1.0175\n",
      "\n",
      "Training with hidden layer size:  128\n",
      "Epoch 0, Loss: 0.7156\n",
      "Epoch 10, Loss: 2.2204\n",
      "Epoch 20, Loss: 1.1551\n",
      "Epoch 30, Loss: 0.9040\n",
      "Epoch 40, Loss: 0.9333\n",
      "\n"
     ]
    }
   ],
   "source": [
    "for hidden_size in [32, 64, 128]:\n",
    "    print(\"Training with hidden layer size: \", hidden_size)\n",
    "    train_model_with_adam(X_train_flat, y_train, hidden_size)\n",
    "    print()"
   ]
  },
  {
   "cell_type": "markdown",
   "metadata": {
    "id": "fEZVkGGplXP4"
   },
   "source": [
    "### Compare Adam and RMSprop\n"
   ]
  },
  {
   "cell_type": "markdown",
   "metadata": {
    "id": "7BxQoqf8ak2k"
   },
   "source": [
    "TODO: First, implement the RMSprop optimizer. The RMSprop optimizer uses a moving average of squared gradients to normalize the gradient, which helps to stabilize the updates."
   ]
  },
  {
   "cell_type": "code",
   "execution_count": 141,
   "metadata": {
    "id": "117xMpE6avQ2"
   },
   "outputs": [],
   "source": [
    "def initialize_rmsprop(parameters):\n",
    "    \"\"\"\n",
    "    Initialize the RMSprop variables.\n",
    "\n",
    "    Parameters:\n",
    "    - parameters: Dictionary containing weights and biases.\n",
    "\n",
    "    Returns:\n",
    "    - s: Second moment vector (initialized to zeros).\n",
    "    \"\"\"\n",
    "    s = {}\n",
    "    for key in parameters:\n",
    "        s[key] = np.zeros_like(parameters[key])\n",
    "    return s\n",
    "\n",
    "def update_parameters_with_rmsprop(parameters, gradients, s, learning_rate=0.001, beta=0.9, epsilon=1e-8):\n",
    "    \"\"\"\n",
    "    Update parameters using the RMSprop optimizer.\n",
    "\n",
    "    Parameters:\n",
    "    - parameters: Current weights and biases.\n",
    "    - gradients: Calculated gradients.\n",
    "    - s: Second moment vector.\n",
    "    - learning_rate: Learning rate for updates.\n",
    "    - beta: Exponential decay rate for the second moment estimates.\n",
    "    - epsilon: Small constant for numerical stability.\n",
    "\n",
    "    Returns:\n",
    "    - parameters: Updated weights and biases.\n",
    "    - s: Updated second moment vector.\n",
    "    \"\"\"\n",
    "    for key in parameters:\n",
    "        s[key] = beta * s[key] + (1 - beta) * (gradients[\"d\" + key] ** 2)\n",
    "        parameters[key] -= learning_rate * gradients[\"d\" + key] / (np.sqrt(s[key]) + epsilon)\n",
    "    \n",
    "    return parameters, s"
   ]
  },
  {
   "cell_type": "markdown",
   "metadata": {
    "id": "GWJg1GjFayY2"
   },
   "source": [
    "TODO: Modify the training loop to allow for both optimizers and store the loss history for comparison."
   ]
  },
  {
   "cell_type": "code",
   "execution_count": 142,
   "metadata": {
    "id": "iwcuRTkja5pT"
   },
   "outputs": [],
   "source": [
    "def train_model(X_train, y_train, hidden_size, epochs=50, learning_rate=0.001, optimizer='adam'):\n",
    "    \"\"\"\n",
    "    Train the neural network model using specified optimizer.\n",
    "\n",
    "    Parameters:\n",
    "    - X_train: Training data.\n",
    "    - y_train: One-hot encoded labels.\n",
    "    - hidden_size: Number of neurons in the hidden layer.\n",
    "    - epochs: Number of training epochs.\n",
    "    - learning_rate: Learning rate for optimization.\n",
    "    - optimizer: The optimizer to use ('adam' or 'rmsprop').\n",
    "\n",
    "    Returns:\n",
    "    - loss_history: List of loss values over epochs.\n",
    "    \"\"\"\n",
    "    \n",
    "    input_size = X_train.shape[1]\n",
    "    output_size = y_train.shape[1]\n",
    "    parameters = initialize_parameters(input_size, hidden_size, output_size)\n",
    "    loss_history = []\n",
    "    if optimizer == \"adam\":\n",
    "        v, s, t = initialize_adam(parameters) \n",
    "    else:\n",
    "        s = initialize_rmsprop(parameters)\n",
    "\n",
    "    for epoch in range(epochs):\n",
    "        A2, cache = forward_propagation(X_train, parameters)\n",
    "        loss = compute_loss(y_train, A2)\n",
    "        loss_history.append(loss)\n",
    "        gradients = backward_propagation(X_train, y_train, parameters, cache)\n",
    "        if optimizer == \"adam\":\n",
    "            parameters, v, s, t = update_parameters_with_adam(parameters, gradients, v, s, t, learning_rate)\n",
    "        else:\n",
    "            parameters, s = update_parameters_with_rmsprop(parameters, gradients, s, learning_rate)\n",
    "\n",
    "        if epoch % 10 == 0:\n",
    "            print(f\"Epoch {epoch}, Loss ({optimizer}): {loss:.4f}\")\n",
    "\n",
    "    return parameters, loss_history  "
   ]
  },
  {
   "cell_type": "markdown",
   "metadata": {
    "id": "g5cPzN1ma9Xi"
   },
   "source": [
    "TODO:  Compare Both Optimizers. Create a function to train the model using both optimizers and plot the loss histories for comparison."
   ]
  },
  {
   "cell_type": "code",
   "execution_count": 143,
   "metadata": {
    "colab": {
     "base_uri": "https://localhost:8080/",
     "height": 801
    },
    "id": "-z5eRURgbDIG",
    "outputId": "a292b2ab-8d4f-456b-b32f-6bff5cc18205"
   },
   "outputs": [
    {
     "name": "stdout",
     "output_type": "stream",
     "text": [
      "Training with adam optimizer...\n",
      "Epoch 0, Loss (adam): 0.7473\n",
      "Epoch 10, Loss (adam): 1.9936\n",
      "Epoch 20, Loss (adam): 2.0123\n",
      "Epoch 30, Loss (adam): 1.2836\n",
      "Epoch 40, Loss (adam): 1.0175\n",
      "Training with rmsprop optimizer...\n",
      "Epoch 0, Loss (rmsprop): 0.7473\n",
      "Epoch 10, Loss (rmsprop): 1.4447\n",
      "Epoch 20, Loss (rmsprop): 1.1089\n",
      "Epoch 30, Loss (rmsprop): 0.9324\n",
      "Epoch 40, Loss (rmsprop): 0.8056\n"
     ]
    },
    {
     "data": {
      "image/png": "[encoded data removed]",
      "text/plain": [
       "<Figure size 1000x600 with 1 Axes>"
      ]
     },
     "metadata": {},
     "output_type": "display_data"
    }
   ],
   "source": [
    "def compare_optimizers(X_train, y_train, hidden_size, epochs=50):\n",
    "    \"\"\"\n",
    "    Compare the Adam and RMSprop optimizers.\n",
    "\n",
    "    Parameters:\n",
    "    - X_train: Training data.\n",
    "    - y_train: One-hot encoded labels.\n",
    "    - hidden_size: Number of neurons in the hidden layer.\n",
    "    - epochs: Number of training epochs.\n",
    "    \"\"\"\n",
    "\n",
    "    print(\"Training with adam optimizer...\")\n",
    "    _, adam_loss = train_model(X_train, y_train, hidden_size, epochs, learning_rate = 0.001, optimizer=\"adam\")\n",
    "    print(\"Training with rmsprop optimizer...\")\n",
    "    _, rms_loss = train_model(X_train, y_train, hidden_size, epochs, learning_rate = 0.001, optimizer=\"rmsprop\")\n",
    "    \n",
    "    plt.figure(figsize=(10, 6))\n",
    "    plt.plot(range(1, epochs + 1), adam_loss, label='Adam loss', color='blue')\n",
    "    plt.plot(range(1, epochs + 1), rms_loss, label='RMSprop loss', color='orange')\n",
    "    plt.title('Loss Comparison between Adam and RMSprop')\n",
    "    plt.xlabel('Epochs')\n",
    "    plt.ylabel('Loss')\n",
    "    plt.legend()\n",
    "    plt.grid(True)\n",
    "    plt.show()\n",
    "\n",
    "    return adam_loss, rms_loss\n",
    "\n",
    "adam_loss, rms_loss = compare_optimizers(X_train_flat, y_train, 64)"
   ]
  },
  {
   "cell_type": "markdown",
   "metadata": {
    "id": "pueHFmTUlXP5"
   },
   "source": [
    "## Stochastic Gradient Descent (SGD)"
   ]
  },
  {
   "cell_type": "markdown",
   "metadata": {
    "id": "3zrSW4LilXP5"
   },
   "source": [
    "### Impact of Different Learning Rates on SGD\n"
   ]
  },
  {
   "cell_type": "markdown",
   "metadata": {
    "id": "BU9BiBsKcWjb"
   },
   "source": [
    "Explore the impact of different learning rates on the training dynamics and performance of Stochastic Gradient Descent (SGD). This will allow us to observe how the learning rate affects convergence speed, stability, and final performance.\n",
    "\n",
    "Steps for Implementing the Experiment\n",
    "\n",
    "1. Define the SGD Optimizer: Implement a simple SGD optimizer.\n",
    "2. Modify the Training Loop: Allow for different learning rates.\n",
    "3. Train the Model: Run the training process with a set of predefined learning rates.\n",
    "4. Visualize the Results: Plot the loss curves for each learning rate to compare their effects"
   ]
  },
  {
   "cell_type": "markdown",
   "metadata": {
    "id": "vDRSuNVrcvVI"
   },
   "source": [
    "1. Implement SGD Optimizer\n"
   ]
  },
  {
   "cell_type": "code",
   "execution_count": 144,
   "metadata": {
    "id": "r9UE2OHfcwCe"
   },
   "outputs": [],
   "source": [
    "def update_parameters_with_sgd(parameters, gradients, learning_rate=0.01):\n",
    "    \"\"\"\n",
    "    Update parameters using Stochastic Gradient Descent (SGD).\n",
    "\n",
    "    Parameters:\n",
    "    - parameters: Current weights and biases.\n",
    "    - gradients: Calculated gradients.\n",
    "    - learning_rate: Learning rate for updates.\n",
    "\n",
    "    Returns:\n",
    "    - parameters: Updated weights and biases.\n",
    "    \"\"\"\n",
    "    for key in parameters:\n",
    "        parameters[key] -= learning_rate * gradients[\"d\" + key]\n",
    "    return parameters"
   ]
  },
  {
   "cell_type": "markdown",
   "metadata": {
    "id": "O4qIjyg9cyXB"
   },
   "source": [
    "2. Modify the Training Loop\n"
   ]
  },
  {
   "cell_type": "code",
   "execution_count": 145,
   "metadata": {
    "id": "U1gKM56IdBH-"
   },
   "outputs": [],
   "source": [
    "def train_model_with_sgd(X_train, y_train, hidden_size, epochs=50, learning_rate=0.01):\n",
    "    \"\"\"\n",
    "    Train the neural network model using SGD optimizer.\n",
    "\n",
    "    Parameters:\n",
    "    - X_train: Training data.\n",
    "    - y_train: One-hot encoded labels.\n",
    "    - hidden_size: Number of neurons in the hidden layer.\n",
    "    - epochs: Number of training epochs.\n",
    "    - learning_rate: Learning rate for optimization.\n",
    "\n",
    "    Returns:\n",
    "    - loss_history: List of loss values over epochs.\n",
    "    \"\"\"\n",
    "    input_size = X_train.shape[1]\n",
    "    output_size = y_train.shape[1]\n",
    "\n",
    "    parameters = initialize_parameters(input_size, hidden_size, output_size)\n",
    "    loss_history = []\n",
    "    \n",
    "    for epoch in range(epochs):\n",
    "        A2, cache = forward_propagation(X_train, parameters)\n",
    "        loss = compute_loss(y_train, A2)\n",
    "        loss_history.append(loss)\n",
    "        gradients = backward_propagation(X_train, y_train, parameters, cache)\n",
    "        parameters = update_parameters_with_sgd(parameters, gradients, learning_rate)\n",
    "        if epoch % 10 == 0:\n",
    "            print(f\"Epoch {epoch}, Loss : {loss:.4f}\")\n",
    "\n",
    "    return parameters, loss_history  "
   ]
  },
  {
   "cell_type": "markdown",
   "metadata": {
    "id": "CeQpjFQHdD4v"
   },
   "source": [
    "3. Experiment with Different Learning Rates\n"
   ]
  },
  {
   "cell_type": "code",
   "execution_count": 146,
   "metadata": {
    "colab": {
     "base_uri": "https://localhost:8080/",
     "height": 948
    },
    "id": "FvFIXxFRdGDv",
    "outputId": "034c4386-19bc-4869-c0f8-693c698eb9fe"
   },
   "outputs": [],
   "source": [
    "def compare_learning_rates(X_train, y_train, hidden_size, epochs=50, learning_rates=[0.001, 0.01, 0.1]):\n",
    "    \"\"\"\n",
    "    Compare the performance of SGD with different learning rates.\n",
    "\n",
    "    Parameters:\n",
    "    - X_train: Training data.\n",
    "    - y_train: One-hot encoded labels.\n",
    "    - hidden_size: Number of neurons in the hidden layer.\n",
    "    - epochs: Number of training epochs.\n",
    "    - learning_rates: List of learning rates to test.\n",
    "    \"\"\"\n",
    "    \n",
    "    losses = {}\n",
    "    for learning_rate in learning_rates:\n",
    "        print(f\"Training with learning rate: {learning_rate}\")\n",
    "        _, loss = train_model_with_sgd(X_train, y_train, hidden_size, epochs=epochs, learning_rate=learning_rate)\n",
    "        losses[f\"{learning_rate}\"] = loss\n",
    "        print()\n",
    "    \n",
    "    plt.figure(figsize=(10, 6))\n",
    "    plt.plot(range(1, epochs + 1), losses['0.001'], label='0.001', color='blue')\n",
    "    plt.plot(range(1, epochs + 1), losses['0.01'], label='0.01', color='orange')\n",
    "    plt.plot(range(1, epochs + 1), losses['0.1'], label='0.1', color='green')\n",
    "    plt.title('Loss Comparison for different learning rate (SGD)')\n",
    "    plt.xlabel('Epochs')\n",
    "    plt.ylabel('Loss')\n",
    "    plt.legend()\n",
    "    plt.grid(True)\n",
    "    plt.show()\n",
    "    \n",
    "    return losses"
   ]
  },
  {
   "cell_type": "code",
   "execution_count": 147,
   "metadata": {},
   "outputs": [
    {
     "name": "stdout",
     "output_type": "stream",
     "text": [
      "Training with learning rate: 0.001\n",
      "Epoch 0, Loss : 0.7473\n",
      "Epoch 10, Loss : 0.8478\n",
      "Epoch 20, Loss : 0.9436\n",
      "Epoch 30, Loss : 1.0356\n",
      "Epoch 40, Loss : 1.1237\n",
      "\n",
      "Training with learning rate: 0.01\n",
      "Epoch 0, Loss : 0.7473\n",
      "Epoch 10, Loss : 1.5705\n",
      "Epoch 20, Loss : 1.8625\n",
      "Epoch 30, Loss : 1.9005\n",
      "Epoch 40, Loss : 1.8631\n",
      "\n",
      "Training with learning rate: 0.1\n",
      "Epoch 0, Loss : 0.7473\n",
      "Epoch 10, Loss : 1.5985\n",
      "Epoch 20, Loss : 1.2258\n",
      "Epoch 30, Loss : 1.0506\n",
      "Epoch 40, Loss : 0.9573\n",
      "\n"
     ]
    },
    {
     "data": {
      "image/png": "[encoded data removed]",
      "text/plain": [
       "<Figure size 1000x600 with 1 Axes>"
      ]
     },
     "metadata": {},
     "output_type": "display_data"
    }
   ],
   "source": [
    "losses = compare_learning_rates(X_train_flat, y_train, 64, epochs=50)"
   ]
  },
  {
   "cell_type": "markdown",
   "metadata": {
    "id": "IXxuYU7llXP6"
   },
   "source": [
    "### SGD with Momentum vs. Classic SGD\n"
   ]
  },
  {
   "cell_type": "markdown",
   "metadata": {
    "id": "R8dcD51aepnC"
   },
   "source": [
    "TODO: Compare Stochastic Gradient Descent (SGD) with momentum and classic SGD, you can set up an experiment that trains the same model using both methods. This will help you observe differences in convergence speed and stability.\n",
    "\n",
    "Steps for Implementing the Comparison:\n",
    "\n",
    "1. Implement Classic SGD: Ensure you have a basic SGD implementation.(already implemented in the previous cells)\n",
    "\n",
    "2. Implement SGD with Momentum: Add a momentum version of the SGD optimizer.\n",
    "\n",
    "3. Modify the Training Loop: Allow for both optimizers in the training process.\n",
    "\n",
    "4. Train the Model: Run the training process using both optimizers.\n",
    "\n",
    "5. Visualize the Results: Plot the loss curves for each optimizer to compare their performance."
   ]
  },
  {
   "cell_type": "markdown",
   "metadata": {
    "id": "9-czqAXNe_nQ"
   },
   "source": [
    "2. Implement SGD with Momentum\n"
   ]
  },
  {
   "cell_type": "code",
   "execution_count": 148,
   "metadata": {
    "id": "8uzLkhWcfB6a"
   },
   "outputs": [],
   "source": [
    "def initialize_momentum(parameters):\n",
    "    \"\"\"\n",
    "    Initialize the momentum variables.\n",
    "\n",
    "    Parameters:\n",
    "    - parameters: Dictionary containing weights and biases.\n",
    "\n",
    "    Returns:\n",
    "    - v: Momentum variable (initialized to zeros).\n",
    "    \"\"\"\n",
    "    v = {}\n",
    "    for key in parameters:\n",
    "        v[key] = np.zeros_like(parameters[key])\n",
    "    return v\n",
    "\n",
    "def update_parameters_with_momentum(parameters, gradients, v, learning_rate=0.01, beta=0.9):\n",
    "    \"\"\"\n",
    "    Update parameters using SGD with momentum.\n",
    "\n",
    "    Parameters:\n",
    "    - parameters: Current weights and biases.\n",
    "    - gradients: Calculated gradients.\n",
    "    - v: Momentum variable.\n",
    "    - learning_rate: Learning rate for updates.\n",
    "    - beta: Exponential decay rate for momentum.\n",
    "\n",
    "    Returns:\n",
    "    - parameters: Updated weights and biases.\n",
    "    - v: Updated momentum variable.\n",
    "    \"\"\"\n",
    "    for key in parameters:\n",
    "        v[key] = beta * v[key] + (1 - beta) * gradients[\"d\" + key]\n",
    "        parameters[key] -= learning_rate * v[key]\n",
    "\n",
    "    return parameters, v"
   ]
  },
  {
   "cell_type": "markdown",
   "metadata": {
    "id": "k_DvOLijfIFK"
   },
   "source": [
    "3. Modify the Training Loop\n"
   ]
  },
  {
   "cell_type": "code",
   "execution_count": 149,
   "metadata": {
    "id": "uz3jxDtCfIuA"
   },
   "outputs": [],
   "source": [
    "def train_model(X_train, y_train, hidden_size, epochs=50, learning_rate=0.01, optimizer='sgd'):\n",
    "    \"\"\"\n",
    "    Train the neural network model using specified optimizer.\n",
    "\n",
    "    Parameters:\n",
    "    - X_train: Training data.\n",
    "    - y_train: One-hot encoded labels.\n",
    "    - hidden_size: Number of neurons in the hidden layer.\n",
    "    - epochs: Number of training epochs.\n",
    "    - learning_rate: Learning rate for optimization.\n",
    "    - optimizer: The optimizer to use ('sgd' or 'momentum').\n",
    "\n",
    "    Returns:\n",
    "    - loss_history: List of loss values over epochs.\n",
    "    \"\"\"\n",
    "    input_size = X_train.shape[1]\n",
    "    output_size = y_train.shape[1]\n",
    "    parameters = initialize_parameters(input_size, hidden_size, output_size)\n",
    "    if optimizer == \"momentum\":\n",
    "        v = initialize_momentum(parameters)\n",
    "    loss_history = []\n",
    "    \n",
    "    for epoch in range(epochs):\n",
    "        A2, cache = forward_propagation(X_train, parameters)\n",
    "        loss = compute_loss(y_train, A2)\n",
    "        loss_history.append(loss)\n",
    "        gradients = backward_propagation(X_train, y_train, parameters, cache)\n",
    "        if optimizer == \"momentum\":\n",
    "            parameters, v = update_parameters_with_momentum(parameters, gradients, v, learning_rate)\n",
    "        else:\n",
    "            parameters = update_parameters_with_sgd(parameters, gradients, learning_rate)\n",
    "        if epoch % 10 == 0:\n",
    "            print(f\"Epoch {epoch}, Loss : {loss:.4f}\")\n",
    "\n",
    "    return parameters, loss_history"
   ]
  },
  {
   "cell_type": "markdown",
   "metadata": {
    "id": "wVbv6XeYfLbf"
   },
   "source": [
    "4. Train the Model with Both Optimizers\n"
   ]
  },
  {
   "cell_type": "code",
   "execution_count": 150,
   "metadata": {
    "colab": {
     "base_uri": "https://localhost:8080/",
     "height": 801
    },
    "id": "0zEcNXJGfOTf",
    "outputId": "3d69406a-d63b-4960-ea0a-7680fd4ab5ad"
   },
   "outputs": [],
   "source": [
    "def compare_sgd_and_momentum(X_train, y_train, hidden_size, epochs=50):\n",
    "    \"\"\"\n",
    "    Compare the performance of classic SGD and SGD with momentum.\n",
    "\n",
    "    Parameters:\n",
    "    - X_train: Training data.\n",
    "    - y_train: One-hot encoded labels.\n",
    "    - hidden_size: Number of neurons in the hidden layer.\n",
    "    - epochs: Number of training epochs.\n",
    "    \"\"\"\n",
    "    print(\"Training with Classic SGD...\")\n",
    "    _, loss_sgd = train_model(X_train, y_train, hidden_size, epochs=epochs, learning_rate=0.01, optimizer=\"sgd\")\n",
    "    print(\"Training with SGD with Momentum...\")\n",
    "    _, loss_momentum = train_model(X_train, y_train, hidden_size, epochs=epochs, learning_rate=0.01, optimizer=\"momentum\")\n",
    "    \n",
    "    plt.figure(figsize=(10, 6))\n",
    "    plt.plot(range(1, epochs + 1), loss_sgd, label=\"SGD\", linestyle=\"-\")\n",
    "    plt.plot(range(1, epochs + 1), loss_momentum, label=\"Momentum\", linestyle=\"-\")\n",
    "    plt.xlabel(\"Epochs\")\n",
    "    plt.ylabel(\"Loss\")\n",
    "    plt.title(\"Loss Comparison: SGD vs. Momentum\")\n",
    "    plt.legend()\n",
    "    plt.grid(True)\n",
    "    plt.show()\n",
    "\n",
    "    return loss_sgd, loss_momentum"
   ]
  },
  {
   "cell_type": "code",
   "execution_count": 151,
   "metadata": {},
   "outputs": [
    {
     "name": "stdout",
     "output_type": "stream",
     "text": [
      "Training with Classic SGD...\n",
      "Epoch 0, Loss : 0.7473\n",
      "Epoch 10, Loss : 1.5705\n",
      "Epoch 20, Loss : 1.8625\n",
      "Epoch 30, Loss : 1.9005\n",
      "Epoch 40, Loss : 1.8631\n",
      "Training with SGD with Momentum...\n",
      "Epoch 0, Loss : 0.7473\n",
      "Epoch 10, Loss : 1.1965\n",
      "Epoch 20, Loss : 1.9905\n",
      "Epoch 30, Loss : 2.3805\n",
      "Epoch 40, Loss : 2.2500\n"
     ]
    },
    {
     "data": {
      "image/png": "[encoded data removed]",
      "text/plain": [
       "<Figure size 1000x600 with 1 Axes>"
      ]
     },
     "metadata": {},
     "output_type": "display_data"
    }
   ],
   "source": [
    "loss_sgd, loss_momentum = compare_sgd_and_momentum(X_train_flat, y_train, 64)"
   ]
  },
  {
   "cell_type": "markdown",
   "metadata": {
    "id": "OhaXIjuClXP6"
   },
   "source": [
    "## Mini-Batch Gradient Descent"
   ]
  },
  {
   "cell_type": "markdown",
   "metadata": {
    "id": "wpBVHm6elXP6"
   },
   "source": [
    "### Mini-Batch Size Optimization"
   ]
  },
  {
   "cell_type": "markdown",
   "metadata": {
    "id": "rUDwKXOAgc2h"
   },
   "source": [
    "TODO: Investigate how different mini-batch sizes affect model performance, you can set up an experiment where you train the same model using various mini-batch sizes.\n",
    "\n",
    "Steps for Implementing the Mini-Batch Size Experiment\n",
    "\n",
    "1. Modify the Training Loop: Update the training loop to use mini-batches.\n",
    "2. Train the Model: Run the training process with a set of predefined mini-batch sizes.\n",
    "3. Evaluate Performance: Track training time and accuracy for each mini-batch size.\n",
    "4. Print the training losses and accuracies for comparison."
   ]
  },
  {
   "cell_type": "markdown",
   "metadata": {
    "id": "sz2dJu_PgvJH"
   },
   "source": [
    "1. Modify the Training Loop for Mini-Batches\n"
   ]
  },
  {
   "cell_type": "code",
   "execution_count": 157,
   "metadata": {
    "id": "2eBWqUKwgqqN"
   },
   "outputs": [],
   "source": [
    "def train_model_with_mini_batches(X_train, y_train, hidden_size, epochs=50, learning_rate=0.01, batch_size=32):\n",
    "    \"\"\"\n",
    "    Train the neural network model using mini-batches.\n",
    "\n",
    "    Parameters:\n",
    "    - X_train: Training data.\n",
    "    - y_train: One-hot encoded labels.\n",
    "    - hidden_size: Number of neurons in the hidden layer.\n",
    "    - epochs: Number of training epochs.\n",
    "    - learning_rate: Learning rate for optimization.\n",
    "    - batch_size: Size of mini-batches.\n",
    "\n",
    "    Returns:\n",
    "    - loss_history: List of loss values over epochs.\n",
    "    - accuracy_history: List of accuracy values over epochs.\n",
    "    \"\"\"\n",
    "    input_size = X_train.shape[1]\n",
    "    output_size = y_train.shape[1]\n",
    "\n",
    "    parameters = initialize_parameters(input_size, hidden_size, output_size)\n",
    "    loss_hist = []\n",
    "    accuracy_hist = []\n",
    "    m = X_train.shape[0]\n",
    "\n",
    "    for epoch in range(epochs):\n",
    "        permutation = np.random.permutation(m)\n",
    "        X_shuffled = X_train[permutation]\n",
    "        y_shuffled = y_train[permutation]\n",
    "        epoch_loss = 0\n",
    "        epoch_accuracy = 0\n",
    "\n",
    "        for i in range(0, m, batch_size):\n",
    "            x = X_shuffled[i:i+batch_size]\n",
    "            y = y_shuffled[i:i+batch_size]\n",
    "            A2, cache = forward_propagation(x, parameters)\n",
    "\n",
    "            loss = compute_loss(y, A2)\n",
    "            epoch_loss += loss * x.shape[0]/m\n",
    "\n",
    "            epoch_accuracy += np.sum(np.argmax(A2, axis=1) == np.argmax(y, axis=1))/m\n",
    "\n",
    "            grads = backward_propagation(x, y, parameters, cache)\n",
    "            parameters = update_parameters_with_sgd(parameters, grads, learning_rate)\n",
    "        \n",
    "        loss_hist.append(epoch_loss)\n",
    "        accuracy_hist.append(epoch_accuracy)\n",
    "\n",
    "        if epoch % 10 == 0:\n",
    "            print(f\"Epoch {epoch}, loss = {epoch_loss:.4f}, accuracy = {epoch_accuracy:.4f}\")\n",
    "    \n",
    "    return loss_hist, accuracy_hist"
   ]
  },
  {
   "cell_type": "markdown",
   "metadata": {
    "id": "ja1aWHjwgwMl"
   },
   "source": [
    "2. Train the Model with Different Mini-Batch Sizes\n"
   ]
  },
  {
   "cell_type": "code",
   "execution_count": 160,
   "metadata": {
    "colab": {
     "base_uri": "https://localhost:8080/"
    },
    "id": "R7vvj-y_is_k",
    "outputId": "7bca490c-a4a5-4865-8448-37d26546cfc5"
   },
   "outputs": [],
   "source": [
    "def compare_mini_batch_sizes(X_train, y_train, hidden_size, epochs=50, batch_sizes=[16, 32, 64]):\n",
    "    \"\"\"\n",
    "    Compare the performance of different mini-batch sizes and print results.\n",
    "\n",
    "    Parameters:\n",
    "    - X_train: Training data.\n",
    "    - y_train: One-hot encoded labels.\n",
    "    - hidden_size: Number of neurons in the hidden layer.\n",
    "    - epochs: Number of training epochs.\n",
    "    - batch_sizes: List of mini-batch sizes to test.\n",
    "    \"\"\"\n",
    "    for batch_size in batch_sizes:\n",
    "        print(\"Training with mini-batch size: \", batch_size)\n",
    "        loss_hist, accuracy_hist = train_model_with_mini_batches(X_train, y_train, hidden_size, epochs=epochs, learning_rate=0.01, batch_size=batch_size)\n",
    "        print(f\"Final Loss for batch size {batch_size} : {loss_hist[-1]:.4f}\")\n",
    "        print(f\"Final Accuracy for batch size {batch_size} : {accuracy_hist[-1]:.4f}\")\n",
    "        print()"
   ]
  },
  {
   "cell_type": "code",
   "execution_count": 161,
   "metadata": {},
   "outputs": [
    {
     "name": "stdout",
     "output_type": "stream",
     "text": [
      "Training with mini-batch size:  16\n",
      "Epoch 0, loss = 0.7372, accuracy = 0.7511\n",
      "Epoch 10, loss = 0.3636, accuracy = 0.8770\n",
      "Epoch 20, loss = 0.3173, accuracy = 0.8930\n",
      "Epoch 30, loss = 0.2887, accuracy = 0.9038\n",
      "Epoch 40, loss = 0.2670, accuracy = 0.9117\n",
      "Final Loss for batch size 16 : 0.2526\n",
      "Final Accuracy for batch size 16 : 0.9155\n",
      "\n",
      "Training with mini-batch size:  32\n",
      "Epoch 0, loss = 0.8587, accuracy = 0.7123\n",
      "Epoch 10, loss = 0.4134, accuracy = 0.8623\n",
      "Epoch 20, loss = 0.3599, accuracy = 0.8805\n",
      "Epoch 30, loss = 0.3299, accuracy = 0.8896\n",
      "Epoch 40, loss = 0.3082, accuracy = 0.8977\n",
      "Final Loss for batch size 32 : 0.2935\n",
      "Final Accuracy for batch size 32 : 0.9022\n",
      "\n",
      "Training with mini-batch size:  64\n",
      "Epoch 0, loss = 1.0211, accuracy = 0.6613\n",
      "Epoch 10, loss = 0.4689, accuracy = 0.8453\n",
      "Epoch 20, loss = 0.4116, accuracy = 0.8631\n",
      "Epoch 30, loss = 0.3800, accuracy = 0.8740\n",
      "Epoch 40, loss = 0.3580, accuracy = 0.8820\n",
      "Final Loss for batch size 64 : 0.3429\n",
      "Final Accuracy for batch size 64 : 0.8861\n",
      "\n"
     ]
    }
   ],
   "source": [
    "compare_mini_batch_sizes(X_train_flat, y_train, 64)"
   ]
  },
  {
   "cell_type": "markdown",
   "metadata": {
    "id": "wb3WXFgMlXP7"
   },
   "source": [
    "### Mini-Batch vs. Full-Batch Gradient Descent\n"
   ]
  },
  {
   "cell_type": "markdown",
   "metadata": {
    "id": "vVvy9f6PlPCS"
   },
   "source": [
    "TODO: Compare the efficiency and performance of mini-batch gradient descent against full-batch gradient descent.\n",
    "\n",
    "1. Implement Full-Batch Gradient Descent: Ensure you have a full-batch gradient descent implementation.\n",
    "\n",
    "2. Modify the Training Loop: Allow the training loop to handle both mini-batch and full-batch scenarios.\n",
    "\n",
    "3. Train the Model: Run the training process using both methods and track their performance.\n",
    "\n",
    "4. Print Results: Display the final loss and accuracy for both methods along with training times."
   ]
  },
  {
   "cell_type": "code",
   "execution_count": 164,
   "metadata": {
    "id": "tlTYBB2tlgBG"
   },
   "outputs": [],
   "source": [
    "def train_model_full_batch(X_train, y_train, hidden_size, epochs=50, learning_rate=0.01):\n",
    "    \"\"\"\n",
    "    Train the neural network model using full-batch gradient descent.\n",
    "\n",
    "    Parameters:\n",
    "    - X_train: Training data.\n",
    "    - y_train: One-hot encoded labels.\n",
    "    - hidden_size: Number of neurons in the hidden layer.\n",
    "    - epochs: Number of training epochs.\n",
    "    - learning_rate: Learning rate for optimization.\n",
    "\n",
    "    Returns:\n",
    "    - loss_history: List of loss values over epochs.\n",
    "    - accuracy_history: List of accuracy values over epochs.\n",
    "    \"\"\"\n",
    "    input_size = X_train.shape[1]\n",
    "    output_size = y_train.shape[1]\n",
    "\n",
    "    parameters = initialize_parameters(input_size, hidden_size, output_size)\n",
    "    loss_hist = []\n",
    "    accuracy_hist = []\n",
    "\n",
    "    for epoch in range(epochs):\n",
    "        A2, cache = forward_propagation(X_train, parameters)\n",
    "\n",
    "        loss = compute_loss(y_train, A2)\n",
    "        loss_hist.append(loss)\n",
    "        accuracy = np.mean(np.argmax(A2, axis=1) == np.argmax(y_train, axis=1))\n",
    "        accuracy_hist.append(accuracy)\n",
    "\n",
    "        grads = backward_propagation(X_train, y_train, parameters, cache)\n",
    "        parameters = update_parameters_with_sgd(parameters, grads, learning_rate)\n",
    "    \n",
    "        if epoch % 10 == 0:\n",
    "            print(f\"Epoch {epoch}, loss (Full-Batch) = {loss:.4f}, accuracy = {accuracy:.4f}\")\n",
    "    \n",
    "    return loss_hist, accuracy_hist\n"
   ]
  },
  {
   "cell_type": "code",
   "execution_count": 165,
   "metadata": {
    "colab": {
     "base_uri": "https://localhost:8080/"
    },
    "id": "YIb4-9eGllGi",
    "outputId": "ead5c84a-6a1d-4c2e-fe64-47345d5f86b5"
   },
   "outputs": [],
   "source": [
    "import time\n",
    "def compare_mini_batch_and_full_batch(X_train, y_train, hidden_size, epochs=50, batch_size=32):\n",
    "    \"\"\"\n",
    "    Compare the performance of mini-batch gradient descent against full-batch gradient descent.\n",
    "\n",
    "    Parameters:\n",
    "    - X_train: Training data.\n",
    "    - y_train: One-hot encoded labels.\n",
    "    - hidden_size: Number of neurons in the hidden layer.\n",
    "    - epochs: Number of training epochs.\n",
    "    - batch_size: Size of mini-batches for mini-batch gradient descent.\n",
    "    \"\"\"\n",
    "    print(\"Training with Mini-Batch Gradient Descent...\")\n",
    "    start_mini = time.time()\n",
    "    mini_loss, mini_acc = train_model_with_mini_batches(X_train, y_train, hidden_size, epochs=epochs, batch_size=batch_size)\n",
    "    end_mini = time.time()\n",
    "    time_mini = end_mini - start_mini\n",
    "\n",
    "    print()\n",
    "    print(\"Training with Full-Batch Gradient Descent...\")\n",
    "    start_full = time.time()\n",
    "    full_loss, full_acc = train_model_full_batch(X_train, y_train, hidden_size, epochs=epochs)\n",
    "    end_full = time.time()\n",
    "    time_full = end_full - start_full\n",
    "\n",
    "    print()\n",
    "\n",
    "    print(f\"Mini-Batch Final Loss: {mini_loss[-1]:.4f}, Final Accuracy: {mini_acc[-1]:.4f}, Time: {time_mini:.4f} seconds\")\n",
    "    print(f\"Mini-Batch Final Loss: {full_loss[-1]:.4f}, Final Accuracy: {full_acc[-1]:.4f}, Time: {time_full} seconds\")"
   ]
  },
  {
   "cell_type": "code",
   "execution_count": 166,
   "metadata": {},
   "outputs": [
    {
     "name": "stdout",
     "output_type": "stream",
     "text": [
      "Training with Mini-Batch Gradient Descent...\n",
      "Epoch 0, loss = 0.8587, accuracy = 0.7123\n",
      "Epoch 10, loss = 0.4134, accuracy = 0.8623\n",
      "Epoch 20, loss = 0.3599, accuracy = 0.8805\n",
      "Epoch 30, loss = 0.3299, accuracy = 0.8896\n",
      "Epoch 40, loss = 0.3082, accuracy = 0.8977\n",
      "\n",
      "Training with Full-Batch Gradient Descent...\n",
      "Epoch 0, loss (Full-Batch) = 0.7473, accuracy = 0.1318\n",
      "Epoch 10, loss (Full-Batch) = 1.5705, accuracy = 0.2047\n",
      "Epoch 20, loss (Full-Batch) = 1.8625, accuracy = 0.2623\n",
      "Epoch 30, loss (Full-Batch) = 1.9005, accuracy = 0.3088\n",
      "Epoch 40, loss (Full-Batch) = 1.8631, accuracy = 0.3611\n",
      "\n",
      "Mini-Batch Final Loss: 0.2935, Final Accuracy: 0.9022, Time: 33.2929 seconds\n",
      "Mini-Batch Final Loss: 1.8127, Final Accuracy: 0.4058, Time: 6.53614354133606 seconds\n"
     ]
    }
   ],
   "source": [
    "compare_mini_batch_and_full_batch(X_train_flat, y_train, 64)"
   ]
  },
  {
   "cell_type": "code",
   "execution_count": null,
   "metadata": {},
   "outputs": [],
   "source": []
  }
 ],
 "metadata": {
  "colab": {
   "provenance": []
  },
  "kernelspec": {
   "display_name": "base",
   "language": "python",
   "name": "python3"
  },
  "language_info": {
   "codemirror_mode": {
    "name": "ipython",
    "version": 3
   },
   "file_extension": ".py",
   "mimetype": "text/x-python",
   "name": "python",
   "nbconvert_exporter": "python",
   "pygments_lexer": "ipython3",
   "version": "3.12.3"
  }
 },
 "nbformat": 4,
 "nbformat_minor": 0
}
