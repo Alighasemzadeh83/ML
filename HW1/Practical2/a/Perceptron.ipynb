{
 "cells": [
  {
   "cell_type": "markdown",
   "metadata": {
    "id": "y09iFsmx2Vcw"
   },
   "source": [
    "<img src='./pic/sharif-main-logo.png' alt=\"SUT logo\" width=300 height=300 align=left class=\"saturate\" > <br>\n",
    "\n",
    "<div dir=ltr align=center>\n",
    "<font color=0F5298 size=7>\n",
    "    یادگیری ماشین <br>\n",
    "<font color=2565AE size=5>\n",
    "    دانشکده مهندسی کامپیوتر <br>\n",
    "    پاییز ۱۴۰۳ <br>\n",
    "<font color=3C99D size=5>\n",
    "   تمرین عملی اول - یادگیری نظارت شده <br>\n",
    "<font color=696880 size=4>\n",
    "    عرفان سلیما - سارینا حشمتی - نیکان واسعی - فاطمه شیری"
   ]
  },
  {
   "cell_type": "markdown",
   "metadata": {
    "id": "y09iFsmx2Vcw"
   },
   "source": [
    "<div dir=rtl>\n",
    "<font size=6>\n",
    "اطلاعات دانشجو"
   ]
  },
  {
   "cell_type": "code",
   "execution_count": 384,
   "metadata": {},
   "outputs": [],
   "source": [
    "student_number = '401106339'\n",
    "Name = 'Ali'\n",
    "Last_Name = 'ghasemzadeh' "
   ]
  },
  {
   "cell_type": "markdown",
   "metadata": {
    "id": "y09iFsmx2Vcw"
   },
   "source": [
    "<div dir=rtl>\n",
    "<font size=6>\n",
    "نحوه پیاده سازی"
   ]
  },
  {
   "cell_type": "markdown",
   "metadata": {
    "id": "lCUAtWN522T4"
   },
   "source": [
    "<div dir=rtl>\n",
    "<font size=4>\n",
    " با استفاده از تابع make_blobs از کتابخانه sklearn به کمک قطعه کد\n",
    "زیر، مجموعه داده ای بسازید که به صورت خطی\n",
    "جدایی پذیر باشد. هر ستون از ماتریس X شامل ویژگی های یک نمونه داده است."
   ]
  },
  {
   "cell_type": "code",
   "execution_count": 385,
   "metadata": {
    "id": "sbBYk18H2TVg"
   },
   "outputs": [],
   "source": [
    "from sklearn.datasets import make_blobs\n",
    "X, Y = make_blobs(n_samples=100, n_features=10, centers=2, random_state=41)\n",
    "Y[Y==0] = -1"
   ]
  },
  {
   "cell_type": "markdown",
   "metadata": {
    "id": "SFi-rRwJ3E3-"
   },
   "source": [
    "<div dir=rtl>\n",
    "<font size=4>\n",
    " ابتدا کلاسی به نام F در نظر بگیرید و یکی از متد های آن را به نام sign پیاده سازی کنید. متدهای این کلاس متعلق به کلاس\n",
    "هستند و باید به صورت static تعریف شوند. در حقیقت این کلاس مسئول نگهداری توابع کاربردی برای انجام محاسبات\n",
    "است که در اینجا ما فقط میخواهیم sign را تعریف کنیم."
   ]
  },
  {
   "cell_type": "code",
   "execution_count": 386,
   "metadata": {
    "id": "ta3SQGNJ3OeO"
   },
   "outputs": [],
   "source": [
    "class F:\n",
    "  @staticmethod\n",
    "  def sign(x):\n",
    "    if x > 0:\n",
    "      return 1\n",
    "    return -1"
   ]
  },
  {
   "cell_type": "markdown",
   "metadata": {
    "id": "prCJVzUh3Wd5"
   },
   "source": [
    "<div dir=rtl>\n",
    "<font size=4>\n",
    " کلاس Perceptron را مانند تکه کد زیر در نظر بگیرید. این موجودیت تنها وظیفه نگهداری وزن های پرسپترون ما و محاسبه\n",
    "y براساس ورودی ما یعنی X را دارد. برای مقدار دهی اولیه وزن ها و بایاس میتوانید از کتابخانه numpy استفاده کنید."
   ]
  },
  {
   "cell_type": "code",
   "execution_count": 387,
   "metadata": {
    "id": "FRApiOaV3khr"
   },
   "outputs": [],
   "source": [
    "import numpy as np\n",
    "class Perceptron:\n",
    "  def __init__(self, input_size):\n",
    "    self.weights = np.random.randn(input_size)\n",
    "    self.bias = np.random.randn()\n",
    "\n",
    "  def forward(self, input):\n",
    "    weighted_sum = np.dot(input, self.weights) + self.bias\n",
    "    output = F.sign(weighted_sum)\n",
    "    return output"
   ]
  },
  {
   "cell_type": "markdown",
   "metadata": {
    "id": "WF8lQoZA3pgt"
   },
   "source": [
    "<div dir=rtl>\n",
    "<font size=4>\n",
    "حال کلاس Optimizer را مطابق قطعه کد زیر پیاده سازی کنید. این کلاس وظیفه این را دارد که مدل ما را بهینه کند. بدین\n",
    "معنی که در هر مرحله از یادگیری سعی کند وزن ها را در جهتی بروزرسانی کند که در نهایت ما هیچ خطایی نداشته باشیم (با\n",
    "فرض خطی جدایی پذیر بودن داده ها)"
   ]
  },
  {
   "cell_type": "code",
   "execution_count": 388,
   "metadata": {
    "id": "ksQEHkz54HeO"
   },
   "outputs": [],
   "source": [
    "class Optimizer:\n",
    "  def __init__(self, model, learning_rate=0.01):\n",
    "    self.model = model\n",
    "    self.learning_rate = learning_rate\n",
    "\n",
    "  def update(self, x, y, y_hat):\n",
    "    update = 0.01 * (y-y_hat)\n",
    "    self.model.weights += update*x\n",
    "    self.model.bias += update"
   ]
  },
  {
   "cell_type": "markdown",
   "metadata": {
    "id": "lHKc8Rpc4KT2"
   },
   "source": [
    "<div dir=rtl>\n",
    "<font size=4>\n",
    "با توجه به تعداد ویژگی های داده های موجود، یک شی Perceptron بسازید (این پارامتر باید با تعداد ویژگی های قسمت\n",
    "اول یکسان باشد) در مرحله بعدی به Optimizer اجازه دهید تا به مدل شما دسترسی داشته باشد تا بتواند آن را بهینه کند."
   ]
  },
  {
   "cell_type": "markdown",
   "metadata": {
    "id": "FAwckbDH4TIa"
   },
   "source": [
    "<div dir=rtl>\n",
    "<font size=4>\n",
    "در این قسمت شما باید با پیاده سازی فرآیندی مناسب با استفاده از instance های Optimizer و Perceptron وضعیت\n",
    "مدل را بهبود بدهید تا به ابر صفحه جدا کننده نزدیک تر شود."
   ]
  },
  {
   "cell_type": "code",
   "execution_count": 389,
   "metadata": {},
   "outputs": [],
   "source": [
    "perceptron = Perceptron(input_size=10)\n",
    "optimizer = Optimizer(perceptron, learning_rate=0.01)"
   ]
  },
  {
   "cell_type": "code",
   "execution_count": 390,
   "metadata": {
    "id": "vlvPXwMm4QTI"
   },
   "outputs": [],
   "source": [
    "n_iter = 1000\n",
    "for _ in range(n_iter):\n",
    "    for x, y in zip(X, Y):\n",
    "        y_hat = perceptron.forward(x)\n",
    "        optimizer.update(x, y, y_hat)"
   ]
  },
  {
   "cell_type": "markdown",
   "metadata": {
    "id": "bg5D9ooD4c-_"
   },
   "source": [
    "<div dir=rtl>\n",
    "<font size=4>\n",
    "به ازای n_features برابر ۲ نقاط مجموعه داده ی خود و خط حاصل از Perceptron خود را به کمک کتابخانه Ⅿatpⅼotⅼib\n",
    "در فضای ۲ بعدی نمایش دهید."
   ]
  },
  {
   "cell_type": "code",
   "execution_count": 391,
   "metadata": {},
   "outputs": [],
   "source": [
    "X_saw, Y_saw = make_blobs(n_samples=100, n_features=2, centers=2, random_state=41)\n",
    "Y_saw[Y_saw==0] = -1\n",
    "\n",
    "perceptron_saw = Perceptron(input_size=2)\n",
    "optimizer_saw = Optimizer(perceptron_saw, learning_rate=0.1)\n",
    "n_iter_saw = 1000\n",
    "for _ in range(n_iter_saw):\n",
    "    for x, y in zip(X_saw, Y_saw):\n",
    "        y_hat = perceptron_saw.forward(x)\n",
    "        optimizer_saw.update(x, y, y_hat)"
   ]
  },
  {
   "cell_type": "code",
   "execution_count": 392,
   "metadata": {},
   "outputs": [
    {
     "name": "stdout",
     "output_type": "stream",
     "text": [
      "-1.1186440575813137\n",
      "[ 0.5295944  -0.10278896]\n"
     ]
    }
   ],
   "source": [
    "print(perceptron_saw.bias)\n",
    "print(perceptron_saw.weights)"
   ]
  },
  {
   "cell_type": "code",
   "execution_count": 395,
   "metadata": {},
   "outputs": [
    {
     "data": {
      "image/png": "[encoded data removed]",
      "text/plain": [
       "<Figure size 640x480 with 1 Axes>"
      ]
     },
     "metadata": {},
     "output_type": "display_data"
    }
   ],
   "source": [
    "import matplotlib.pyplot as plt\n",
    "plt.scatter(X_saw[:, 0], X_saw[:, 1], c=Y_saw, cmap='coolwarm')\n",
    "x_min, x_max = X_saw[:, 0].min() - 1, X_saw[:, 0].max() + 1\n",
    "y_min, y_max = X_saw[:, 1].min() - 1, X_saw[:, 1].max() + 1\n",
    "x1 = np.linspace(x_min, x_max, 100)\n",
    "x2 = -(perceptron_saw.weights[0] * x1 + perceptron_saw.bias) / perceptron_saw.weights[1]\n",
    "plt.plot(x1, x2, 'k--', label=\"Decision Boundary\")\n",
    "plt.xlim([x_min, x_max])\n",
    "plt.ylim([y_min, y_max])\n",
    "plt.xlabel('x1')\n",
    "plt.ylabel('x2')\n",
    "plt.title('Perceptron Decision Boundary')\n",
    "plt.legend()\n",
    "plt.show()"
   ]
  },
  {
   "cell_type": "code",
   "execution_count": null,
   "metadata": {},
   "outputs": [],
   "source": []
  }
 ],
 "metadata": {
  "colab": {
   "provenance": []
  },
  "kernelspec": {
   "display_name": "base",
   "language": "python",
   "name": "python3"
  },
  "language_info": {
   "codemirror_mode": {
    "name": "ipython",
    "version": 3
   },
   "file_extension": ".py",
   "mimetype": "text/x-python",
   "name": "python",
   "nbconvert_exporter": "python",
   "pygments_lexer": "ipython3",
   "version": "3.12.3"
  }
 },
 "nbformat": 4,
 "nbformat_minor": 1
}
