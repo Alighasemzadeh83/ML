{
 "cells": [
  {
   "cell_type": "markdown",
   "metadata": {
    "id": "VivaFsd3Q6cj"
   },
   "source": [
    "<br>\n",
    "<font>\n",
    "<div dir=ltr align=center>\n",
    "<img src=\"https://cdn.freebiesupply.com/logos/large/2x/sharif-logo-png-transparent.png\" width=150 height=150> <br>\n",
    "<font color=0F5298 size=7>\n",
    "    Machine learning <br>\n",
    "<font color=2565AE size=5>\n",
    "    Computer Engineering Department <br>\n",
    "    Fall 2024<br>\n",
    "<font color=3C99D size=5>\n",
    "    Practical Assignment 5 - NLP - Transformer & Bert <br>\n",
    "</div>\n",
    "<div dir=ltr align=center>\n",
    "<font color=0CBCDF size=4>\n",
    "   &#x1F349; Masoud Tahmasbi  &#x1F349;  &#x1F353; Arash Ziyaei &#x1F353;\n",
    "<br>\n",
    "<font color=0CBCDF size=4>\n",
    "   &#x1F335; Amirhossein Akbari  &#x1F335;\n",
    "</div>\n",
    "\n",
    "____"
   ]
  },
  {
   "cell_type": "markdown",
   "metadata": {
    "id": "k15QziPnmC6d"
   },
   "source": [
    "<font color=9999FF size=4>\n",
    "&#x1F388; Full Name : Ali Ghasemzadeh\n",
    "<br>\n",
    "<font color=9999FF size=4>\n",
    "&#x1F388; Student Number : 401106339"
   ]
  },
  {
   "cell_type": "markdown",
   "metadata": {
    "id": "IOfpEN2xmbN8"
   },
   "source": [
    "<font color=0080FF size=3>\n",
    "This notebook covers two key topics. First, we implement a transformer model from scratch and apply it to a specific task. Second, we fine-tune the BERT model using LoRA for efficient adaptation to a downstream task.\n",
    "</font>\n",
    "<br>\n",
    "\n",
    "**Note:**\n",
    "<br>\n",
    "<font color=66B2FF size=2>In this notebook, you are free to use any function or model from PyTorch to assist with the implementation. However, TensorFlow is not permitted for this exercise. This ensures consistency and alignment with the tools being focused on.</font>\n",
    "<br>\n",
    "<font color=red size=3>**Run All Cells Before Submission**</font>: <font color=FF99CC size=2>Before saving and submitting your notebook, please ensure you run all cells from start to finish. This practice guarantees that your notebook is self-consistent and can be evaluated correctly by others.</font>"
   ]
  },
  {
   "cell_type": "markdown",
   "metadata": {
    "id": "SpvvM0995ieR"
   },
   "source": [
    "# Section 1: Transformer\n",
    "\n",
    "The transformer architecture consists of two main components: an encoder and a decoder. Each of these components is made up of multiple layers that include self-attention mechanisms and feedforward neural networks. The self-attention mechanism is central to the transformer, as it enables the model to assess the importance of different words in a sentence by considering their relationships with one another.\n",
    "\n",
    "\n",
    "In this assignment, you should design a transformer model from scratch. You are required to implement the Encoder and Decoder components of a Transformer model."
   ]
  },
  {
   "cell_type": "code",
   "execution_count": 5,
   "metadata": {
    "execution": {
     "iopub.execute_input": "2025-01-06T07:49:22.365690Z",
     "iopub.status.busy": "2025-01-06T07:49:22.365061Z",
     "iopub.status.idle": "2025-01-06T07:49:22.370462Z",
     "shell.execute_reply": "2025-01-06T07:49:22.369343Z",
     "shell.execute_reply.started": "2025-01-06T07:49:22.365656Z"
    },
    "id": "dzIob6-Gq7Lw",
    "trusted": true
   },
   "outputs": [],
   "source": [
    "# Importing libraries\n",
    "\n",
    "# PyTorch\n",
    "import torch\n",
    "import torch.nn as nn\n",
    "from torch.utils.data import Dataset, DataLoader, random_split\n",
    "from torch.utils.tensorboard import SummaryWriter\n",
    "import torch.nn.functional as F\n",
    "\n",
    "# Math\n",
    "import math\n",
    "\n",
    "# HuggingFace libraries\n",
    "from datasets import load_dataset\n",
    "from tokenizers import Tokenizer\n",
    "from tokenizers.models import WordLevel\n",
    "from tokenizers.trainers import WordLevelTrainer\n",
    "from tokenizers.pre_tokenizers import Whitespace\n",
    "\n",
    "# Pathlib\n",
    "from pathlib import Path\n",
    "\n",
    "# typing\n",
    "from typing import Any\n",
    "\n",
    "# Library for progress bars in loops\n",
    "from tqdm import tqdm\n",
    "\n",
    "import os\n",
    "\n",
    "# Importing library of warnings\n",
    "import warnings"
   ]
  },
  {
   "cell_type": "markdown",
   "metadata": {
    "id": "-71SfIAJprox"
   },
   "source": [
    "## Part 1: Input Embeddings\n",
    "<p style = \"font-family: 'Helvetica Neue', Arial, sans-serif; text-align: left; font-size: 17.5px\">When we observe the Transformer architecture image above, we can see that the Embeddings represent the first step of both blocks.</p>\n",
    "\n",
    "<p style = \"font-family: 'Helvetica Neue', Arial, sans-serif; text-align: left; font-size: 17.5px\">The <code>InputEmbedding</code> class below is responsible for converting the input text into numerical vectors of <code>d_model</code> dimensions. To prevent that our input embeddings become extremely small, we normalize them by multiplying them by the $\\sqrt{d_{model}}$.</p>\n",
    "\n",
    "<p style = \"font-family: 'Helvetica Neue', Arial, sans-serif; text-align: left; font-size: 17.5px\">In the image below, we can see how the embeddings are created. First, we have a sentence that gets split into tokens—we will explore what tokens are later on—. Then, the token IDs—identification numbers—are transformed into the embeddings, which are high-dimensional vectors.</p>"
   ]
  },
  {
   "cell_type": "code",
   "execution_count": 6,
   "metadata": {
    "execution": {
     "iopub.execute_input": "2025-01-06T07:49:25.050007Z",
     "iopub.status.busy": "2025-01-06T07:49:25.049685Z",
     "iopub.status.idle": "2025-01-06T07:49:25.054494Z",
     "shell.execute_reply": "2025-01-06T07:49:25.053578Z",
     "shell.execute_reply.started": "2025-01-06T07:49:25.049979Z"
    },
    "id": "J-pyrJlu4Nl7",
    "trusted": true
   },
   "outputs": [],
   "source": [
    "class InputEmbeddings(nn.Module):\n",
    "    def __init__(self, d_model, vocab_size):\n",
    "        super().__init__()\n",
    "        self.embedding = nn.Embedding(vocab_size, d_model)\n",
    "        self.d_model = d_model\n",
    "        \n",
    "\n",
    "    def forward(self, x):\n",
    "        x = self.embedding(x)\n",
    "        x = x * math.sqrt(self.d_model)\n",
    "        return  x"
   ]
  },
  {
   "cell_type": "markdown",
   "metadata": {
    "id": "RWBlo2XorJGW"
   },
   "source": [
    "## Part 2: positional encoding\n",
    "<p style = \"font-family: 'Helvetica Neue', Arial, sans-serif; text-align: left; font-size: 17.5px\">In the original paper, the authors add the positional encodings to the input embeddings at the bottom of both the encoder and decoder blocks so the model can have some information about the relative or absolute position of the tokens in the sequence. The positional encodings have the same dimension $d_{model}$ as the embeddings, so that the two vectors can be summed and we can combine the semantic content from the word embeddings and positional information from the positional encodings.</p>\n",
    "\n",
    "<p style = \"font-family: 'Helvetica Neue', Arial, sans-serif; text-align: left; font-size: 17.5px\">In the <code>PositionalEncoding</code> class below, we will create a matrix of positional encodings <code>pe</code> with dimensions <code>(seq_len, d_model)</code>. We will start by filling it with $0$s.We will then apply the sine function to even indices of the positional encoding matrix while the cosine function is applied to the odd ones.</p>\n",
    "\n",
    "<p style=\"\n",
    "    margin-bottom: 5;\n",
    "    font-size: 22px;\n",
    "    font-weight: 300;\n",
    "    font-family: 'Helvetica Neue', sans-serif;\n",
    "    color: #000000;\n",
    "  \">\n",
    "    \\begin{equation}\n",
    "    \\text{Odd Indices } (2i + 1): \\quad \\text{PE(pos, } 2i + 1) = \\cos\\left(\\frac{\\text{pos}}{10000^{2i / d_{model}}}\\right)\n",
    "    \\end{equation}\n",
    "</p>\n",
    "\n",
    "<p style = \"font-family: 'Helvetica Neue', Arial, sans-serif; text-align: left; font-size: 17.5px\">We apply the sine and cosine functions because it allows the model to determine the position of a word based on the position of other words in the sequence, since for any fixed offset $k$, $PE_{pos + k}$ can be represented as a linear function of $PE_{pos}$. This happens due to the properties of sine and cosine functions, where a shift in the input results in a predictable change in the output.</p>"
   ]
  },
  {
   "cell_type": "code",
   "execution_count": 7,
   "metadata": {
    "execution": {
     "iopub.execute_input": "2025-01-06T07:49:26.698885Z",
     "iopub.status.busy": "2025-01-06T07:49:26.698584Z",
     "iopub.status.idle": "2025-01-06T07:49:26.704818Z",
     "shell.execute_reply": "2025-01-06T07:49:26.703911Z",
     "shell.execute_reply.started": "2025-01-06T07:49:26.698862Z"
    },
    "id": "4ZG5DhVcrVVm",
    "trusted": true
   },
   "outputs": [],
   "source": [
    "class PositionalEncoding(nn.Module):\n",
    "    def __init__(self, d_model, seq_len, dropout):\n",
    "        super().__init__()\n",
    "        self.dropout = nn.Dropout(dropout)\n",
    "        pe = torch.zeros(seq_len, d_model)\n",
    "        position = torch.arange(0, seq_len, dtype=torch.float).unsqueeze(1)\n",
    "        div_term = torch.exp(torch.arange(0, d_model, 2).float() * (-math.log(10000.0) / d_model))\n",
    "        pe[:, 0::2] = torch.sin(position * div_term)\n",
    "        pe[:, 1::2] = torch.cos(position * div_term)\n",
    "        self.register_buffer(\"pe\", pe)\n",
    "\n",
    "    def forward(self, x):\n",
    "        x = x + self.pe[: x.size(1)].unsqueeze(0)\n",
    "        return self.dropout(x)"
   ]
  },
  {
   "cell_type": "markdown",
   "metadata": {
    "id": "T92iydQErh-P"
   },
   "source": [
    "## Part 3: layer normalization\n",
    "<p style = \"font-family: 'Helvetica Neue', Arial, sans-serif; text-align: left; font-size: 17.5px\">When we look at the encoder and decoder blocks, we see several normalization layers called <b><i>Add &amp; Norm</i></b>.</p>\n",
    "\n",
    "<p style = \"font-family: 'Helvetica Neue', Arial, sans-serif; text-align: left; font-size: 17.5px\">The <code>LayerNormalization</code> class below performs layer normalization on the input data. During its forward pass, we compute the mean and standard deviation of the input data. We then normalize the input data by subtracting the mean and dividing by the standard deviation plus a small number called epsilon to avoid any divisions by zero. This process results in a normalized output with a mean 0 and a standard deviation 1.</p>\n",
    "\n",
    "<p style = \"font-family: 'Helvetica Neue', Arial, sans-serif; text-align: left; font-size: 17.5px\">We will then scale the normalized output by a learnable parameter <code>alpha</code> and add a learnable parameter called <code>bias</code>. The training process is responsible for adjusting these parameters. The final result is a layer-normalized tensor, which ensures that the scale of the inputs to layers in the network is consistent.</p>"
   ]
  },
  {
   "cell_type": "code",
   "execution_count": 8,
   "metadata": {
    "execution": {
     "iopub.execute_input": "2025-01-06T07:49:28.149844Z",
     "iopub.status.busy": "2025-01-06T07:49:28.149499Z",
     "iopub.status.idle": "2025-01-06T07:49:28.154748Z",
     "shell.execute_reply": "2025-01-06T07:49:28.153794Z",
     "shell.execute_reply.started": "2025-01-06T07:49:28.149814Z"
    },
    "id": "kVGQRsmKrwZu",
    "trusted": true
   },
   "outputs": [],
   "source": [
    "class LayerNormalization(nn.Module):\n",
    "    def __init__(self, d_model, eps=1e-6):\n",
    "        super().__init__()\n",
    "        self.eps = eps\n",
    "        self.gamma = nn.Parameter(torch.ones(d_model))\n",
    "        self.bias = nn.Parameter(torch.zeros(d_model))\n",
    "\n",
    "    def forward(self, x):\n",
    "        mean = x.mean(dim=-1, keepdim=True)\n",
    "        std = x.std(dim=-1, keepdim=True)\n",
    "        xn = (x - mean) / (std + self.eps)\n",
    "        return self.gamma * xn + self.bias"
   ]
  },
  {
   "cell_type": "markdown",
   "metadata": {
    "id": "U-IbSGQMr1Ye"
   },
   "source": [
    "## Part 4: Feed Forward Network\n",
    "<p style = \"font-family: 'Helvetica Neue', Arial, sans-serif; text-align: left; font-size: 17.5px\">In the fully connected feed-forward network, we apply two linear transformations with a ReLU activation in between. We can mathematically represent this operation as:</p>\n",
    "\n",
    "<p style=\"\n",
    "    margin-bottom: 5;\n",
    "    font-size: 22px;\n",
    "    font-weight: 300;\n",
    "    font-family: 'Helvetica Neue', sans-serif;\n",
    "    color: #000000;\n",
    "  \">\n",
    "    \\begin{equation}\n",
    "    \\text{FFN}(x) = \\max(0, xW_1 + b_1)W_2 + b_2\n",
    "    \\end{equation}\n",
    "</p>\n",
    "\n",
    "\n",
    "<p style = \"font-family: 'Helvetica Neue', Arial, sans-serif; text-align: left; font-size: 17.5px\">$W_1$ and $W_2$ are the weights, while $b_1$ and $b_2$ are the biases of the two linear transformations.</p>\n",
    "\n",
    "<p style = \"font-family: 'Helvetica Neue', Arial, sans-serif; text-align: left; font-size: 17.5px\">In the <code>FeedForwardBlock</code> below, we will define the two linear transformations—<code>self.linear_1</code> and <code>self.linear_2</code>—and the inner-layer <code>d_ff</code>. The input data will first pass through the <code>self.linear_1</code> transformation, which increases its dimensionality from <code>d_model</code> to <code>d_ff</code>. The output of this operation passes through the ReLU activation function, which introduces non-linearity so the network can learn more complex patterns, and the <code>self.dropout</code> layer is applied to mitigate overfitting. The final operation is the <code>self.linear_2</code> transformation to the dropout-modified tensor, which transforms it back to the original <code>d_model</code> dimension.</p>"
   ]
  },
  {
   "cell_type": "code",
   "execution_count": 9,
   "metadata": {
    "execution": {
     "iopub.execute_input": "2025-01-06T07:49:29.552004Z",
     "iopub.status.busy": "2025-01-06T07:49:29.551720Z",
     "iopub.status.idle": "2025-01-06T07:49:29.556465Z",
     "shell.execute_reply": "2025-01-06T07:49:29.555772Z",
     "shell.execute_reply.started": "2025-01-06T07:49:29.551983Z"
    },
    "id": "N3H8kyccsEUW",
    "trusted": true
   },
   "outputs": [],
   "source": [
    "class FeedForwardBlock(nn.Module):\n",
    "    def __init__(self, d_model, d_ff, dropout):\n",
    "        super().__init__()\n",
    "        self.input_to_hidden = nn.Linear(d_model, d_ff)\n",
    "        self.hidden_dropout = nn.Dropout(dropout)\n",
    "        self.hidden_to_output = nn.Linear(d_ff, d_model)\n",
    "\n",
    "    def forward(self, input_tensor):\n",
    "        hidden = self.input_to_hidden(input_tensor)\n",
    "        activated = F.relu(hidden)\n",
    "        dropped = self.hidden_dropout(activated)\n",
    "        output = self.hidden_to_output(dropped)\n",
    "        return output\n"
   ]
  },
  {
   "cell_type": "markdown",
   "metadata": {
    "id": "YEa1kF6csIvV"
   },
   "source": [
    "## Part 5: Multi Head Attention\n",
    "<p style = \"font-family: 'Helvetica Neue', Arial, sans-serif; text-align: left; font-size: 17.5px\">The Multi-Head Attention is the most crucial component of the Transformer. It is responsible for helping the model to understand complex relationships and patterns in the data.</p>\n",
    "\n",
    "<p style = \"font-family: 'Helvetica Neue', Arial, sans-serif; text-align: left; font-size: 17.5px\">The image below displays how the Multi-Head Attention works. It doesn't include <code>batch</code> dimension because it only illustrates the process for one single sentence.</p>\n",
    "\n",
    "<p style = \"font-family: 'Helvetica Neue', Arial, sans-serif; text-align: left; font-size: 17.5px\">The Multi-Head Attention block receives the input data split into queries, keys, and values organized into matrices $Q$, $K$, and $V$. Each matrix contains different facets of the input, and they have the same dimensions as the input.</p>\n",
    "\n",
    "<p style = \"font-family: 'Helvetica Neue', Arial, sans-serif; text-align: left; font-size: 17.5px\">We then linearly transform each matrix by their respective weight matrices $W^Q$, $W^K$, and $W^V$. These transformations will result in new matrices $Q'$, $K'$, and $V'$, which will be split into smaller matrices corresponding to different heads $h$, allowing the model to attend to information from different representation subspaces in parallel. This split creates multiple sets of queries, keys, and values for each head.</p>\n",
    "\n",
    "<p style = \"font-family: 'Helvetica Neue', Arial, sans-serif; text-align: left; font-size: 17.5px\">Finally, we concatenate every head into an $H$ matrix, which is then transformed by another weight matrix $W^o$ to produce the multi-head attention output, a matrix $MH-A$ that retains the input dimensionality.</p>"
   ]
  },
  {
   "cell_type": "code",
   "execution_count": 10,
   "metadata": {
    "execution": {
     "iopub.execute_input": "2025-01-06T07:49:30.811796Z",
     "iopub.status.busy": "2025-01-06T07:49:30.811478Z",
     "iopub.status.idle": "2025-01-06T07:49:30.820018Z",
     "shell.execute_reply": "2025-01-06T07:49:30.819042Z",
     "shell.execute_reply.started": "2025-01-06T07:49:30.811774Z"
    },
    "id": "6ujcqPp1sOU9",
    "trusted": true
   },
   "outputs": [],
   "source": [
    "class MultiHeadAttentionBlock(nn.Module):\n",
    "    def __init__(self, d_model, h, dropout):\n",
    "        super().__init__()\n",
    "        assert d_model % h == 0\n",
    "        self.d_model = d_model\n",
    "        self.num_heads = h\n",
    "        self.depth = d_model // h\n",
    "        self.query_proj = nn.Linear(d_model, d_model)\n",
    "        self.key_proj = nn.Linear(d_model, d_model)\n",
    "        self.value_proj = nn.Linear(d_model, d_model)\n",
    "        self.output_proj = nn.Linear(d_model, d_model)\n",
    "        self.dropout_layer = nn.Dropout(dropout)\n",
    "\n",
    "    @staticmethod\n",
    "    def attention(query, key, value, mask, dropout_layer):\n",
    "        attention_scores = torch.matmul(query, key.transpose(-2, -1)) / math.sqrt(query.size(-1))\n",
    "        if mask is not None:\n",
    "            attention_scores = attention_scores.masked_fill(mask == 0, float('-inf'))\n",
    "        attention_weights = F.softmax(attention_scores, dim=-1)\n",
    "        if dropout_layer is not None:\n",
    "            attention_weights = dropout_layer(attention_weights)\n",
    "        attention_output = torch.matmul(attention_weights, value)\n",
    "        return attention_output, attention_weights\n",
    "\n",
    "    def forward(self, query, key, value, mask=None):\n",
    "        batch_size = query.size(0)\n",
    "        query = self.query_proj(query).view(batch_size, -1, self.num_heads, self.depth).transpose(1, 2)\n",
    "        key = self.key_proj(key).view(batch_size, -1, self.num_heads, self.depth).transpose(1, 2)\n",
    "        value = self.value_proj(value).view(batch_size, -1, self.num_heads, self.depth).transpose(1, 2)\n",
    "        attention_output, attention_weights = self.attention(query, key, value, mask, self.dropout_layer)\n",
    "        attention_output = attention_output.transpose(1, 2).contiguous().view(batch_size, -1, self.d_model)\n",
    "        output = self.output_proj(attention_output)\n",
    "        return output, attention_weights\n"
   ]
  },
  {
   "cell_type": "markdown",
   "metadata": {
    "id": "wCaLjCVxsWIc"
   },
   "source": [
    "## Part 6: Residual Connection\n",
    "<p style = \"font-family: 'Helvetica Neue', Arial, sans-serif; text-align: left; font-size: 17.5px\">When we look at the architecture of the Transformer, we see that each sub-layer, including the <i>self-attention</i> and <i>Feed Forward</i> blocks, adds its output to its input before passing it to the <i>Add &amp; Norm</i> layer. This approach integrates the output with the original input in the <i>Add &amp; Norm</i> layer. This process is known as the skip connection, which allows the Transformer to train deep networks more effectively by providing a shortcut for the gradient to flow through during backpropagation.</p>\n",
    "\n",
    "<p style = \"font-family: 'Helvetica Neue', Arial, sans-serif; text-align: left; font-size: 17.5px\">The <code>ResidualConnection</code> class below is responsible for this process.</p>"
   ]
  },
  {
   "cell_type": "code",
   "execution_count": 11,
   "metadata": {
    "execution": {
     "iopub.execute_input": "2025-01-06T07:49:32.498848Z",
     "iopub.status.busy": "2025-01-06T07:49:32.498512Z",
     "iopub.status.idle": "2025-01-06T07:49:32.503245Z",
     "shell.execute_reply": "2025-01-06T07:49:32.502484Z",
     "shell.execute_reply.started": "2025-01-06T07:49:32.498817Z"
    },
    "id": "f-bvuGhIsdfu",
    "trusted": true
   },
   "outputs": [],
   "source": [
    "class ResidualConnection(nn.Module):\n",
    "    def __init__(self, d_model, dropout):\n",
    "        super().__init__()\n",
    "        self.layer_norm = nn.LayerNorm(d_model)\n",
    "        self.dropout_layer = nn.Dropout(dropout)\n",
    "\n",
    "    def forward(self, input_tensor, sublayer):\n",
    "        normalized_input = self.layer_norm(input_tensor)\n",
    "        sublayer_output = sublayer(normalized_input)\n",
    "        dropped_output = self.dropout_layer(sublayer_output)\n",
    "        return input_tensor + dropped_output"
   ]
  },
  {
   "cell_type": "markdown",
   "metadata": {
    "id": "9YYI5vpasdGm"
   },
   "source": [
    "## Part 7: Encoder\n",
    "<p style = \"font-family: 'Helvetica Neue', Arial, sans-serif; text-align: left; font-size: 17.5px\">We will now build the encoder. We create the <code>EncoderBlock</code> class, consisting of the Multi-Head Attention and Feed Forward layers, plus the residual connections.</p>\n",
    "\n",
    "<p style = \"font-family: 'Helvetica Neue', Arial, sans-serif; text-align: left; font-size: 17.5px\">In the original paper, the Encoder Block repeats six times. We create the <code>Encoder</code> class as an assembly of multiple <code>EncoderBlock</code>s. We also add layer normalization as a final step after processing the input through all its blocks.</p>"
   ]
  },
  {
   "cell_type": "code",
   "execution_count": 12,
   "metadata": {
    "execution": {
     "iopub.execute_input": "2025-01-06T07:49:33.832257Z",
     "iopub.status.busy": "2025-01-06T07:49:33.831976Z",
     "iopub.status.idle": "2025-01-06T07:49:33.837469Z",
     "shell.execute_reply": "2025-01-06T07:49:33.836411Z",
     "shell.execute_reply.started": "2025-01-06T07:49:33.832236Z"
    },
    "id": "fRtppwE1s0-t",
    "trusted": true
   },
   "outputs": [],
   "source": [
    "class EncoderBlock(nn.Module):\n",
    "    def __init__(self, d_model, h, d_ff, dropout):\n",
    "        super().__init__()\n",
    "        self.self_attention_block = MultiHeadAttentionBlock(d_model, h, dropout)\n",
    "        self.feed_forward_block = FeedForwardBlock(d_model, d_ff, dropout)\n",
    "        self.first_residual_connection = ResidualConnection(d_model, dropout)\n",
    "        self.second_residual_connection = ResidualConnection(d_model, dropout)\n",
    "\n",
    "    def forward(self, input_tensor, src_mask=None):\n",
    "        attention_output = self.first_residual_connection(\n",
    "            input_tensor, lambda x: self.self_attention_block(x, x, x, src_mask)[0]\n",
    "        )\n",
    "        output_tensor = self.second_residual_connection(attention_output, self.feed_forward_block)\n",
    "        return output_tensor\n"
   ]
  },
  {
   "cell_type": "code",
   "execution_count": 13,
   "metadata": {
    "execution": {
     "iopub.execute_input": "2025-01-06T07:49:34.090364Z",
     "iopub.status.busy": "2025-01-06T07:49:34.090035Z",
     "iopub.status.idle": "2025-01-06T07:49:34.095312Z",
     "shell.execute_reply": "2025-01-06T07:49:34.094353Z",
     "shell.execute_reply.started": "2025-01-06T07:49:34.090336Z"
    },
    "id": "eSq7BZWcs5s1",
    "trusted": true
   },
   "outputs": [],
   "source": [
    "class Encoder(nn.Module):\n",
    "    def __init__(self, d_model, h, d_ff, dropout, num_layers):\n",
    "        super().__init__()\n",
    "        self.encoder_layers = nn.ModuleList(\n",
    "            [EncoderBlock(d_model, h, d_ff, dropout) for _ in range(num_layers)]\n",
    "        )\n",
    "        self.final_norm = nn.LayerNorm(d_model)\n",
    "\n",
    "    def forward(self, input_tensor, src_mask=None):\n",
    "        for encoder_layer in self.encoder_layers:\n",
    "            input_tensor = encoder_layer(input_tensor, src_mask)\n",
    "        output_tensor = self.final_norm(input_tensor)\n",
    "        return output_tensor\n"
   ]
  },
  {
   "cell_type": "markdown",
   "metadata": {
    "id": "P0HXE1fH5g0W"
   },
   "source": [
    "## Part 8: Decoder\n",
    "<p style = \"font-family: 'Helvetica Neue', Arial, sans-serif; text-align: left; font-size: 17.5px\">Similarly, the Decoder also consists of several DecoderBlocks that repeat six times in the original paper. The main difference is that it has an additional sub-layer that performs multi-head attention with a <i>cross-attention</i> component that uses the output of the Encoder as its keys and values while using the Decoder's input as queries.</p>\n",
    "\n",
    "<p style = \"font-family: 'Helvetica Neue', Arial, sans-serif; text-align: left; font-size: 17.5px\">For the Output Embedding, we can use the same <code>InputEmbeddings</code> class we use for the Encoder. You can also notice that the self-attention sub-layer is <i>masked</i>, which restricts the model from accessing future elements in the sequence.</p>\n",
    "\n",
    "<p style = \"font-family: 'Helvetica Neue', Arial, sans-serif; text-align: left; font-size: 17.5px\">We will start by building the <code>DecoderBlock</code> class, and then we will build the <code>Decoder</code> class, which will assemble multiple <code>DecoderBlock</code>s.</p>"
   ]
  },
  {
   "cell_type": "code",
   "execution_count": 14,
   "metadata": {
    "execution": {
     "iopub.execute_input": "2025-01-06T07:49:35.490238Z",
     "iopub.status.busy": "2025-01-06T07:49:35.489941Z",
     "iopub.status.idle": "2025-01-06T07:49:35.496186Z",
     "shell.execute_reply": "2025-01-06T07:49:35.495080Z",
     "shell.execute_reply.started": "2025-01-06T07:49:35.490216Z"
    },
    "id": "V9Aof9mb4PJX",
    "trusted": true
   },
   "outputs": [],
   "source": [
    "class DecoderBlock(nn.Module):\n",
    "    def __init__(self, d_model, h, d_ff, dropout):\n",
    "        super().__init__()\n",
    "        self.self_attention_block = MultiHeadAttentionBlock(d_model, h, dropout)\n",
    "        self.cross_attention_block = MultiHeadAttentionBlock(d_model, h, dropout)\n",
    "        self.feed_forward_block = FeedForwardBlock(d_model, d_ff, dropout)\n",
    "        self.self_attention_residual = ResidualConnection(d_model, dropout)\n",
    "        self.cross_attention_residual = ResidualConnection(d_model, dropout)\n",
    "        self.feed_forward_residual = ResidualConnection(d_model, dropout)\n",
    "\n",
    "    def forward(self, input_tensor, encoder_output, tgt_mask=None, src_mask=None):\n",
    "        self_attention_output = self.self_attention_residual(\n",
    "            input_tensor, lambda x: self.self_attention_block(x, x, x, tgt_mask)[0]\n",
    "        )\n",
    "        cross_attention_output = self.cross_attention_residual(\n",
    "            self_attention_output, lambda x: self.cross_attention_block(x, encoder_output, encoder_output, src_mask)[0]\n",
    "        )\n",
    "        output_tensor = self.feed_forward_residual(cross_attention_output, self.feed_forward_block)\n",
    "        return output_tensor\n"
   ]
  },
  {
   "cell_type": "code",
   "execution_count": 15,
   "metadata": {
    "execution": {
     "iopub.execute_input": "2025-01-06T07:49:36.609660Z",
     "iopub.status.busy": "2025-01-06T07:49:36.609370Z",
     "iopub.status.idle": "2025-01-06T07:49:36.614546Z",
     "shell.execute_reply": "2025-01-06T07:49:36.613627Z",
     "shell.execute_reply.started": "2025-01-06T07:49:36.609639Z"
    },
    "id": "vwdthvkrtNUM",
    "trusted": true
   },
   "outputs": [],
   "source": [
    "class Decoder(nn.Module):\n",
    "    def __init__(self, d_model, h, d_ff, dropout, N):\n",
    "        super().__init__()\n",
    "        self.layers = nn.ModuleList([DecoderBlock(d_model, h, d_ff, dropout) for _ in range(N)])\n",
    "        self.norm = nn.LayerNorm(d_model)\n",
    "\n",
    "    def forward(self, x, encoder_output, src_mask=None, tgt_mask=None):\n",
    "        for layer in self.layers:\n",
    "            x = layer(x, encoder_output, tgt_mask, src_mask)\n",
    "        x = self.norm(x)\n",
    "        return x"
   ]
  },
  {
   "cell_type": "markdown",
   "metadata": {
    "id": "Qm4g_8O1tS3d"
   },
   "source": [
    "<p style = \"font-family: 'Helvetica Neue', Arial, sans-serif; text-align: left; font-size: 17.5px\">You can see in the Decoder image that after running a stack of <code>DecoderBlock</code>s, we have a Linear Layer and a Softmax function to the output of probabilities. The <code>ProjectionLayer</code> class below is responsible for converting the output of the model into a probability distribution over the <i>vocabulary</i>, where we select each output token from a vocabulary of possible tokens.</p>"
   ]
  },
  {
   "cell_type": "code",
   "execution_count": 16,
   "metadata": {
    "execution": {
     "iopub.execute_input": "2025-01-06T07:49:37.969879Z",
     "iopub.status.busy": "2025-01-06T07:49:37.969580Z",
     "iopub.status.idle": "2025-01-06T07:49:37.974242Z",
     "shell.execute_reply": "2025-01-06T07:49:37.973360Z",
     "shell.execute_reply.started": "2025-01-06T07:49:37.969857Z"
    },
    "id": "UbWVoNintThN",
    "trusted": true
   },
   "outputs": [],
   "source": [
    "class ProjectionLayer(nn.Module):\n",
    "    def __init__(self, d_model, vocab_size):\n",
    "        super().__init__()\n",
    "        self.proj = nn.Linear(d_model, vocab_size)\n",
    "\n",
    "    def forward(self, x):\n",
    "        x = self.proj(x)\n",
    "        x = F.log_softmax(x, dim=-1)\n",
    "        return x"
   ]
  },
  {
   "cell_type": "markdown",
   "metadata": {
    "id": "waCzPEAxtaR8"
   },
   "source": [
    "## Part 9: Building the Transformer\n",
    "\n",
    "<p style = \"font-family: 'Helvetica Neue', Arial, sans-serif; text-align: left; font-size: 17.5px\">We finally have every component of the Transformer architecture ready. We may now construct the Transformer by putting it all together.</p>\n",
    "\n",
    "<p style = \"font-family: 'Helvetica Neue', Arial, sans-serif; text-align: left; font-size: 17.5px\">In the <code>Transformer</code> class below, we will bring together all the components of the model's architecture.</p>"
   ]
  },
  {
   "cell_type": "code",
   "execution_count": 17,
   "metadata": {
    "execution": {
     "iopub.execute_input": "2025-01-06T07:49:39.573640Z",
     "iopub.status.busy": "2025-01-06T07:49:39.573330Z",
     "iopub.status.idle": "2025-01-06T07:49:39.579380Z",
     "shell.execute_reply": "2025-01-06T07:49:39.578465Z",
     "shell.execute_reply.started": "2025-01-06T07:49:39.573613Z"
    },
    "id": "qXbPW4oCtk2G",
    "trusted": true
   },
   "outputs": [],
   "source": [
    "class Transformer(nn.Module):\n",
    "    def __init__(self, encoder, decoder, src_embed, tgt_embed, src_pos, tgt_pos, projection_layer):\n",
    "        super().__init__()\n",
    "        self.encoder = encoder\n",
    "        self.decoder = decoder\n",
    "        self.src_embed = src_embed\n",
    "        self.tgt_embed = tgt_embed\n",
    "        self.src_pos = src_pos\n",
    "        self.tgt_pos = tgt_pos\n",
    "        self.projection_layer = projection_layer\n",
    "\n",
    "    def encode(self, src, src_mask=None):\n",
    "        x = self.src_embed(src)\n",
    "        x = self.src_pos(x)\n",
    "        x = self.encoder(x, src_mask)\n",
    "        return x\n",
    "\n",
    "    def decode(self, tgt, encoder_output, src_mask=None, tgt_mask=None):\n",
    "        x = self.tgt_embed(tgt)\n",
    "        x = self.tgt_pos(x)\n",
    "        x = self.decoder(x, encoder_output, src_mask, tgt_mask)\n",
    "        return x\n",
    "\n",
    "    def project(self, x):\n",
    "        return self.projection_layer(x)"
   ]
  },
  {
   "cell_type": "markdown",
   "metadata": {
    "id": "6znypMaetmRk"
   },
   "source": [
    "<p style = \"font-family: 'Helvetica Neue', Arial, sans-serif; text-align: left; font-size: 17.5px\">The architecture is finally ready. We now define a function called <code>build_transformer</code>, in which we define the parameters and everything we need to have a fully operational Transformer model for the task of <b>machine translation</b>.</p>\n",
    "\n",
    "<p style = \"font-family: 'Helvetica Neue', Arial, sans-serif; text-align: left; font-size: 17.5px\">We will set the same parameters as in the original paper, <a href = \"https://arxiv.org/pdf/1706.03762.pdf\"><i>Attention Is All You Need</i></a>, where $d_{model}$ = 512, $N$ = 6, $h$ = 8, dropout rate $P_{drop}$ = 0.1, and $d_{ff}$ = 2048.</p>"
   ]
  },
  {
   "cell_type": "code",
   "execution_count": 18,
   "metadata": {
    "execution": {
     "iopub.execute_input": "2025-01-06T07:49:40.950528Z",
     "iopub.status.busy": "2025-01-06T07:49:40.950171Z",
     "iopub.status.idle": "2025-01-06T07:49:40.955917Z",
     "shell.execute_reply": "2025-01-06T07:49:40.955096Z",
     "shell.execute_reply.started": "2025-01-06T07:49:40.950499Z"
    },
    "id": "bqGnJ6w2twJc",
    "trusted": true
   },
   "outputs": [],
   "source": [
    "def build_transformer(\n",
    "    src_vocab_size,\n",
    "    tgt_vocab_size,\n",
    "    src_seq_len=100,\n",
    "    tgt_seq_len=100,\n",
    "    d_model=512,\n",
    "    d_ff=2048,\n",
    "    num_layers=6,\n",
    "    num_heads=8,\n",
    "    dropout_rate=0.1\n",
    "):\n",
    "    source_embedding = nn.Embedding(src_vocab_size, d_model)\n",
    "    target_embedding = nn.Embedding(tgt_vocab_size, d_model)\n",
    "\n",
    "    source_position_encoding = nn.Sequential(\n",
    "        # nn.Dropout(dropout_rate),\n",
    "        PositionalEncoding(d_model, src_seq_len, dropout_rate)\n",
    "    )\n",
    "\n",
    "    target_position_encoding = nn.Sequential(\n",
    "        # nn.Dropout(dropout_rate),\n",
    "        PositionalEncoding(d_model, tgt_seq_len, dropout_rate)\n",
    "    )\n",
    "\n",
    "    encoder_module = Encoder(d_model, num_heads, d_ff, dropout_rate, num_layers)\n",
    "    decoder_module = Decoder(d_model, num_heads, d_ff, dropout_rate, num_layers)\n",
    "    output_projection = ProjectionLayer(d_model, tgt_vocab_size)\n",
    "\n",
    "    transformer_model = Transformer(\n",
    "        encoder_module,\n",
    "        decoder_module,\n",
    "        source_embedding,\n",
    "        target_embedding,\n",
    "        source_position_encoding,\n",
    "        target_position_encoding,\n",
    "        output_projection\n",
    "    )\n",
    "\n",
    "    for parameter in transformer_model.parameters():\n",
    "        if parameter.dim() > 1:\n",
    "            nn.init.xavier_uniform_(parameter)\n",
    "\n",
    "    return transformer_model\n"
   ]
  },
  {
   "cell_type": "markdown",
   "metadata": {
    "id": "Iw7CWf4bt3yr"
   },
   "source": [
    "The model is now ready to be trained!"
   ]
  },
  {
   "cell_type": "markdown",
   "metadata": {
    "id": "6_7Z3fEYuTK0"
   },
   "source": [
    "## Part 10: Tokenizer"
   ]
  },
  {
   "cell_type": "markdown",
   "metadata": {
    "id": "EDinqTghqr_Q"
   },
   "source": [
    "<p style = \"font-family: 'Helvetica Neue', Arial, sans-serif; text-align: left; font-size: 17.5px\">Tokenization is a crucial preprocessing step for our Transformer model. In this step, we convert raw text into a number format that the model can process.  </p>\n",
    "\n",
    "<p style = \"font-family: 'Helvetica Neue', Arial, sans-serif; text-align: left; font-size: 17.5px\">There are several Tokenization strategies. We will use the <i>word-level tokenization</i> to transform each word in a sentence into a token.</p>"
   ]
  },
  {
   "cell_type": "markdown",
   "metadata": {
    "id": "at-cYYjnqr_Q"
   },
   "source": [
    "<center>\n",
    "    <img src = \"https://substackcdn.com/image/fetch/f_auto,q_auto:good,fl_progressive:steep/https%3A%2F%2Fbucketeer-e05bbc84-baa3-437e-9518-adb32be77984.s3.amazonaws.com%2Fpublic%2Fimages%2F8d5e749c-b0bd-4496-85a1-9b4397ad935f_1400x787.jpeg\" width = 800, height= 800>\n",
    "<p style = \"font-size: 16px;\n",
    "            font-family: 'Georgia', serif;\n",
    "            text-align: center;\n",
    "            margin-top: 10px;\">Different tokenization strategies. Source: <a href = \"https://shaankhosla.substack.com/p/talking-tokenization\">shaankhosla.substack.com</a>.</p>\n",
    "</center>"
   ]
  },
  {
   "cell_type": "markdown",
   "metadata": {
    "id": "gjRMr2N6qr_Q"
   },
   "source": [
    "<p style = \"font-family: 'Helvetica Neue', Arial, sans-serif; text-align: left; font-size: 17.5px\">After tokenizing a sentence, we map each token to an unique integer ID based on the created vocabulary present in the training corpus during the training of the tokenizer. Each integer number represents a specific word in the vocabulary.</p>\n",
    "\n",
    "<p style = \"font-family: 'Helvetica Neue', Arial, sans-serif; text-align: left; font-size: 17.5px\">Besides the words in the training corpus, Transformers use special tokens for specific purposes. These are some that we will define right away:</p>\n",
    "\n",
    "<p style = \"font-family: 'Helvetica Neue', Arial, sans-serif; text-align: left; font-size: 17.5px\"><b>• [UNK]:</b> This token is used to identify an unknown word in the sequence.</p>\n",
    "\n",
    "<p style = \"font-family: 'Helvetica Neue', Arial, sans-serif; text-align: left; font-size: 17.5px\"><b>• [PAD]:</b> Padding token to ensure that all sequences in a batch have the same length, so we pad shorter sentences with this token. We use attention masks to <i>\"tell\"</i> the model to ignore the padded tokens during training since they don't have any real meaning to the task.</p>\n",
    "\n",
    "<p style = \"font-family: 'Helvetica Neue', Arial, sans-serif; text-align: left; font-size: 17.5px\"><b>•  [SOS]:</b> This is a token used to signal the <i>Start of Sentence</i>.</p>\n",
    "\n",
    "<p style = \"font-family: 'Helvetica Neue', Arial, sans-serif; text-align: left; font-size: 17.5px\"><b>•  [EOS]:</b> This is a token used to signal the <i>End of Sentence</i>.</p>\n",
    "\n",
    "<p style = \"font-family: 'Helvetica Neue', Arial, sans-serif; text-align: left; font-size: 17.5px\">In the <code>build_tokenizer</code> function below, we ensure a tokenizer is ready to train the model. It checks if there is an existing tokenizer, and if that is not the case, it trains a new tokenizer.</p>"
   ]
  },
  {
   "cell_type": "code",
   "execution_count": 19,
   "metadata": {
    "execution": {
     "iopub.execute_input": "2025-01-06T07:49:45.670759Z",
     "iopub.status.busy": "2025-01-06T07:49:45.670423Z",
     "iopub.status.idle": "2025-01-06T07:49:45.675930Z",
     "shell.execute_reply": "2025-01-06T07:49:45.674889Z",
     "shell.execute_reply.started": "2025-01-06T07:49:45.670728Z"
    },
    "id": "Zh9pOItduxHq",
    "trusted": true
   },
   "outputs": [],
   "source": [
    "def build_tokenizer(config, dataset, language):\n",
    "    tokenizer_path = Path(config[\"tokenizer_file\"].format(lang=language))\n",
    "\n",
    "    if not tokenizer_path.is_file():\n",
    "        tokenizer = Tokenizer(WordLevel(unk_token=\"[UNK]\"))\n",
    "        tokenizer.pre_tokenizer = Whitespace()\n",
    "\n",
    "        token_trainer = WordLevelTrainer(\n",
    "            special_tokens=[\"[UNK]\", \"[PAD]\", \"[SOS]\", \"[EOS]\"],\n",
    "            min_frequency=2\n",
    "        )\n",
    "\n",
    "        sentences = list(get_all_sentences(dataset, language))\n",
    "        tokenizer.train_from_iterator(sentences, trainer=token_trainer)\n",
    "        tokenizer.save(str(tokenizer_path))\n",
    "    else:\n",
    "        tokenizer = Tokenizer.from_file(str(tokenizer_path))\n",
    "\n",
    "    return tokenizer\n"
   ]
  },
  {
   "cell_type": "markdown",
   "metadata": {
    "id": "oodlr4eouxTU"
   },
   "source": [
    "## Part 11: Load Dataset"
   ]
  },
  {
   "cell_type": "markdown",
   "metadata": {
    "id": "YdVFowgUqr_Q"
   },
   "source": [
    "<p style = \"font-family: 'Helvetica Neue', Arial, sans-serif; text-align: left; font-size: 17.5px\">For this task, we will use the <a href = \"opus_books · Datasets at Hugging Face\">OpusBooks dataset</a>, available on 🤗Hugging Face. This dataset consists of two features, <code>id</code> and <code>translation</code>. The <code>translation</code> feature contains pairs of sentences in different languages, such as Spanish and Portuguese, English and French, and so forth.</p>\n",
    "\n",
    "<p style = \"font-family: 'Helvetica Neue', Arial, sans-serif; text-align: left; font-size: 17.5px\">I first tried translating sentences from English to Portuguese—my native tongue — but there are only 1.4k examples for this pair, so the results were not satisfying in the current configurations for this model. I then tried to use the English-French pair due to its higher number of examples—127k—but it would take too long to train with the current configurations. I then opted to train the model on the English-Italian pair, the same one used in the <a href = \"https://youtu.be/ISNdQcPhsts?si=253J39cose6IdsLv\">Coding a Transformer from scratch on PyTorch, with full explanation, training and inference\n",
    "</a> video, as that was a good balance between performance and time of training.</p>\n",
    "\n",
    "<p style = \"font-family: 'Helvetica Neue', Arial, sans-serif; text-align: left; font-size: 17.5px\">We start by defining the <code>get_all_sentences</code> function to iterate over the dataset and extract the sentences according to the language pair defined—we will do that later.</p>"
   ]
  },
  {
   "cell_type": "code",
   "execution_count": 20,
   "metadata": {
    "execution": {
     "iopub.execute_input": "2025-01-06T07:49:48.090777Z",
     "iopub.status.busy": "2025-01-06T07:49:48.090476Z",
     "iopub.status.idle": "2025-01-06T07:49:48.094590Z",
     "shell.execute_reply": "2025-01-06T07:49:48.093703Z",
     "shell.execute_reply.started": "2025-01-06T07:49:48.090754Z"
    },
    "id": "xvRuuTpIveZS",
    "trusted": true
   },
   "outputs": [],
   "source": [
    "def get_all_sentences(ds, lang):\n",
    "    for st in ds:\n",
    "        yield st[\"translation\"][lang]"
   ]
  },
  {
   "cell_type": "markdown",
   "metadata": {
    "id": "EA13IRYEqr_R"
   },
   "source": [
    "<p style = \"font-family: 'Helvetica Neue', Arial, sans-serif; text-align: left; font-size: 17.5px\">The <code>get_ds</code> function is defined to load and prepare the dataset for training and validation. In this function, we build or load the tokenizer, split the dataset, and create DataLoaders, so the model can successfully iterate over the dataset in batches. The result of these functions is tokenizers for the source and target languages plus the DataLoader objects.</p>"
   ]
  },
  {
   "cell_type": "code",
   "execution_count": 22,
   "metadata": {
    "execution": {
     "iopub.execute_input": "2025-01-06T07:49:54.710911Z",
     "iopub.status.busy": "2025-01-06T07:49:54.710580Z",
     "iopub.status.idle": "2025-01-06T07:49:54.718100Z",
     "shell.execute_reply": "2025-01-06T07:49:54.717130Z",
     "shell.execute_reply.started": "2025-01-06T07:49:54.710876Z"
    },
    "id": "IkTRqP8LvpVy",
    "trusted": true
   },
   "outputs": [],
   "source": [
    "def split_dataset(dataset, train_ratio=0.9):\n",
    "    train_size = int(len(dataset) * train_ratio)\n",
    "    val_size = len(dataset) - train_size\n",
    "    return random_split(dataset, [train_size, val_size])\n",
    "\n",
    "def create_dataloader(dataset, tokenizer_src, tokenizer_tgt, config, batch_size, shuffle):\n",
    "    bilingual_data = BilingualDataset(\n",
    "        dataset,\n",
    "        tokenizer_src,\n",
    "        tokenizer_tgt,\n",
    "        config[\"lang_src\"],\n",
    "        config[\"lang_tgt\"],\n",
    "        config[\"seq_len\"]\n",
    "    )\n",
    "    return DataLoader(bilingual_data, batch_size=batch_size, shuffle=shuffle)\n",
    "\n",
    "def calculate_max_lengths(dataset, tokenizer_src, tokenizer_tgt, lang_src, lang_tgt):\n",
    "    max_src_len = 0\n",
    "    max_tgt_len = 0\n",
    "    for item in dataset:\n",
    "        src_len = len(tokenizer_src.encode(item[\"translation\"][lang_src]).ids) + 2\n",
    "        tgt_len = len(tokenizer_tgt.encode(item[\"translation\"][lang_tgt]).ids) + 2\n",
    "        max_src_len = max(max_src_len, src_len)\n",
    "        max_tgt_len = max(max_tgt_len, tgt_len)\n",
    "    return max_src_len, max_tgt_len\n",
    "\n",
    "def get_ds(config):\n",
    "    dataset = load_dataset(\"opus_books\", f\"{config['lang_src']}-{config['lang_tgt']}\", split=\"train\")\n",
    "    tokenizer_src = build_tokenizer(config, dataset, config[\"lang_src\"])\n",
    "    tokenizer_tgt = build_tokenizer(config, dataset, config[\"lang_tgt\"])\n",
    "\n",
    "    train_dataset, val_dataset = split_dataset(dataset)\n",
    "\n",
    "    train_loader = create_dataloader(train_dataset, tokenizer_src, tokenizer_tgt, config, config[\"batch_size\"], True)\n",
    "    val_loader = create_dataloader(val_dataset, tokenizer_src, tokenizer_tgt, config, 1, False)\n",
    "\n",
    "    max_src_len, max_tgt_len = calculate_max_lengths(\n",
    "        dataset, tokenizer_src, tokenizer_tgt, config[\"lang_src\"], config[\"lang_tgt\"]\n",
    "    )\n",
    "\n",
    "    return train_loader, val_loader, tokenizer_src, tokenizer_tgt\n"
   ]
  },
  {
   "cell_type": "markdown",
   "metadata": {
    "id": "VK3d2-AVqr_R"
   },
   "source": [
    "<p style = \"font-family: 'Helvetica Neue', Arial, sans-serif; text-align: left; font-size: 17.5px\">We define the <code>casual_mask</code> function to create a mask for the attention mechanism of the decoder. This mask prevents the model from having information about future elements in the sequence. </p>\n",
    "\n",
    "<p style = \"font-family: 'Helvetica Neue', Arial, sans-serif; text-align: left; font-size: 17.5px\">We start by making a square grid filled with ones. We determine the grid size with the <code>size</code> parameter. Then, we change all the numbers above the main diagonal line to zeros. Every number on one side becomes a zero, while the rest remain ones. The function then flips all these values, turning ones into zeros and zeros into ones. This process is crucial for models that predict future tokens in a sequence.</p>"
   ]
  },
  {
   "cell_type": "code",
   "execution_count": 23,
   "metadata": {
    "execution": {
     "iopub.execute_input": "2025-01-06T07:49:56.710402Z",
     "iopub.status.busy": "2025-01-06T07:49:56.710053Z",
     "iopub.status.idle": "2025-01-06T07:49:56.714678Z",
     "shell.execute_reply": "2025-01-06T07:49:56.713839Z",
     "shell.execute_reply.started": "2025-01-06T07:49:56.710373Z"
    },
    "id": "kTgMYaY2vvWq",
    "trusted": true
   },
   "outputs": [],
   "source": [
    "def casual_mask(size):\n",
    "    mask = torch.ones(size, size).triu(1)\n",
    "    mask = 1 - mask\n",
    "    return mask.int()"
   ]
  },
  {
   "cell_type": "markdown",
   "metadata": {
    "id": "ccdK5XnMqr_R"
   },
   "source": [
    "<p style = \"font-family: 'Helvetica Neue', Arial, sans-serif; text-align: left; font-size: 17.5px\">The <code>BilingualDataset</code> class processes the texts of the target and source languages in the dataset by tokenizing them and adding all the necessary special tokens. This class also certifies that the sentences are within a maximum sequence length for both languages and pads all necessary sentences.</p>"
   ]
  },
  {
   "cell_type": "code",
   "execution_count": 24,
   "metadata": {
    "execution": {
     "iopub.execute_input": "2025-01-06T07:49:57.429955Z",
     "iopub.status.busy": "2025-01-06T07:49:57.429525Z",
     "iopub.status.idle": "2025-01-06T07:49:57.441375Z",
     "shell.execute_reply": "2025-01-06T07:49:57.440511Z",
     "shell.execute_reply.started": "2025-01-06T07:49:57.429916Z"
    },
    "id": "x9v94mdgv3y6",
    "trusted": true
   },
   "outputs": [],
   "source": [
    "class BilingualDataset(Dataset):\n",
    "    def __init__(self, ds, tokenizer_src, tokenizer_tgt, src_lang, tgt_lang, seq_len):\n",
    "        super().__init__()\n",
    "        self.ds = ds\n",
    "        self.tokenizer_src = tokenizer_src\n",
    "        self.tokenizer_tgt = tokenizer_tgt\n",
    "        self.src_lang = src_lang\n",
    "        self.tgt_lang = tgt_lang\n",
    "        self.seq_len = seq_len\n",
    "        self.pad_id = tokenizer_tgt.token_to_id(\"[PAD]\")\n",
    "        self.sos_id = tokenizer_tgt.token_to_id(\"[SOS]\")\n",
    "        self.eos_id = tokenizer_tgt.token_to_id(\"[EOS]\")\n",
    "\n",
    "    def __len__(self):\n",
    "        return len(self.ds)\n",
    "\n",
    "    def __getitem__(self, idx):\n",
    "        src_text = self.ds[idx][\"translation\"][self.src_lang]\n",
    "        tgt_text = self.ds[idx][\"translation\"][self.tgt_lang]\n",
    "\n",
    "        src_tokens = self._tokenize_and_truncate(src_text, self.tokenizer_src)\n",
    "        tgt_tokens = self._tokenize_and_truncate(tgt_text, self.tokenizer_tgt)\n",
    "\n",
    "        src_padded = self._add_special_tokens_and_pad(src_tokens, is_source=True)\n",
    "        tgt_inp, tgt_label = self._build_decoder_inputs_and_labels(tgt_tokens)\n",
    "\n",
    "        return {\n",
    "            \"encoder_input\": torch.tensor(src_padded, dtype=torch.long),\n",
    "            \"decoder_input\": torch.tensor(tgt_inp, dtype=torch.long),\n",
    "            \"label\": torch.tensor(tgt_label, dtype=torch.long),\n",
    "            \"src_text\": src_text,\n",
    "            \"tgt_text\": tgt_text\n",
    "        }\n",
    "\n",
    "    def _tokenize_and_truncate(self, text, tokenizer):\n",
    "        tokens = tokenizer.encode(text).ids\n",
    "        return tokens[: self.seq_len - 2] if len(tokens) + 2 > self.seq_len else tokens\n",
    "\n",
    "    def _add_special_tokens_and_pad(self, tokens, is_source):\n",
    "        padded_sequence = [self.sos_id] + tokens + [self.eos_id]\n",
    "        if is_source:\n",
    "            padded_sequence += [self.pad_id] * (self.seq_len - len(padded_sequence))\n",
    "        return padded_sequence\n",
    "\n",
    "    def _build_decoder_inputs_and_labels(self, tokens):\n",
    "        tgt_inp = [self.sos_id] + tokens\n",
    "        tgt_label = tokens + [self.eos_id]\n",
    "        tgt_inp += [self.pad_id] * (self.seq_len - len(tgt_inp))\n",
    "        tgt_label += [self.pad_id] * (self.seq_len - len(tgt_label))\n",
    "        return tgt_inp, tgt_label\n"
   ]
  },
  {
   "cell_type": "markdown",
   "metadata": {
    "id": "B7cXlNUfv5uL"
   },
   "source": [
    "## Part 12: Validation Loop"
   ]
  },
  {
   "cell_type": "markdown",
   "metadata": {
    "id": "tf8Wt860qr_R"
   },
   "source": [
    "<p style = \"font-family: 'Helvetica Neue', Arial, sans-serif; text-align: left; font-size: 17.5px\">We will now create two functions for the validation loop. The validation loop is crucial to evaluate model performance in translating sentences from data it has not seen during training.</p>\n",
    "\n",
    "<p style = \"font-family: 'Helvetica Neue', Arial, sans-serif; text-align: left; font-size: 17.5px\">We will define two functions. The first function, <code>greedy_decode</code>, gives us the model's output by obtaining the most probable next token. The second function, <code>run_validation</code>, is responsible for running the validation process in which we decode the model's output and compare it with the reference text for the target sentence.</p>"
   ]
  },
  {
   "cell_type": "code",
   "execution_count": 25,
   "metadata": {
    "execution": {
     "iopub.execute_input": "2025-01-06T07:50:00.531763Z",
     "iopub.status.busy": "2025-01-06T07:50:00.531272Z",
     "iopub.status.idle": "2025-01-06T07:50:00.540451Z",
     "shell.execute_reply": "2025-01-06T07:50:00.539455Z",
     "shell.execute_reply.started": "2025-01-06T07:50:00.531719Z"
    },
    "id": "z1rzcAkpv8Ew",
    "trusted": true
   },
   "outputs": [],
   "source": [
    "def greedy_decode(model, source, source_mask, tokenizer_tgt, max_len, device):\n",
    "    sos_id = tokenizer_tgt.token_to_id(\"[SOS]\")\n",
    "    eos_id = tokenizer_tgt.token_to_id(\"[EOS]\")\n",
    "\n",
    "    encoder_output = model.encode(source.to(device), source_mask.to(device))\n",
    "\n",
    "    decoder_out = torch.tensor([[sos_id]], dtype=torch.long, device=device)\n",
    "\n",
    "    for _ in range(max_len):\n",
    "        padd = (decoder_out != tokenizer_tgt.token_to_id(\"[PAD]\")).unsqueeze(1).unsqueeze(2)\n",
    "\n",
    "        size = decoder_out.size(1)\n",
    "        subsequent_mask = torch.triu(torch.ones(1, 1, size, size, device=device), diagonal=1).bool()\n",
    "        tgt_mask = padd & ~subsequent_mask\n",
    "        decoder_output = model.decode(decoder_out, encoder_output, src_mask=source_mask, tgt_mask=tgt_mask)\n",
    "\n",
    "        projected_output = model.project(decoder_output[:, -1])\n",
    "        next_word = torch.argmax(projected_output, dim=-1).item()\n",
    "        decoder_out = torch.cat([decoder_out, torch.tensor([[next_word]], device=device)], dim=1)\n",
    "\n",
    "        if next_word == eos_id:\n",
    "            break\n",
    "\n",
    "    return decoder_out[0].cpu().numpy()"
   ]
  },
  {
   "cell_type": "code",
   "execution_count": 26,
   "metadata": {
    "execution": {
     "iopub.execute_input": "2025-01-06T07:50:02.070161Z",
     "iopub.status.busy": "2025-01-06T07:50:02.069820Z",
     "iopub.status.idle": "2025-01-06T07:50:02.077720Z",
     "shell.execute_reply": "2025-01-06T07:50:02.076730Z",
     "shell.execute_reply.started": "2025-01-06T07:50:02.070133Z"
    },
    "id": "iF7v9L0owcLT",
    "trusted": true
   },
   "outputs": [],
   "source": [
    "def run_validation(\n",
    "    model, validation_ds, tokenizer_src, tokenizer_tgt, max_len, device,\n",
    "    print_msg=print, global_state=None, writer=None, num_examples=50\n",
    "):\n",
    "    model.eval()\n",
    "    example_count = 0\n",
    "    console_width = 80\n",
    "\n",
    "    with torch.no_grad():\n",
    "        for batch in validation_ds:\n",
    "            if batch[\"encoder_input\"].size(0) > 1:\n",
    "                continue\n",
    "\n",
    "            src_text, tgt_text, pred_text = _process_batch(\n",
    "                batch, model, tokenizer_src, tokenizer_tgt, max_len, device\n",
    "            )\n",
    "\n",
    "            _print_example(print_msg, console_width, src_text, tgt_text, pred_text)\n",
    "            example_count += 1\n",
    "\n",
    "            if example_count >= num_examples:\n",
    "                break\n",
    "\n",
    "    model.train()\n",
    "\n",
    "\n",
    "def _process_batch(batch, model, tokenizer_src, tokenizer_tgt, max_len, device):\n",
    "    encoder_input = batch[\"encoder_input\"].to(device)\n",
    "    encoder_mask = (encoder_input != tokenizer_src.token_to_id(\"[PAD]\")).unsqueeze(1).unsqueeze(2)\n",
    "\n",
    "    model_output = greedy_decode(\n",
    "        model, encoder_input, encoder_mask, tokenizer_tgt, max_len, device\n",
    "    )\n",
    "\n",
    "    src_text = tokenizer_src.decode(encoder_input[0].tolist())\n",
    "    tgt_text = tokenizer_tgt.decode(batch[\"label\"][0].tolist())\n",
    "    pred_text = tokenizer_tgt.decode(model_output.tolist())\n",
    "\n",
    "    return src_text, tgt_text, pred_text\n",
    "\n",
    "\n",
    "def _print_example(print_msg, console_width, src_text, tgt_text, pred_text):\n",
    "    print_msg(\"=\" * console_width)\n",
    "    print_msg(f\"Source: {src_text}\")\n",
    "    print_msg(f\"Target: {tgt_text}\")\n",
    "    print_msg(f\"Prediction: {pred_text}\")\n",
    "    print_msg(\"=\" * console_width)\n"
   ]
  },
  {
   "cell_type": "markdown",
   "metadata": {
    "id": "qw3nykKxwkIh"
   },
   "source": [
    "## Part 13: Training Loop"
   ]
  },
  {
   "cell_type": "markdown",
   "metadata": {
    "id": "az_Kwq4Zqr_S"
   },
   "source": [
    "<p style = \"font-family: 'Helvetica Neue', Arial, sans-serif; text-align: left; font-size: 17.5px\">We are ready to train our Transformer model on the OpusBook dataset for the English to Italian translation task.</p>\n",
    "\n",
    "<p style = \"font-family: 'Helvetica Neue', Arial, sans-serif; text-align: left; font-size: 17.5px\">We first start by defining the <code>get_model</code> function to load the model by calling the <code>build_transformer</code> function we have previously defined. This function uses the <code>config</code> dictionary to set a few parameters.</p>"
   ]
  },
  {
   "cell_type": "code",
   "execution_count": 27,
   "metadata": {
    "execution": {
     "iopub.execute_input": "2025-01-06T07:50:06.249907Z",
     "iopub.status.busy": "2025-01-06T07:50:06.249601Z",
     "iopub.status.idle": "2025-01-06T07:50:06.254429Z",
     "shell.execute_reply": "2025-01-06T07:50:06.253380Z",
     "shell.execute_reply.started": "2025-01-06T07:50:06.249882Z"
    },
    "id": "7QMn1BULwnBl",
    "trusted": true
   },
   "outputs": [],
   "source": [
    "def get_model(config, vocab_src_len, vocab_tgt_len):\n",
    "    model = build_transformer(\n",
    "        src_vocab_size=vocab_src_len,\n",
    "        tgt_vocab_size=vocab_tgt_len,\n",
    "        src_seq_len=config[\"seq_len\"],\n",
    "        tgt_seq_len=config[\"seq_len\"],\n",
    "        d_model=config[\"d_model\"],\n",
    "        d_ff=2048,\n",
    "        num_layers=6,\n",
    "        num_heads=8,\n",
    "        dropout_rate=0.1\n",
    "    )\n",
    "    return model"
   ]
  },
  {
   "cell_type": "markdown",
   "metadata": {
    "id": "Ord2DlVkqr_S"
   },
   "source": [
    "<p style = \"font-family: 'Helvetica Neue', Arial, sans-serif; text-align: left; font-size: 17.5px\">I have mentioned the <code>config</code> dictionary several times throughout this notebook. Now, it is time to create it.</p>\n",
    "\n",
    "<p style = \"font-family: 'Helvetica Neue', Arial, sans-serif; text-align: left; font-size: 17.5px\">In the following cell, we will define two functions to configure our model and the training process.</p>\n",
    "\n",
    "<p style = \"font-family: 'Helvetica Neue', Arial, sans-serif; text-align: left; font-size: 17.5px\">In the <code>get_config</code> function, we define crucial parameters for the training process. <code>batch_size</code> for the number of training examples used in one iteration, <code>num_epochs</code> as the number of times the entire dataset is passed forward and backward through the Transformer, <code>lr</code> as the learning rate for the optimizer, etc. We will also finally define the pairs from the OpusBook dataset, <code>'lang_src': 'en'</code> for selecting English as the source language and <code>'lang_tgt': 'it'</code> for selecting Italian as the target language.</p>\n",
    "\n",
    "<p style = \"font-family: 'Helvetica Neue', Arial, sans-serif; text-align: left; font-size: 17.5px\">The <code>get_weights_file_path</code> function constructs the file path for saving or loading model weights for any specific epoch.</p>"
   ]
  },
  {
   "cell_type": "code",
   "execution_count": 28,
   "metadata": {
    "execution": {
     "iopub.execute_input": "2025-01-06T07:50:08.390546Z",
     "iopub.status.busy": "2025-01-06T07:50:08.390201Z",
     "iopub.status.idle": "2025-01-06T07:50:08.395571Z",
     "shell.execute_reply": "2025-01-06T07:50:08.394706Z",
     "shell.execute_reply.started": "2025-01-06T07:50:08.390519Z"
    },
    "id": "gXt82CejxeHZ",
    "trusted": true
   },
   "outputs": [],
   "source": [
    "def get_config():\n",
    "    return {\n",
    "        \"batch_size\": 32,\n",
    "        \"num_epochs\": 5,\n",
    "        \"lr\": 1e-3,\n",
    "        \"seq_len\": 256,\n",
    "        \"d_model\": 512,\n",
    "        \"lang_src\": \"en\",\n",
    "        \"lang_tgt\": \"it\",\n",
    "        \"model_folder\": \"models\",\n",
    "        \"model_basename\": \"transformer_en_it\",\n",
    "        \"preload\": None,\n",
    "        \"tokenizer_file\": \"tokenizer_{lang}.json\",\n",
    "        \"experiment_name\": \"en-it-translation\"\n",
    "    }\n",
    "\n",
    "def get_weights_file_path(config, epoch):\n",
    "    folder = Path(os.getcwd()) / config[\"model_folder\"]\n",
    "    folder.mkdir(exist_ok=True, parents=True)\n",
    "    filename = f\"{config['model_basename']}_{epoch}.pt\"\n",
    "    return str(folder / filename)"
   ]
  },
  {
   "cell_type": "code",
   "execution_count": 29,
   "metadata": {
    "execution": {
     "iopub.execute_input": "2025-01-06T07:50:08.715268Z",
     "iopub.status.busy": "2025-01-06T07:50:08.714992Z",
     "iopub.status.idle": "2025-01-06T07:50:08.725785Z",
     "shell.execute_reply": "2025-01-06T07:50:08.725030Z",
     "shell.execute_reply.started": "2025-01-06T07:50:08.715247Z"
    },
    "id": "2qK9wAjRxoDQ",
    "trusted": true
   },
   "outputs": [],
   "source": [
    "def train_model(config):\n",
    "    device = torch.device(\"cuda\" if torch.cuda.is_available() else \"cpu\")\n",
    "    Path(config[\"model_folder\"]).mkdir(exist_ok=True, parents=True)\n",
    "\n",
    "    train_loader, val_loader, tokenizer_src, tokenizer_tgt = get_ds(config)\n",
    "    pad_id = tokenizer_tgt.token_to_id(\"[PAD]\")\n",
    "\n",
    "    model = get_model(config, tokenizer_src.get_vocab_size(), tokenizer_tgt.get_vocab_size()).to(device)\n",
    "    optimizer = torch.optim.Adam(model.parameters(), lr=config[\"lr\"], eps=1e-9)\n",
    "    criterion = nn.CrossEntropyLoss(ignore_index=pad_id, label_smoothing=0.1)\n",
    "\n",
    "    global_step = 0\n",
    "    start_epoch = 1\n",
    "\n",
    "    for epoch in range(start_epoch, config[\"num_epochs\"] + 1):\n",
    "        epoch_loss = _train_one_epoch(\n",
    "            model, train_loader, optimizer, criterion, device, pad_id, epoch, config\n",
    "        )\n",
    "        print(f\"Epoch {epoch}/{config['num_epochs']} completed. Avg Loss: {epoch_loss:.4f}\")\n",
    "        \n",
    "        print(f\"Validating Epoch {epoch}/{config['num_epochs']}...\")\n",
    "        run_validation(\n",
    "            model, val_loader, tokenizer_src, tokenizer_tgt,\n",
    "            config[\"seq_len\"], device, print_msg=lambda msg: tqdm.write(msg), num_examples=5\n",
    "        )\n",
    "\n",
    "        _save_checkpoint(model, optimizer, global_step, config, epoch)\n",
    "        print(f\"Checkpoint saved for Epoch {epoch}\")\n",
    "\n",
    "\n",
    "def _train_one_epoch(model, train_loader, optimizer, criterion, device, pad_id, epoch, config):\n",
    "    model.train()\n",
    "    progress_bar = tqdm(train_loader, desc=f\"Epoch {epoch}/{config['num_epochs']} - Training\", leave=True)\n",
    "    epoch_loss = 0\n",
    "\n",
    "    for batch in progress_bar:\n",
    "        encoder_input, decoder_input, label = (\n",
    "            batch[\"encoder_input\"].to(device),\n",
    "            batch[\"decoder_input\"].to(device),\n",
    "            batch[\"label\"].to(device),\n",
    "        )\n",
    "\n",
    "        encoder_mask = _create_mask(encoder_input, pad_id)\n",
    "        decoder_mask = _create_decoder_mask(decoder_input, pad_id, device)\n",
    "\n",
    "        optimizer.zero_grad()\n",
    "        encoder_output = model.encode(encoder_input, encoder_mask)\n",
    "        decoder_output = model.decode(decoder_input, encoder_output, encoder_mask, decoder_mask)\n",
    "        out = model.project(decoder_output)\n",
    "\n",
    "        loss = criterion(out.reshape(-1, out.size(-1)), label.view(-1))\n",
    "        epoch_loss += loss.item()\n",
    "        loss.backward()\n",
    "        optimizer.step()\n",
    "\n",
    "        progress_bar.set_postfix({\"loss\": loss.item()})\n",
    "\n",
    "    return epoch_loss / len(train_loader)\n",
    "\n",
    "\n",
    "def _create_mask(tensor, pad_id):\n",
    "    return (tensor != pad_id).unsqueeze(1).unsqueeze(2)\n",
    "\n",
    "\n",
    "def _create_decoder_mask(decoder_input, pad_id, device):\n",
    "    padding_mask = _create_mask(decoder_input, pad_id)\n",
    "    no_peek_mask = casual_mask(decoder_input.size(1)).to(device).bool().unsqueeze(0)\n",
    "    return padding_mask & no_peek_mask\n",
    "\n",
    "\n",
    "def _save_checkpoint(model, optimizer, global_step, config, epoch):\n",
    "    checkpoint_path = get_weights_file_path(config, str(epoch))\n",
    "    torch.save({\n",
    "        \"epoch\": epoch,\n",
    "        \"model_state_dict\": model.state_dict(),\n",
    "        \"optimizer_state_dict\": optimizer.state_dict(),\n",
    "        \"global_step\": global_step\n",
    "    }, checkpoint_path)\n"
   ]
  },
  {
   "cell_type": "markdown",
   "metadata": {
    "id": "Qw7SjmrDqr_S"
   },
   "source": [
    "<p style = \"font-family: 'Helvetica Neue', Arial, sans-serif; text-align: left; font-size: 17.5px\">We finally define our last function, <code>train_model</code>, which takes the <code>config</code> arguments as input. </p>\n",
    "\n",
    "<p style = \"font-family: 'Helvetica Neue', Arial, sans-serif; text-align: left; font-size: 17.5px\">In this function, we will set everything up for the training. We will load the model and its necessary components onto the GPU for faster training, set the <code>Adam</code> optimizer, and configure the <code>CrossEntropyLoss</code> function to compute the differences between the translations output by the model and the reference translations from the dataset. </p>\n",
    "\n",
    "<p style = \"font-family: 'Helvetica Neue', Arial, sans-serif; text-align: left; font-size: 17.5px\">Every loop necessary for iterating over the training batches, performing backpropagation, and computing the gradients is in this function. We will also use it to run the validation function and save the current state of the model.</p>"
   ]
  },
  {
   "cell_type": "markdown",
   "metadata": {
    "id": "nrMmfyi8xrXw"
   },
   "source": [
    "We can now train the model!"
   ]
  },
  {
   "cell_type": "code",
   "execution_count": 30,
   "metadata": {
    "colab": {
     "base_uri": "https://localhost:8080/"
    },
    "execution": {
     "iopub.execute_input": "2025-01-06T07:50:13.058411Z",
     "iopub.status.busy": "2025-01-06T07:50:13.058073Z",
     "iopub.status.idle": "2025-01-06T08:36:43.810050Z",
     "shell.execute_reply": "2025-01-06T08:36:43.809168Z",
     "shell.execute_reply.started": "2025-01-06T07:50:13.058383Z"
    },
    "id": "28425EYaxrsi",
    "outputId": "fe93316e-8def-4128-cf18-ca61a815999e",
    "trusted": true
   },
   "outputs": [
    {
     "data": {
      "application/vnd.jupyter.widget-view+json": {
       "model_id": "2ba9fa52536a439382336d0d5a989c53",
       "version_major": 2,
       "version_minor": 0
      },
      "text/plain": [
       "README.md:   0%|          | 0.00/28.1k [00:00<?, ?B/s]"
      ]
     },
     "metadata": {},
     "output_type": "display_data"
    },
    {
     "data": {
      "application/vnd.jupyter.widget-view+json": {
       "model_id": "b64f3d0eb60a4d15b7fa2ea3fcb814bc",
       "version_major": 2,
       "version_minor": 0
      },
      "text/plain": [
       "train-00000-of-00001.parquet:   0%|          | 0.00/5.73M [00:00<?, ?B/s]"
      ]
     },
     "metadata": {},
     "output_type": "display_data"
    },
    {
     "data": {
      "application/vnd.jupyter.widget-view+json": {
       "model_id": "511c634803fe4ca4a793cbeb6ba4be28",
       "version_major": 2,
       "version_minor": 0
      },
      "text/plain": [
       "Generating train split:   0%|          | 0/32332 [00:00<?, ? examples/s]"
      ]
     },
     "metadata": {},
     "output_type": "display_data"
    },
    {
     "name": "stderr",
     "output_type": "stream",
     "text": [
      "Epoch 1/5 - Training: 100%|██████████| 910/910 [09:10<00:00,  1.65it/s, loss=6.66]\n"
     ]
    },
    {
     "name": "stdout",
     "output_type": "stream",
     "text": [
      "Epoch 1/5 completed. Avg Loss: 6.7637\n",
      "Validating Epoch 1/5...\n",
      "================================================================================\n",
      "Source: ' Then we are outside that law : rent does not explain anything in our case , but on the contrary only causes confusion .\n",
      "Target: — Allora siamo fuori regola . La rendita per noi non spiega nulla , al contrario , confonde .\n",
      "Prediction: La Arkad ’ ic , e e e e e e e e e e e e e e , , , , , e la , e e e e e e e e e e e e e e e e e e e e e e e e e e e e e e e e e e e e e e e e e e e e e e e e e e e e e e e e e e e e e e e e e e e e e e e e e e e e e e e e e e e la .\n",
      "================================================================================\n",
      "================================================================================\n",
      "Source: And Levin went off to find Grisha .\n",
      "Target: — E Levin andò da Griša .\n",
      "Prediction: — Ma , , , , , , , , , , , , , , , , , , , , , , , , .\n",
      "================================================================================\n",
      "================================================================================\n",
      "Source: I ain ' t as spry as I used to be .\n",
      "Target: Non son più svelto come una . volta .\n",
      "Prediction: — Ma , , , , , , , , , , , , , , , , , , , , , , , , .\n",
      "================================================================================\n",
      "================================================================================\n",
      "Source: Alice caught the baby with some difficulty , as it was a queer - shaped little creature , and held out its arms and legs in all directions , ' just like a star - fish ,' thought Alice .\n",
      "Target: Alice afferrò il bimbo , ma con qualche difficoltà , perchè era una creatura ; le mani e i piedi in tutti i sensi , “ proprio come una stella di mare ” pensò Alice .\n",
      "Prediction: La Aleksandrovic , , , , , , , , , , , , , , , , , , , , , , , , , , , , , , , , , e e e e e e e e e e e e e e e , , , , , , , , , , , , , , , , , , , , , , , , , , , , , , , , , , , , , , , , , , , , , , , , , , , , , , , , , , , , , , , , , , , , , , , , , , , , , , , , , , , , , , , , , , , , , e e e e , , , , , , , , , , , , , , e , , , , , e e , , , , e e e , , , , e e , , , , , e , e e , e e la sua , e e e e e e e e e e e e e e e e e e non , e e e e e non , e e e e e e e e e e e e e e e e e e e e e e e e e e e e e\n",
      "================================================================================\n",
      "================================================================================\n",
      "Source: He had now got over his fright , and his spirits being a little raised with the dram I had given him , he was very cheerful , and told me , as before , he would die when I bid die .\n",
      "Target: or via la paura , e rallegrati e alquanto i suoi spiriti dal rum bevuto , mi ripete con fermezza quanto mi avea detto poco prima : — « Me morire quando voi comandarmi morire , padrone .»\n",
      "Prediction: La Aleksandrovic , , , , , , , , , , , , , , , , , , , , , , , , , , , , , , , , , e e e e e e e e e e e e e e e , , , , , , , , , , , , , , , , , , , , , , , , , , , , , , , , , , , , , , , , , , , , , , , , , , , , , , , , , , , , , , , , , , , , , , , , , , , , , , , , , , , , , , , , , , , , , e e e e , , , , , , , , , , , , , , e , , , , , e e , , , , e e e , , , , e e , , , , , e , e e , e e la sua , e e e e e e e e e e e e e e e e e la sua sua sua sua sua sua sua sua sua sua sua , e e e e e e e e e e e e e e e e e e e e e e e e e e e\n",
      "================================================================================\n",
      "Checkpoint saved for Epoch 1\n"
     ]
    },
    {
     "name": "stderr",
     "output_type": "stream",
     "text": [
      "Epoch 3/5 - Training: 100%|██████████| 910/910 [09:11<00:00,  1.65it/s, loss=6.1] \n"
     ]
    },
    {
     "name": "stdout",
     "output_type": "stream",
     "text": [
      "Epoch 3/5 completed. Avg Loss: 6.1249\n",
      "Validating Epoch 3/5...\n",
      "================================================================================\n",
      "Source: ' Then we are outside that law : rent does not explain anything in our case , but on the contrary only causes confusion .\n",
      "Target: — Allora siamo fuori regola . La rendita per noi non spiega nulla , al contrario , confonde .\n",
      "Prediction: — E che non è un mio mio mio mio mio mio ’ Ivanovic .\n",
      "================================================================================\n",
      "================================================================================\n",
      "Source: And Levin went off to find Grisha .\n",
      "Target: — E Levin andò da Griša .\n",
      "Prediction: E non è detto ?\n",
      "================================================================================\n",
      "================================================================================\n",
      "Source: I ain ' t as spry as I used to be .\n",
      "Target: Non son più svelto come una . volta .\n",
      "Prediction: — E che non è ? — disse .\n",
      "================================================================================\n",
      "================================================================================\n",
      "Source: Alice caught the baby with some difficulty , as it was a queer - shaped little creature , and held out its arms and legs in all directions , ' just like a star - fish ,' thought Alice .\n",
      "Target: Alice afferrò il bimbo , ma con qualche difficoltà , perchè era una creatura ; le mani e i piedi in tutti i sensi , “ proprio come una stella di mare ” pensò Alice .\n",
      "Prediction: , e che non era un suo suo suo suo suo suo suo suoi , e non si , e non era .\n",
      "================================================================================\n",
      "================================================================================\n",
      "Source: He had now got over his fright , and his spirits being a little raised with the dram I had given him , he was very cheerful , and told me , as before , he would die when I bid die .\n",
      "Target: or via la paura , e rallegrati e alquanto i suoi spiriti dal rum bevuto , mi ripete con fermezza quanto mi avea detto poco prima : — « Me morire quando voi comandarmi morire , padrone .»\n",
      "Prediction: , e che non era un suo suo suo suo suo suo suo suoi , e non si , e non era .\n",
      "================================================================================\n",
      "Checkpoint saved for Epoch 3\n"
     ]
    },
    {
     "name": "stderr",
     "output_type": "stream",
     "text": [
      "Epoch 4/5 - Training: 100%|██████████| 910/910 [09:12<00:00,  1.65it/s, loss=6.14]\n"
     ]
    },
    {
     "name": "stdout",
     "output_type": "stream",
     "text": [
      "Epoch 4/5 completed. Avg Loss: 6.0419\n",
      "Validating Epoch 4/5...\n",
      "================================================================================\n",
      "Source: ' Then we are outside that law : rent does not explain anything in our case , but on the contrary only causes confusion .\n",
      "Target: — Allora siamo fuori regola . La rendita per noi non spiega nulla , al contrario , confonde .\n",
      "Prediction: — E che non è un po ’ è un uomo , e non non non non non non non non non non non non non non non non non non non non non non non non non non non non non non non non non non non non non non non non non non non non non non non non non non non non non non non non non non non non non non non non non non non non non non non non non non non non non non non non non non non non non non non non non non non non non non non non non non non è la mia mia mia mia mia mia mia mia mia mia mia mia mia mia mia mia mia mia mia mia mia mia mia mia mia mia mia mia mia mia mia mia mia mia mia mia mia mia mia mia mia mia mia mia mia mia mia mia mia mia mia mia mia mia mia mia mia mia mia mia mia mia mia mia mia mia mia mia mia mia mia mia mia mia mia mia mia mia mia mia mia mia mia mia mia mia mia mia mia mia mia mia mia mia disse non è la disse la disse non è non è la disse non è non è la disse non è non è la disse non è la disse non è non è\n",
      "================================================================================\n",
      "================================================================================\n",
      "Source: And Levin went off to find Grisha .\n",
      "Target: — E Levin andò da Griša .\n",
      "Prediction: E non non è detto .\n",
      "================================================================================\n",
      "================================================================================\n",
      "Source: I ain ' t as spry as I used to be .\n",
      "Target: Non son più svelto come una . volta .\n",
      "Prediction: E che non , e non .\n",
      "================================================================================\n",
      "================================================================================\n",
      "Source: Alice caught the baby with some difficulty , as it was a queer - shaped little creature , and held out its arms and legs in all directions , ' just like a star - fish ,' thought Alice .\n",
      "Target: Alice afferrò il bimbo , ma con qualche difficoltà , perchè era una creatura ; le mani e i piedi in tutti i sensi , “ proprio come una stella di mare ” pensò Alice .\n",
      "Prediction: E che non , e non , e , e non , e non non non non non non non non , e non non non non non non non non non non non non non .\n",
      "================================================================================\n",
      "================================================================================\n",
      "Source: He had now got over his fright , and his spirits being a little raised with the dram I had given him , he was very cheerful , and told me , as before , he would die when I bid die .\n",
      "Target: or via la paura , e rallegrati e alquanto i suoi spiriti dal rum bevuto , mi ripete con fermezza quanto mi avea detto poco prima : — « Me morire quando voi comandarmi morire , padrone .»\n",
      "Prediction: E che non , e non , e , e non , e non non non non non non non , e non , e non non non non non non non non non non .\n",
      "================================================================================\n",
      "Checkpoint saved for Epoch 4\n"
     ]
    },
    {
     "name": "stderr",
     "output_type": "stream",
     "text": [
      "Epoch 5/5 - Training: 100%|██████████| 910/910 [09:12<00:00,  1.65it/s, loss=6.15]\n"
     ]
    },
    {
     "name": "stdout",
     "output_type": "stream",
     "text": [
      "Epoch 5/5 completed. Avg Loss: 6.0019\n",
      "Validating Epoch 5/5...\n",
      "================================================================================\n",
      "Source: ' Then we are outside that law : rent does not explain anything in our case , but on the contrary only causes confusion .\n",
      "Target: — Allora siamo fuori regola . La rendita per noi non spiega nulla , al contrario , confonde .\n",
      "Prediction: — Non è mai , ma non è mai mai mai , ma non è mai mai mai mai mai mai mai mai mai mai mai mai mai mai mai mai mai mai mai mai mai mai mai .\n",
      "================================================================================\n",
      "================================================================================\n",
      "Source: And Levin went off to find Grisha .\n",
      "Target: — E Levin andò da Griša .\n",
      "Prediction: Ma non è mai mai .\n",
      "================================================================================\n",
      "================================================================================\n",
      "Source: I ain ' t as spry as I used to be .\n",
      "Target: Non son più svelto come una . volta .\n",
      "Prediction: Ma non è mai mai mai .\n",
      "================================================================================\n",
      "================================================================================\n",
      "Source: Alice caught the baby with some difficulty , as it was a queer - shaped little creature , and held out its arms and legs in all directions , ' just like a star - fish ,' thought Alice .\n",
      "Target: Alice afferrò il bimbo , ma con qualche difficoltà , perchè era una creatura ; le mani e i piedi in tutti i sensi , “ proprio come una stella di mare ” pensò Alice .\n",
      "Prediction: La mattina , e la sua conversazione , e non era un , e non era stato un ’ altra .\n",
      "================================================================================\n",
      "================================================================================\n",
      "Source: He had now got over his fright , and his spirits being a little raised with the dram I had given him , he was very cheerful , and told me , as before , he would die when I bid die .\n",
      "Target: or via la paura , e rallegrati e alquanto i suoi spiriti dal rum bevuto , mi ripete con fermezza quanto mi avea detto poco prima : — « Me morire quando voi comandarmi morire , padrone .»\n",
      "Prediction: Il giorno , e la sua conversazione , e la sua , e la sua sua , e la sua sua vita , e la sua , e che non era stato stato .\n",
      "================================================================================\n",
      "Checkpoint saved for Epoch 5\n"
     ]
    }
   ],
   "source": [
    "if __name__ == '__main__':\n",
    "    warnings.filterwarnings('ignore')\n",
    "    config = get_config()\n",
    "    train_model(config)"
   ]
  },
  {
   "cell_type": "markdown",
   "metadata": {
    "id": "v3axMN7QWiVH"
   },
   "source": [
    "# Section 2: BERT and LoRA\n",
    "\n",
    "Welcome to Section 2 of our Machine Learning assignment! I hope you've been enjoying the journey so far! 😊\n",
    "\n",
    " In this section, you will gain hands-on experience with [BERT](https://arxiv.org/abs/1810.04805) (Bidirectional Encoder Representations from Transformers) and [LoRA](https://arxiv.org/abs/2106.09685) (Low-Rank Adaptation) for text classification tasks. The section is divided into three main parts, each focusing on different aspects of NLP techniques.\n",
    "\n",
    "## Assignment Structure\n",
    "\n",
    "### Part 1: Data Preparation and Preprocessing\n",
    "In this part, you will work with a text classification dataset. You will learn how to:\n",
    "- Download and load the dataset\n",
    "- Perform necessary preprocessing steps\n",
    "- Implement data cleaning and transformation techniques\n",
    "- Prepare the data in a format suitable for BERT training\n",
    "\n",
    "### Part 2: Building a Small BERT Model\n",
    "You will create and train a small BERT model from scratch using the Hugging Face [Transformers](https://huggingface.co/docs/transformers/en/index) library. This part will help you understand:\n",
    "- The architecture of BERT\n",
    "- How to configure and initialize a BERT model\n",
    "- Training process and optimization\n",
    "- Model evaluation and performance analysis\n",
    "\n",
    "### Part 3: Fine-tuning with LoRA\n",
    "In the final part, you will work with a pre-trained [TinyBERT](https://arxiv.org/abs/1909.10351) model and use LoRA for efficient fine-tuning. You will:\n",
    "- Load a pre-trained TinyBERT model\n",
    "- Implement LoRA adaptation and fine-tune the model on our classification task\n",
    "- Compare the results with the previous approach"
   ]
  },
  {
   "cell_type": "markdown",
   "metadata": {
    "id": "M6FKcSFbOTMd"
   },
   "source": [
    "---\n",
    "\n",
    "> **NOTE**:  \n",
    "> Throughout this notebook, make an effort to include sufficient visualizations to enhance understanding:  \n",
    "> - In the data processing section, display the results of your operations (e.g., show data samples or distributions after preprocessing).  \n",
    "> - In the classification section, report various evaluation metrics such as accuracy, precision, recall, and F1-score to thoroughly assess your model's performance.  \n",
    "> - Additionally, take a moment to compare the sizes of the models discussed in this notebook with today’s enormous models. This will help you appreciate the challenges and computational demands associated with training such massive models. 😵‍💫\n",
    "\n",
    "---\n"
   ]
  },
  {
   "cell_type": "markdown",
   "metadata": {
    "id": "GHKw2r6yYV7n"
   },
   "source": [
    "## Part 1: Data Preparation and Preprocessing\n",
    "We'll be working with the [Consumer Complaint](https://catalog.data.gov/dataset/consumer-complaint-database) dataset, which contains ***complaints*** submitted by consumers about financial products and services. Our goal is to build a classifier that can automatically identify the type of complaint based on the consumer's text description. For this task, we will work with a smaller subset of the dataset, available for download through this [link](https://drive.google.com/file/d/1SpIHksR-WzruEgUjp1SQKGG8bZPnJJoN/view?usp=sharing)."
   ]
  },
  {
   "cell_type": "code",
   "execution_count": 81,
   "metadata": {
    "execution": {
     "iopub.execute_input": "2025-01-05T23:36:57.291369Z",
     "iopub.status.busy": "2025-01-05T23:36:57.291004Z",
     "iopub.status.idle": "2025-01-05T23:36:58.316204Z",
     "shell.execute_reply": "2025-01-05T23:36:58.315280Z",
     "shell.execute_reply.started": "2025-01-05T23:36:57.291339Z"
    },
    "id": "7ELMR8kXUh3o",
    "trusted": true
   },
   "outputs": [
    {
     "name": "stderr",
     "output_type": "stream",
     "text": [
      "The cache for model files in Transformers v4.22.0 has been updated. Migrating your old cache. This is a one-time only operation. You can interrupt this and resume the migration later on by calling `transformers.utils.move_cache()`.\n"
     ]
    },
    {
     "data": {
      "application/vnd.jupyter.widget-view+json": {
       "model_id": "a52b1c09dc21489099c199211dd08a6e",
       "version_major": 2,
       "version_minor": 0
      },
      "text/plain": [
       "0it [00:00, ?it/s]"
      ]
     },
     "metadata": {},
     "output_type": "display_data"
    }
   ],
   "source": [
    "import torch\n",
    "from torch.utils.data import Dataset, DataLoader\n",
    "from transformers import BertTokenizer, BertForSequenceClassification, AdamW, BertConfig\n",
    "from sklearn.model_selection import train_test_split\n",
    "import numpy as np\n",
    "import pandas as pd\n",
    "from sklearn.preprocessing import LabelEncoder\n",
    "from tqdm import tqdm"
   ]
  },
  {
   "cell_type": "markdown",
   "metadata": {
    "id": "9oJXlKLYeymq"
   },
   "source": [
    "### 1.2 Loading the Data"
   ]
  },
  {
   "cell_type": "code",
   "execution_count": 83,
   "metadata": {
    "execution": {
     "iopub.execute_input": "2025-01-05T23:37:12.870122Z",
     "iopub.status.busy": "2025-01-05T23:37:12.869791Z",
     "iopub.status.idle": "2025-01-05T23:37:36.018072Z",
     "shell.execute_reply": "2025-01-05T23:37:36.016747Z",
     "shell.execute_reply.started": "2025-01-05T23:37:12.870093Z"
    },
    "trusted": true
   },
   "outputs": [
    {
     "name": "stdout",
     "output_type": "stream",
     "text": [
      "Requirement already satisfied: gdown in /usr/local/lib/python3.10/dist-packages (5.2.0)\n",
      "Requirement already satisfied: beautifulsoup4 in /usr/local/lib/python3.10/dist-packages (from gdown) (4.12.3)\n",
      "Requirement already satisfied: filelock in /usr/local/lib/python3.10/dist-packages (from gdown) (3.16.1)\n",
      "Requirement already satisfied: requests[socks] in /usr/local/lib/python3.10/dist-packages (from gdown) (2.32.3)\n",
      "Requirement already satisfied: tqdm in /usr/local/lib/python3.10/dist-packages (from gdown) (4.66.5)\n",
      "Requirement already satisfied: soupsieve>1.2 in /usr/local/lib/python3.10/dist-packages (from beautifulsoup4->gdown) (2.6)\n",
      "Requirement already satisfied: charset-normalizer<4,>=2 in /usr/local/lib/python3.10/dist-packages (from requests[socks]->gdown) (3.3.2)\n",
      "Requirement already satisfied: idna<4,>=2.5 in /usr/local/lib/python3.10/dist-packages (from requests[socks]->gdown) (3.10)\n",
      "Requirement already satisfied: urllib3<3,>=1.21.1 in /usr/local/lib/python3.10/dist-packages (from requests[socks]->gdown) (2.2.3)\n",
      "Requirement already satisfied: certifi>=2017.4.17 in /usr/local/lib/python3.10/dist-packages (from requests[socks]->gdown) (2024.8.30)\n",
      "Requirement already satisfied: PySocks!=1.5.7,>=1.5.6 in /usr/local/lib/python3.10/dist-packages (from requests[socks]->gdown) (1.7.1)\n",
      "/usr/local/lib/python3.10/dist-packages/gdown/__main__.py:140: FutureWarning: Option `--id` was deprecated in version 4.3.1 and will be removed in 5.0. You don't need to pass it anymore to use a file ID.\n",
      "  warnings.warn(\n",
      "Downloading...\n",
      "From (original): https://drive.google.com/uc?id=1SpIHksR-WzruEgUjp1SQKGG8bZPnJJoN\n",
      "From (redirected): https://drive.google.com/uc?id=1SpIHksR-WzruEgUjp1SQKGG8bZPnJJoN&confirm=t&uuid=ab9f746f-ab80-4300-b063-2a0303d3ea0a\n",
      "To: /kaggle/working/dataset.zip\n",
      "100%|████████████████████████████████████████| 290M/290M [00:05<00:00, 50.6MB/s]\n",
      "Archive:  dataset.zip\n",
      "  inflating: /kaggle/working/complaints_small.csv  \n",
      "complaints_small.csv  dataset.zip  models  tokenizer_en.json  tokenizer_it.json\n"
     ]
    }
   ],
   "source": [
    "!pip install gdown\n",
    "!gdown --id 1SpIHksR-WzruEgUjp1SQKGG8bZPnJJoN -O dataset.zip\n",
    "!unzip dataset.zip -d /kaggle/working/\n",
    "!ls /kaggle/working/"
   ]
  },
  {
   "cell_type": "code",
   "execution_count": 84,
   "metadata": {
    "execution": {
     "iopub.execute_input": "2025-01-05T23:37:42.272672Z",
     "iopub.status.busy": "2025-01-05T23:37:42.272309Z",
     "iopub.status.idle": "2025-01-05T23:38:09.876787Z",
     "shell.execute_reply": "2025-01-05T23:38:09.876033Z",
     "shell.execute_reply.started": "2025-01-05T23:37:42.272643Z"
    },
    "trusted": true
   },
   "outputs": [
    {
     "name": "stdout",
     "output_type": "stream",
     "text": [
      "Product\n",
      "Credit reporting, credit repair services, or other personal consumer reports    322966\n",
      "Credit reporting or other personal consumer reports                             252019\n",
      "Debt collection                                                                 117285\n",
      "Mortgage                                                                         49358\n",
      "Checking or savings account                                                      44580\n",
      "Credit card or prepaid card                                                      43575\n",
      "Credit card                                                                      24776\n",
      "Student loan                                                                     18742\n",
      "Money transfer, virtual currency, or money service                               17962\n",
      "Vehicle loan or lease                                                            13777\n",
      "Credit reporting                                                                 12641\n",
      "Payday loan, title loan, or personal loan                                         6940\n",
      "Bank account or service                                                           5920\n",
      "Consumer Loan                                                                     3881\n",
      "Prepaid card                                                                      2402\n",
      "Payday loan, title loan, personal loan, or advance loan                           2300\n",
      "Payday loan                                                                        723\n",
      "Debt or credit management                                                          593\n",
      "Money transfers                                                                    571\n",
      "Other financial service                                                            110\n",
      "Virtual currency                                                                     7\n",
      "Name: count, dtype: int64\n",
      "\n",
      "Processed dataset saved at: /kaggle/working/processed_consumer_complaints.csv\n"
     ]
    }
   ],
   "source": [
    "import gdown\n",
    "data = pd.read_csv(\"/kaggle/working/complaints_small.csv\", encoding='latin1')\n",
    "data_subset = data[['Consumer complaint narrative', 'Product']].dropna()\n",
    "print(data_subset['Product'].value_counts())\n",
    "\n",
    "processed_path = \"/kaggle/working/processed_consumer_complaints.csv\"\n",
    "data_subset.to_csv(processed_path, index=False)\n",
    "print(f\"\\nProcessed dataset saved at: {processed_path}\")"
   ]
  },
  {
   "cell_type": "markdown",
   "metadata": {
    "id": "L9hr8-FNgpVO"
   },
   "source": [
    "### 1.3 Data Sampling and Class Distribution Analysis\n",
    "\n",
    "Working with large datasets can be computationally intensive during development. Additionally, imbalanced class distribution can affect model performance. In this section, you'll sample the data and analyze class distributions to make informed decisions about your training dataset."
   ]
  },
  {
   "cell_type": "markdown",
   "metadata": {
    "id": "Cl_g_ZU4h5RG"
   },
   "source": [
    "---\n",
    "\n",
    "We'll work with a manageable portion of the data to develop and test our approach. While using the complete dataset would likely yield better results, a smaller sample allows us to prototype our solution more efficiently.\n"
   ]
  },
  {
   "cell_type": "code",
   "execution_count": 79,
   "metadata": {
    "execution": {
     "iopub.execute_input": "2025-01-05T20:57:39.628555Z",
     "iopub.status.busy": "2025-01-05T20:57:39.628185Z",
     "iopub.status.idle": "2025-01-05T20:57:40.180225Z",
     "shell.execute_reply": "2025-01-05T20:57:40.179323Z",
     "shell.execute_reply.started": "2025-01-05T20:57:39.628524Z"
    },
    "id": "QAJUXNCFhYsf",
    "trusted": true
   },
   "outputs": [
    {
     "data": {
      "image/png": "[encoded data removed]",
      "text/plain": [
       "<Figure size 1000x600 with 1 Axes>"
      ]
     },
     "metadata": {},
     "output_type": "display_data"
    }
   ],
   "source": [
    "import matplotlib.pyplot as plt\n",
    "\n",
    "def sample_dataset(dataframe, fraction, seed=42):\n",
    "    \"\"\"Samples a fraction of the dataset.\"\"\"\n",
    "    return dataframe.sample(frac=fraction, random_state=seed)\n",
    "\n",
    "\n",
    "def compute_class_distribution(dataframe, column_name):\n",
    "    \"\"\"Computes the value counts for a specific column.\"\"\"\n",
    "    return dataframe[column_name].value_counts()\n",
    "\n",
    "\n",
    "def plot_class_distribution(distribution, title, x_label, y_label, figsize=(10, 6), rotation=45):\n",
    "    \"\"\"Plots the class distribution as a bar chart.\"\"\"\n",
    "    plt.figure(figsize=figsize)\n",
    "    distribution.plot(kind='bar')\n",
    "    plt.title(title, fontsize=14)\n",
    "    plt.xlabel(x_label, fontsize=12)\n",
    "    plt.ylabel(y_label, fontsize=12)\n",
    "    plt.xticks(rotation=rotation, ha='right')\n",
    "    plt.tight_layout()\n",
    "    plt.show()\n",
    "\n",
    "\n",
    "sample_fraction = 0.1\n",
    "sampling_column = 'Product'\n",
    "\n",
    "sampled_data = sample_dataset(data_subset, sample_fraction)\n",
    "product_distribution = compute_class_distribution(sampled_data, sampling_column)\n",
    "\n",
    "plot_class_distribution(\n",
    "    product_distribution,\n",
    "    title=\"Class Distribution in the Sampled Dataset\",\n",
    "    x_label=\"Product\",\n",
    "    y_label=\"Count\"\n",
    ")\n"
   ]
  },
  {
   "cell_type": "markdown",
   "metadata": {
    "id": "50a4NJeMiBb6"
   },
   "source": [
    "---\n",
    "\n",
    "Let's examine the distribution of ***complaints*** types in our dataset. You'll notice that some products have significantly more instances than others, and some categories are quite similar. For example:\n",
    "\n",
    "- Multiple categories might refer to similar financial products\n",
    "- Some categories might have very few examples\n",
    "- Certain categories might be subcategories of others\n",
    "\n",
    "You have two main approaches to handle this situation:\n",
    "\n",
    "1. **Merging Similar Classes:** Identify categories that represent similar products/services and Combine them to create more robust, general categories\n",
    "\n",
    "2. **Selecting Major Classes:** Only select the categories with sufficient representation\n",
    "\n",
    "\n",
    "\n",
    "> You may choose any approach, but after this step, your data must include **at least five** distinct classes.\n",
    "\n"
   ]
  },
  {
   "cell_type": "code",
   "execution_count": 80,
   "metadata": {
    "execution": {
     "iopub.execute_input": "2025-01-05T20:59:54.454643Z",
     "iopub.status.busy": "2025-01-05T20:59:54.454294Z",
     "iopub.status.idle": "2025-01-05T20:59:54.920625Z",
     "shell.execute_reply": "2025-01-05T20:59:54.919816Z",
     "shell.execute_reply.started": "2025-01-05T20:59:54.454616Z"
    },
    "id": "nby2Hrwwjd46",
    "trusted": true
   },
   "outputs": [
    {
     "name": "stdout",
     "output_type": "stream",
     "text": [
      "Initial Class Distribution:\n",
      "Product\n",
      "Credit reporting, credit repair services, or other personal consumer reports    31842\n",
      "Credit reporting or other personal consumer reports                             24934\n",
      "Debt collection                                                                 11626\n",
      "Loan products                                                                    6874\n",
      "Banking services                                                                 5133\n",
      "Credit card or prepaid card                                                      4249\n",
      "Credit products                                                                  3705\n",
      "Money transfer, virtual currency, or money service                               1817\n",
      "Vehicle loan or lease                                                            1428\n",
      "Payday loan, title loan, or personal loan                                         700\n",
      "Consumer Loan                                                                     357\n",
      "Prepaid card                                                                      254\n",
      "Payday loan, title loan, personal loan, or advance loan                           227\n",
      "Debt or credit management                                                          70\n",
      "Money transfers                                                                    49\n",
      "Other financial service                                                             8\n",
      "Virtual currency                                                                    2\n",
      "Name: count, dtype: int64\n",
      "\n",
      "Under-represented Classes (Threshold < 40):\n",
      "Product\n",
      "Other financial service    8\n",
      "Virtual currency           2\n",
      "Name: count, dtype: int64\n",
      "\n",
      "Class Distribution After Mapping:\n",
      "Product\n",
      "Credit reporting, credit repair services, or other personal consumer reports    31842\n",
      "Credit reporting or other personal consumer reports                             24934\n",
      "Debt collection                                                                 11626\n",
      "Loan products                                                                    6874\n",
      "Banking services                                                                 5133\n",
      "Credit card or prepaid card                                                      4249\n",
      "Credit products                                                                  3705\n",
      "Money transfer, virtual currency, or money service                               1817\n",
      "Vehicle loan or lease                                                            1428\n",
      "Payday loan, title loan, or personal loan                                         700\n",
      "Consumer Loan                                                                     357\n",
      "Prepaid card                                                                      254\n",
      "Payday loan, title loan, personal loan, or advance loan                           227\n",
      "Debt or credit management                                                          70\n",
      "Money transfers                                                                    49\n",
      "Other financial service                                                             8\n",
      "Virtual currency                                                                    2\n",
      "Name: count, dtype: int64\n",
      "\n",
      "Final Class Distribution:\n",
      "Product\n",
      "Credit reporting, credit repair services, or other personal consumer reports    31842\n",
      "Credit reporting or other personal consumer reports                             24934\n",
      "Debt collection                                                                 11626\n",
      "Loan products                                                                    6874\n",
      "Banking services                                                                 5133\n",
      "Credit card or prepaid card                                                      4249\n",
      "Credit products                                                                  3705\n",
      "Money transfer, virtual currency, or money service                               1817\n",
      "Vehicle loan or lease                                                            1428\n",
      "Payday loan, title loan, or personal loan                                         700\n",
      "Consumer Loan                                                                     357\n",
      "Prepaid card                                                                      254\n",
      "Payday loan, title loan, personal loan, or advance loan                           227\n",
      "Debt or credit management                                                          70\n",
      "Money transfers                                                                    49\n",
      "Other financial service                                                             8\n",
      "Virtual currency                                                                    2\n",
      "Name: count, dtype: int64\n",
      "\n"
     ]
    },
    {
     "data": {
      "image/png": "[encoded data removed]",
      "text/plain": [
       "<Figure size 1000x600 with 1 Axes>"
      ]
     },
     "metadata": {},
     "output_type": "display_data"
    }
   ],
   "source": [
    "import matplotlib.pyplot as plt\n",
    "\n",
    "def compute_value_counts(dataframe, column_name):\n",
    "    return dataframe[column_name].value_counts()\n",
    "\n",
    "def filter_under_represented_classes(value_counts, threshold):\n",
    "    return value_counts[value_counts < threshold]\n",
    "\n",
    "def map_categories(dataframe, column_name, mapping):\n",
    "    dataframe[column_name] = dataframe[column_name].replace(mapping)\n",
    "    return dataframe\n",
    "\n",
    "def filter_major_classes(dataframe, column_name, value_counts, threshold):\n",
    "    major_classes = value_counts[value_counts >= threshold].index\n",
    "    return dataframe[dataframe[column_name].isin(major_classes)]\n",
    "\n",
    "def plot_distribution(distribution, title, x_label, y_label, color='skyblue', figsize=(10, 6), rotation=45):\n",
    "    plt.figure(figsize=figsize)\n",
    "    distribution.plot(kind='bar', color=color)\n",
    "    plt.title(title, fontsize=14)\n",
    "    plt.xlabel(x_label, fontsize=12)\n",
    "    plt.ylabel(y_label, fontsize=12)\n",
    "    plt.xticks(rotation=rotation, ha='right')\n",
    "    plt.tight_layout()\n",
    "    plt.show()\n",
    "\n",
    "class_threshold = 40\n",
    "category_mapping = {\n",
    "    'Credit card': 'Credit products',\n",
    "    'Credit reporting': 'Credit products',\n",
    "    'Payday loan': 'Loan products',\n",
    "    'Mortgage': 'Loan products',\n",
    "    'Student loan': 'Loan products',\n",
    "    'Bank account or service': 'Banking services',\n",
    "    'Checking or savings account': 'Banking services',\n",
    "}\n",
    "\n",
    "product_counts = compute_value_counts(data_sampled, 'Product')\n",
    "print(f\"Initial Class Distribution:\\n{product_counts}\\n\")\n",
    "\n",
    "low_frequency_classes = filter_under_represented_classes(product_counts, class_threshold)\n",
    "print(f\"Under-represented Classes (Threshold < {class_threshold}):\\n{low_frequency_classes}\\n\")\n",
    "\n",
    "data_sampled = map_categories(data_sampled, 'Product', category_mapping)\n",
    "\n",
    "mapped_class_distribution = compute_value_counts(data_sampled, 'Product')\n",
    "print(f\"Class Distribution After Mapping:\\n{mapped_class_distribution}\\n\")\n",
    "\n",
    "if len(mapped_class_distribution) < 5:\n",
    "    print(f\"Distinct classes are fewer than 5. Filtering major classes...\")\n",
    "    data_sampled = filter_major_classes(data_sampled, 'Product', mapped_class_distribution, class_threshold)\n",
    "\n",
    "final_distribution = compute_value_counts(data_sampled, 'Product')\n",
    "print(f\"Final Class Distribution:\\n{final_distribution}\\n\")\n",
    "\n",
    "plot_distribution(\n",
    "    final_distribution,\n",
    "    title=\"Final Class Distribution\",\n",
    "    x_label=\"Product Category\",\n",
    "    y_label=\"Frequency\",\n",
    "    color='skyblue'\n",
    ")\n"
   ]
  },
  {
   "cell_type": "markdown",
   "metadata": {
    "id": "lD3oISsijt1P"
   },
   "source": [
    "---\n",
    "### 1.4 Data Encoding and Text Preprocessing\n",
    "\n",
    "Before training our model, we need to prepare both our target labels and text data. This involves converting categorical labels into numerical format and cleaning our text data to improve model performance."
   ]
  },
  {
   "cell_type": "code",
   "execution_count": 81,
   "metadata": {
    "execution": {
     "iopub.execute_input": "2025-01-05T21:00:39.254556Z",
     "iopub.status.busy": "2025-01-05T21:00:39.254182Z",
     "iopub.status.idle": "2025-01-05T21:00:47.838047Z",
     "shell.execute_reply": "2025-01-05T21:00:47.837166Z",
     "shell.execute_reply.started": "2025-01-05T21:00:39.254512Z"
    },
    "id": "pAmaRU92mGyT",
    "trusted": true
   },
   "outputs": [
    {
     "name": "stdout",
     "output_type": "stream",
     "text": [
      "\n",
      "Encoding product categories into numeric labels...\n",
      "\n",
      "Sample data after label encoding:\n",
      "                                                  Product  Product_encoded\n",
      "335123  Credit reporting or other personal consumer re...                4\n",
      "601718                                      Loan products                8\n",
      "847752  Credit reporting, credit repair services, or o...                5\n",
      "765316  Credit reporting or other personal consumer re...                4\n",
      "798300  Credit reporting, credit repair services, or o...                5\n",
      "\n",
      "Cleaning text data...\n",
      "\n",
      "Removing very short complaints (less than 10 words)...\n",
      "\n",
      "Sample data after text preprocessing:\n",
      "                             Consumer complaint narrative  \\\n",
      "335123  upon reviewing my credit report i have identif...   \n",
      "601718  i was doing a rate check to refinance the agen...   \n",
      "847752  this is my nd request that i have been a victi...   \n",
      "765316  im sending this compliant to inform credit bur...   \n",
      "798300  im submitting a complaint to you today to info...   \n",
      "\n",
      "                                                  Product  Product_encoded  \n",
      "335123  Credit reporting or other personal consumer re...                4  \n",
      "601718                                      Loan products                8  \n",
      "847752  Credit reporting, credit repair services, or o...                5  \n",
      "765316  Credit reporting or other personal consumer re...                4  \n",
      "798300  Credit reporting, credit repair services, or o...                5  \n",
      "\n",
      "Preprocessed dataset saved at: /kaggle/working/preprocessed_consumer_complaints.csv\n"
     ]
    }
   ],
   "source": [
    "import re\n",
    "from sklearn.preprocessing import LabelEncoder\n",
    "\n",
    "def encode_labels(dataframe, column_name):\n",
    "    label_encoder = LabelEncoder()\n",
    "    dataframe[f'{column_name}_encoded'] = label_encoder.fit_transform(dataframe[column_name])\n",
    "    return dataframe, label_encoder\n",
    "\n",
    "def clean_text_data(text):\n",
    "    text = re.sub(r'<.*?>', '', text)  # Remove HTML tags\n",
    "    text = re.sub(r'[^a-zA-Z\\s]', '', text)  # Remove special characters, numbers, punctuation\n",
    "    text = text.lower()  # Convert to lowercase\n",
    "    text = re.sub(r'\\s+', ' ', text).strip()  # Remove extra spaces\n",
    "    return text\n",
    "\n",
    "def clean_text_column(dataframe, column_name):\n",
    "    dataframe[column_name] = dataframe[column_name].apply(clean_text_data)\n",
    "    return dataframe\n",
    "\n",
    "def filter_short_text(dataframe, column_name, min_word_count):\n",
    "    dataframe['word_count'] = dataframe[column_name].apply(lambda x: len(x.split()))\n",
    "    filtered_data = dataframe[dataframe['word_count'] >= min_word_count]\n",
    "    return filtered_data.drop(columns=['word_count'])\n",
    "\n",
    "def save_preprocessed_data(dataframe, path):\n",
    "    dataframe.to_csv(path, index=False)\n",
    "    return path\n",
    "\n",
    "# Step 1: Encode product categories\n",
    "print(\"\\nEncoding product categories into numeric labels...\")\n",
    "data_sampled, product_encoder = encode_labels(data_sampled, 'Product')\n",
    "print(\"\\nSample data after label encoding:\")\n",
    "print(data_sampled[['Product', 'Product_encoded']].head())\n",
    "\n",
    "# Step 2: Text preprocessing\n",
    "print(\"\\nCleaning text data...\")\n",
    "data_sampled = clean_text_column(data_sampled, 'Consumer complaint narrative')\n",
    "\n",
    "print(\"\\nRemoving very short complaints (less than 10 words)...\")\n",
    "data_sampled = filter_short_text(data_sampled, 'Consumer complaint narrative', min_word_count=10)\n",
    "\n",
    "print(\"\\nSample data after text preprocessing:\")\n",
    "print(data_sampled.head())\n",
    "\n",
    "# Step 3: Save preprocessed data\n",
    "preprocessed_path = \"/kaggle/working/preprocessed_consumer_complaints.csv\"\n",
    "save_path = save_preprocessed_data(data_sampled, preprocessed_path)\n",
    "print(f\"\\nPreprocessed dataset saved at: {save_path}\")\n"
   ]
  },
  {
   "cell_type": "markdown",
   "metadata": {
    "id": "j4jVvN4oopUU"
   },
   "source": [
    "## 1.5 Dataset Creation and Tokenization\n",
    "\n",
    "For training our BERT model, we need to:\n",
    "1. Create a custom Dataset class that will handle tokenization\n",
    "2. Split the data into training and testing sets\n",
    "3. Use BERT's tokenizer to convert text into a format suitable for the model"
   ]
  },
  {
   "cell_type": "code",
   "execution_count": 82,
   "metadata": {
    "execution": {
     "iopub.execute_input": "2025-01-05T21:01:55.468574Z",
     "iopub.status.busy": "2025-01-05T21:01:55.468208Z",
     "iopub.status.idle": "2025-01-05T21:01:55.474837Z",
     "shell.execute_reply": "2025-01-05T21:01:55.473751Z",
     "shell.execute_reply.started": "2025-01-05T21:01:55.468541Z"
    },
    "id": "yHLQgJhopEh5",
    "trusted": true
   },
   "outputs": [],
   "source": [
    "from torch.utils.data import Dataset\n",
    "import torch\n",
    "\n",
    "class ComplaintDataset(Dataset):\n",
    "    def __init__(self, texts, labels, tokenizer, max_length=512):\n",
    "        self.texts = texts\n",
    "        self.labels = labels\n",
    "        self.tokenizer = tokenizer\n",
    "        self.max_length = max_length\n",
    "\n",
    "    def __len__(self):\n",
    "        return len(self.texts)\n",
    "\n",
    "    def __getitem__(self, index):\n",
    "        text = self.texts[index]\n",
    "        label = self.labels[index]\n",
    "        tokenized_data = self.tokenize_text(text)\n",
    "        tokenized_data['labels'] = torch.tensor(label, dtype=torch.long)\n",
    "        return tokenized_data\n",
    "\n",
    "    def tokenize_text(self, text):\n",
    "        encoding = self.tokenizer.encode_plus(\n",
    "            text,\n",
    "            add_special_tokens=True,\n",
    "            max_length=self.max_length,\n",
    "            padding='max_length',\n",
    "            truncation=True,\n",
    "            return_attention_mask=True,\n",
    "            return_tensors=\"pt\"\n",
    "        )\n",
    "        return {\n",
    "            'input_ids': encoding['input_ids'].squeeze(0),\n",
    "            'attention_mask': encoding['attention_mask'].squeeze(0)\n",
    "        }\n"
   ]
  },
  {
   "cell_type": "code",
   "execution_count": 83,
   "metadata": {
    "execution": {
     "iopub.execute_input": "2025-01-05T21:02:27.620035Z",
     "iopub.status.busy": "2025-01-05T21:02:27.619708Z",
     "iopub.status.idle": "2025-01-05T21:02:28.330391Z",
     "shell.execute_reply": "2025-01-05T21:02:28.329516Z",
     "shell.execute_reply.started": "2025-01-05T21:02:27.620007Z"
    },
    "id": "-js5x8M5mksA",
    "trusted": true
   },
   "outputs": [
    {
     "name": "stdout",
     "output_type": "stream",
     "text": [
      "Sample batch from the training DataLoader:\n",
      "Input IDs shape: torch.Size([16, 128])\n",
      "Attention Mask shape: torch.Size([16, 128])\n",
      "Labels shape: torch.Size([16])\n"
     ]
    },
    {
     "name": "stderr",
     "output_type": "stream",
     "text": [
      "/usr/local/lib/python3.10/dist-packages/transformers/tokenization_utils_base.py:1601: FutureWarning: `clean_up_tokenization_spaces` was not set. It will be set to `True` by default. This behavior will be depracted in transformers v4.45, and will be then set to `False` by default. For more details check this issue: https://github.com/huggingface/transformers/issues/31884\n",
      "  output is ready to pass to the model, either directly or via methods like `generate()`. If `return_dict` is\n"
     ]
    }
   ],
   "source": [
    "from torch.utils.data import DataLoader\n",
    "from transformers import BertTokenizer\n",
    "from sklearn.model_selection import train_test_split\n",
    "\n",
    "def split_data(features, labels, test_size=0.2, random_state=42, stratify=None):\n",
    "    return train_test_split(features, labels, test_size=test_size, random_state=random_state, stratify=stratify)\n",
    "\n",
    "def create_dataloader(dataset, batch_size, shuffle=False):\n",
    "    return DataLoader(dataset, batch_size=batch_size, shuffle=shuffle)\n",
    "\n",
    "X = data_sampled['Consumer complaint narrative'].tolist()\n",
    "y = data_sampled['Product_encoded'].tolist()\n",
    "\n",
    "X_train, X_test, y_train, y_test = split_data(X, y, test_size=0.2, random_state=42, stratify=y)\n",
    "\n",
    "tokenizer = BertTokenizer.from_pretrained('bert-base-uncased')\n",
    "train_dataset = ComplaintDataset(X_train, y_train, tokenizer, max_length=128)\n",
    "test_dataset = ComplaintDataset(X_test, y_test, tokenizer, max_length=128)\n",
    "\n",
    "train_loader = create_dataloader(train_dataset, batch_size=16, shuffle=True)\n",
    "test_loader = create_dataloader(test_dataset, batch_size=16, shuffle=False)\n",
    "\n",
    "sample_batch = next(iter(train_loader))\n",
    "print(\"Sample batch from the training DataLoader:\")\n",
    "print(f\"Input IDs shape: {sample_batch['input_ids'].shape}\")\n",
    "print(f\"Attention Mask shape: {sample_batch['attention_mask'].shape}\")\n",
    "print(f\"Labels shape: {sample_batch['labels'].shape}\")\n"
   ]
  },
  {
   "cell_type": "markdown",
   "metadata": {
    "id": "aMcc2gsbt0iJ"
   },
   "source": [
    "## Part 2: Training a Small-Size BERT Model\n",
    "\n",
    "In this part, we will explore how to build and train a small-sized BERT model for our classification task. Instead of using the full-sized BERT model, which is computationally expensive, we will create a smaller version using the Transformers library."
   ]
  },
  {
   "cell_type": "code",
   "execution_count": 84,
   "metadata": {
    "collapsed": true,
    "execution": {
     "iopub.execute_input": "2025-01-05T21:03:06.433888Z",
     "iopub.status.busy": "2025-01-05T21:03:06.433571Z",
     "iopub.status.idle": "2025-01-05T21:03:06.687422Z",
     "shell.execute_reply": "2025-01-05T21:03:06.686507Z",
     "shell.execute_reply.started": "2025-01-05T21:03:06.433865Z"
    },
    "id": "3RS5oBz3qmvu",
    "jupyter": {
     "outputs_hidden": true
    },
    "trusted": true
   },
   "outputs": [
    {
     "name": "stdout",
     "output_type": "stream",
     "text": [
      "Model Configuration:\n",
      "BertConfig {\n",
      "  \"architectures\": [\n",
      "    \"BertForMaskedLM\"\n",
      "  ],\n",
      "  \"attention_probs_dropout_prob\": 0.1,\n",
      "  \"classifier_dropout\": null,\n",
      "  \"gradient_checkpointing\": false,\n",
      "  \"hidden_act\": \"gelu\",\n",
      "  \"hidden_dropout_prob\": 0.1,\n",
      "  \"hidden_size\": 256,\n",
      "  \"id2label\": {\n",
      "    \"0\": \"LABEL_0\",\n",
      "    \"1\": \"LABEL_1\",\n",
      "    \"2\": \"LABEL_2\",\n",
      "    \"3\": \"LABEL_3\",\n",
      "    \"4\": \"LABEL_4\",\n",
      "    \"5\": \"LABEL_5\",\n",
      "    \"6\": \"LABEL_6\",\n",
      "    \"7\": \"LABEL_7\",\n",
      "    \"8\": \"LABEL_8\",\n",
      "    \"9\": \"LABEL_9\",\n",
      "    \"10\": \"LABEL_10\",\n",
      "    \"11\": \"LABEL_11\",\n",
      "    \"12\": \"LABEL_12\",\n",
      "    \"13\": \"LABEL_13\",\n",
      "    \"14\": \"LABEL_14\",\n",
      "    \"15\": \"LABEL_15\",\n",
      "    \"16\": \"LABEL_16\"\n",
      "  },\n",
      "  \"initializer_range\": 0.02,\n",
      "  \"intermediate_size\": 512,\n",
      "  \"label2id\": {\n",
      "    \"LABEL_0\": 0,\n",
      "    \"LABEL_1\": 1,\n",
      "    \"LABEL_10\": 10,\n",
      "    \"LABEL_11\": 11,\n",
      "    \"LABEL_12\": 12,\n",
      "    \"LABEL_13\": 13,\n",
      "    \"LABEL_14\": 14,\n",
      "    \"LABEL_15\": 15,\n",
      "    \"LABEL_16\": 16,\n",
      "    \"LABEL_2\": 2,\n",
      "    \"LABEL_3\": 3,\n",
      "    \"LABEL_4\": 4,\n",
      "    \"LABEL_5\": 5,\n",
      "    \"LABEL_6\": 6,\n",
      "    \"LABEL_7\": 7,\n",
      "    \"LABEL_8\": 8,\n",
      "    \"LABEL_9\": 9\n",
      "  },\n",
      "  \"layer_norm_eps\": 1e-12,\n",
      "  \"max_position_embeddings\": 512,\n",
      "  \"model_type\": \"bert\",\n",
      "  \"num_attention_heads\": 4,\n",
      "  \"num_hidden_layers\": 6,\n",
      "  \"pad_token_id\": 0,\n",
      "  \"position_embedding_type\": \"absolute\",\n",
      "  \"transformers_version\": \"4.44.2\",\n",
      "  \"type_vocab_size\": 2,\n",
      "  \"use_cache\": true,\n",
      "  \"vocab_size\": 30522\n",
      "}\n",
      "\n",
      "\n",
      "Total number of trainable parameters: 11,178,513\n",
      "\n",
      "Model Architecture:\n",
      "BertForSequenceClassification(\n",
      "  (bert): BertModel(\n",
      "    (embeddings): BertEmbeddings(\n",
      "      (word_embeddings): Embedding(30522, 256, padding_idx=0)\n",
      "      (position_embeddings): Embedding(512, 256)\n",
      "      (token_type_embeddings): Embedding(2, 256)\n",
      "      (LayerNorm): LayerNorm((256,), eps=1e-12, elementwise_affine=True)\n",
      "      (dropout): Dropout(p=0.1, inplace=False)\n",
      "    )\n",
      "    (encoder): BertEncoder(\n",
      "      (layer): ModuleList(\n",
      "        (0-5): 6 x BertLayer(\n",
      "          (attention): BertAttention(\n",
      "            (self): BertSdpaSelfAttention(\n",
      "              (query): Linear(in_features=256, out_features=256, bias=True)\n",
      "              (key): Linear(in_features=256, out_features=256, bias=True)\n",
      "              (value): Linear(in_features=256, out_features=256, bias=True)\n",
      "              (dropout): Dropout(p=0.1, inplace=False)\n",
      "            )\n",
      "            (output): BertSelfOutput(\n",
      "              (dense): Linear(in_features=256, out_features=256, bias=True)\n",
      "              (LayerNorm): LayerNorm((256,), eps=1e-12, elementwise_affine=True)\n",
      "              (dropout): Dropout(p=0.1, inplace=False)\n",
      "            )\n",
      "          )\n",
      "          (intermediate): BertIntermediate(\n",
      "            (dense): Linear(in_features=256, out_features=512, bias=True)\n",
      "            (intermediate_act_fn): GELUActivation()\n",
      "          )\n",
      "          (output): BertOutput(\n",
      "            (dense): Linear(in_features=512, out_features=256, bias=True)\n",
      "            (LayerNorm): LayerNorm((256,), eps=1e-12, elementwise_affine=True)\n",
      "            (dropout): Dropout(p=0.1, inplace=False)\n",
      "          )\n",
      "        )\n",
      "      )\n",
      "    )\n",
      "    (pooler): BertPooler(\n",
      "      (dense): Linear(in_features=256, out_features=256, bias=True)\n",
      "      (activation): Tanh()\n",
      "    )\n",
      "  )\n",
      "  (dropout): Dropout(p=0.1, inplace=False)\n",
      "  (classifier): Linear(in_features=256, out_features=17, bias=True)\n",
      ")\n"
     ]
    }
   ],
   "source": [
    "from transformers import BertForSequenceClassification, BertConfig\n",
    "\n",
    "def initialize_model_config(base_model_name, num_labels, hidden_size=256, intermediate_size=512, num_hidden_layers=6, num_attention_heads=4):\n",
    "    return BertConfig.from_pretrained(\n",
    "        base_model_name,\n",
    "        num_labels=num_labels,\n",
    "        hidden_size=hidden_size,\n",
    "        intermediate_size=intermediate_size,\n",
    "        num_hidden_layers=num_hidden_layers,\n",
    "        num_attention_heads=num_attention_heads\n",
    "    )\n",
    "\n",
    "def create_model(config):\n",
    "    return BertForSequenceClassification(config)\n",
    "\n",
    "def calculate_trainable_parameters(model):\n",
    "    return sum(p.numel() for p in model.parameters() if p.requires_grad)\n",
    "\n",
    "num_labels = len(data_sampled['Product_encoded'].unique())\n",
    "config = initialize_model_config(\n",
    "    base_model_name=\"bert-base-uncased\",\n",
    "    num_labels=num_labels,\n",
    "    hidden_size=256,\n",
    "    intermediate_size=512,\n",
    "    num_hidden_layers=6,\n",
    "    num_attention_heads=4\n",
    ")\n",
    "\n",
    "model = create_model(config)\n",
    "\n",
    "print(\"Model Configuration:\")\n",
    "print(config)\n",
    "\n",
    "trainable_params = calculate_trainable_parameters(model)\n",
    "print(f\"\\nTotal number of trainable parameters: {trainable_params:,}\")\n",
    "\n",
    "print(\"\\nModel Architecture:\")\n",
    "print(model)\n"
   ]
  },
  {
   "cell_type": "markdown",
   "metadata": {
    "id": "Xr4Z14a6wL2c"
   },
   "source": [
    "---\n",
    "\n",
    "Now that you have defined your model, it's time to train it!☠️\n",
    "\n",
    "Training a model of this size can take some time, depending on the available resources. To manage this, you can train your model for just **2–3 epochs** to demonstrate progress. Here are some hints:\n",
    "- **Training Metrics:** Ensure you print enough metrics, such as loss and accuracy, to track the training progress.\n",
    "- **Interactive Monitoring:** Use the `tqdm` library to display the progress of your training loop in real-time."
   ]
  },
  {
   "cell_type": "code",
   "execution_count": 85,
   "metadata": {
    "execution": {
     "iopub.execute_input": "2025-01-05T21:04:24.860236Z",
     "iopub.status.busy": "2025-01-05T21:04:24.859932Z",
     "iopub.status.idle": "2025-01-05T21:23:23.858706Z",
     "shell.execute_reply": "2025-01-05T21:23:23.857617Z",
     "shell.execute_reply.started": "2025-01-05T21:04:24.860211Z"
    },
    "id": "FRZW-F9Dw6AI",
    "trusted": true
   },
   "outputs": [
    {
     "name": "stdout",
     "output_type": "stream",
     "text": [
      "\n",
      "Epoch 1/3\n"
     ]
    },
    {
     "name": "stderr",
     "output_type": "stream",
     "text": [
      "Training: 100%|██████████| 4664/4664 [05:56<00:00, 13.08it/s]\n"
     ]
    },
    {
     "name": "stdout",
     "output_type": "stream",
     "text": [
      "Epoch 1 Loss: 1.3836 | Accuracy: 0.4972\n",
      "\n",
      "Epoch 2/3\n"
     ]
    },
    {
     "name": "stderr",
     "output_type": "stream",
     "text": [
      "Training: 100%|██████████| 4664/4664 [05:57<00:00, 13.05it/s]\n"
     ]
    },
    {
     "name": "stdout",
     "output_type": "stream",
     "text": [
      "Epoch 2 Loss: 0.9376 | Accuracy: 0.6762\n",
      "\n",
      "Epoch 3/3\n"
     ]
    },
    {
     "name": "stderr",
     "output_type": "stream",
     "text": [
      "Training: 100%|██████████| 4664/4664 [05:54<00:00, 13.14it/s]\n"
     ]
    },
    {
     "name": "stdout",
     "output_type": "stream",
     "text": [
      "Epoch 3 Loss: 0.8392 | Accuracy: 0.7089\n"
     ]
    },
    {
     "name": "stderr",
     "output_type": "stream",
     "text": [
      "Evaluating: 100%|██████████| 1166/1166 [01:10<00:00, 16.66it/s]"
     ]
    },
    {
     "name": "stdout",
     "output_type": "stream",
     "text": [
      "\n",
      "Test Loss: 0.8375 | Test Accuracy: 0.7109\n"
     ]
    },
    {
     "name": "stderr",
     "output_type": "stream",
     "text": [
      "\n"
     ]
    }
   ],
   "source": [
    "import torch\n",
    "from tqdm import tqdm\n",
    "from sklearn.metrics import accuracy_score\n",
    "\n",
    "def train_one_epoch(model, data_loader, optimizer, device):\n",
    "    model.train()\n",
    "    total_loss = 0\n",
    "    correct_predictions = 0\n",
    "    total_samples = 0\n",
    "\n",
    "    for batch in tqdm(data_loader, desc=\"Training\"):\n",
    "        input_ids = batch['input_ids'].to(device)\n",
    "        attention_mask = batch['attention_mask'].to(device)\n",
    "        labels = batch['labels'].to(device)\n",
    "\n",
    "        optimizer.zero_grad()\n",
    "\n",
    "        outputs = model(input_ids=input_ids, attention_mask=attention_mask, labels=labels)\n",
    "        loss = outputs.loss\n",
    "        logits = outputs.logits\n",
    "\n",
    "        loss.backward()\n",
    "        optimizer.step()\n",
    "\n",
    "        total_loss += loss.item()\n",
    "        preds = torch.argmax(logits, dim=1)\n",
    "        correct_predictions += (preds == labels).sum().item()\n",
    "        total_samples += labels.size(0)\n",
    "\n",
    "    avg_loss = total_loss / len(data_loader)\n",
    "    accuracy = correct_predictions / total_samples\n",
    "    return avg_loss, accuracy\n",
    "\n",
    "def evaluate_model(model, data_loader, device):\n",
    "    model.eval()\n",
    "    total_loss = 0\n",
    "    correct_predictions = 0\n",
    "    total_samples = 0\n",
    "\n",
    "    with torch.no_grad():\n",
    "        for batch in tqdm(data_loader, desc=\"Evaluating\"):\n",
    "            input_ids = batch['input_ids'].to(device)\n",
    "            attention_mask = batch['attention_mask'].to(device)\n",
    "            labels = batch['labels'].to(device)\n",
    "\n",
    "            outputs = model(input_ids=input_ids, attention_mask=attention_mask, labels=labels)\n",
    "            loss = outputs.loss\n",
    "            logits = outputs.logits\n",
    "\n",
    "            total_loss += loss.item()\n",
    "            preds = torch.argmax(logits, dim=1)\n",
    "            correct_predictions += (preds == labels).sum().item()\n",
    "            total_samples += labels.size(0)\n",
    "\n",
    "    avg_loss = total_loss / len(data_loader)\n",
    "    accuracy = correct_predictions / total_samples\n",
    "    return avg_loss, accuracy\n",
    "\n",
    "def train_and_evaluate(model, train_loader, test_loader, optimizer, device, num_epochs):\n",
    "    model.to(device)\n",
    "\n",
    "    for epoch in range(num_epochs):\n",
    "        print(f\"\\nEpoch {epoch + 1}/{num_epochs}\")\n",
    "        train_loss, train_accuracy = train_one_epoch(model, train_loader, optimizer, device)\n",
    "        print(f\"Epoch {epoch + 1} Loss: {train_loss:.4f} | Accuracy: {train_accuracy:.4f}\")\n",
    "\n",
    "    test_loss, test_accuracy = evaluate_model(model, test_loader, device)\n",
    "    print(f\"\\nTest Loss: {test_loss:.4f} | Test Accuracy: {test_accuracy:.4f}\")\n",
    "\n",
    "device = torch.device(\"cuda\" if torch.cuda.is_available() else \"cpu\")\n",
    "optimizer = torch.optim.AdamW(model.parameters(), lr=2e-5)\n",
    "num_epochs = 3\n",
    "\n",
    "train_and_evaluate(model, train_loader, test_loader, optimizer, device, num_epochs)\n"
   ]
  },
  {
   "cell_type": "markdown",
   "metadata": {
    "id": "-yHtTYcpz6AW"
   },
   "source": [
    "## Part 3: Fine-Tuning TinyBERT with LoRA\n",
    "\n",
    "As you have experienced, training even a small-sized BERT model can be computationally intensive and time-consuming. To address these challenges, we explore **Parameter-Efficient Fine-Tuning (PEFT)** methods, which allow us to utilize the power of large pretrained models without requiring extensive resources.\n",
    "\n",
    "---\n",
    "\n",
    "### **Parameter-Efficient Fine-Tuning (PEFT)**\n",
    "\n",
    "PEFT methods focus on fine-tuning only a small portion of the model’s parameters while keeping most of the pretrained weights frozen. This drastically reduces the computational and storage requirements while leveraging the rich knowledge embedded in pretrained models.\n",
    "\n",
    "One popular PEFT method is LoRA (Low-Rank Adaptation).\n",
    "\n",
    "- **What is LoRA?**\n",
    "\n",
    "LoRA introduces a mechanism to fine-tune large language models by injecting small low-rank matrices into the model's architecture. Instead of updating all parameters during training, LoRA trains these small matrices while keeping the majority of the original parameters frozen.  This is achieved as follows:\n",
    "\n",
    "1. **Frozen Weights**: The pretrained weights of the model, represented as a weight matrix $ W \\in \\mathbb{R}^{d \\times k} $, remain **frozen** during fine-tuning.\n",
    "\n",
    "2. **Low-Rank Decomposition**:\n",
    "   Instead of directly updating $ W $, LoRA introduces two trainable matrices, $ A \\in \\mathbb{R}^{d \\times r} $ and $ B \\in \\mathbb{R}^{r \\times k} $, where $ r \\ll \\min(d, k) $.  \n",
    "   These matrices approximate the update to $ W $ as:\n",
    "   $$\n",
    "   \\Delta W = A \\cdot B\n",
    "   $$\n",
    "\n",
    "   Here, $ r $, the rank of the decomposition, is a key hyperparameter that determines the trade-off between computational cost and model capacity.\n",
    "\n",
    "3. **Adaptation**:\n",
    "   During training, instead of updating $ W $, the adapted weight is:\n",
    "   $$\n",
    "   W' = W + \\Delta W = W + A \\cdot B\n",
    "   $$\n",
    "   Only the low-rank matrices $ A $ and $ B $ are optimized, while $ W $ remains fixed.\n",
    "\n",
    "4. **Efficiency**:\n",
    "   Since $ r $ is much smaller than $ d $ and $ k $, the number of trainable parameters in $ A $ and $ B $ is significantly less than in $ W $. This makes the approach highly efficient both in terms of computation and memory.\n",
    "\n",
    "---\n",
    "\n",
    "###  **Fine-Tuning TinyBERT**\n",
    "\n",
    "For this part, we will fine-tune **TinyBERT**, a distilled version of BERT, using the LoRA method.\n",
    "\n",
    "- **What is TinyBERT?**\n",
    "\n",
    "TinyBERT is a lightweight version of the original BERT model created through knowledge distillation. It significantly reduces the model size and inference latency while preserving much of the original BERT’s effectiveness. Here are some key characteristics of TinyBERT:\n",
    "- It is designed to be more resource-efficient for tasks such as classification, question answering, and more.\n",
    "- TinyBERT retains a compact structure with fewer layers and parameters, making it ideal for fine-tuning with limited computational resources.\n"
   ]
  },
  {
   "cell_type": "markdown",
   "metadata": {
    "id": "n_Og-pBeV5x6"
   },
   "source": [
    "> Similar to the previous section, training this model might take some time. Given the resource limitations, you can train the model for just **2-3 epochs** to demonstrate the process.\n"
   ]
  },
  {
   "cell_type": "code",
   "execution_count": null,
   "metadata": {
    "execution": {
     "iopub.execute_input": "2025-01-05T23:52:05.047273Z",
     "iopub.status.busy": "2025-01-05T23:52:05.047018Z"
    },
    "trusted": true
   },
   "outputs": [
    {
     "name": "stdout",
     "output_type": "stream",
     "text": [
      "Collecting transformers==4.31.0\n",
      "  Downloading transformers-4.31.0-py3-none-any.whl.metadata (116 kB)\n",
      "\u001b[2K     \u001b[90m━━━━━━━━━━━━━━━━━━━━━━━━━━━━━━━━━━━━━━━━\u001b[0m \u001b[32m116.9/116.9 kB\u001b[0m \u001b[31m3.5 MB/s\u001b[0m eta \u001b[36m0:00:00\u001b[0m\n",
      "\u001b[?25hCollecting peft==0.3.0\n",
      "  Downloading peft-0.3.0-py3-none-any.whl.metadata (21 kB)\n",
      "Collecting huggingface_hub==0.17.2\n",
      "  Downloading huggingface_hub-0.17.2-py3-none-any.whl.metadata (13 kB)\n",
      "Requirement already satisfied: filelock in /usr/local/lib/python3.10/dist-packages (from transformers==4.31.0) (3.16.1)\n",
      "Requirement already satisfied: numpy>=1.17 in /usr/local/lib/python3.10/dist-packages (from transformers==4.31.0) (1.26.4)\n",
      "Requirement already satisfied: packaging>=20.0 in /usr/local/lib/python3.10/dist-packages (from transformers==4.31.0) (24.1)\n",
      "Requirement already satisfied: pyyaml>=5.1 in /usr/local/lib/python3.10/dist-packages (from transformers==4.31.0) (6.0.2)\n",
      "Requirement already satisfied: regex!=2019.12.17 in /usr/local/lib/python3.10/dist-packages (from transformers==4.31.0) (2024.9.11)\n",
      "Requirement already satisfied: requests in /usr/local/lib/python3.10/dist-packages (from transformers==4.31.0) (2.32.3)\n",
      "Collecting tokenizers!=0.11.3,<0.14,>=0.11.1 (from transformers==4.31.0)\n",
      "  Downloading tokenizers-0.13.3-cp310-cp310-manylinux_2_17_x86_64.manylinux2014_x86_64.whl.metadata (6.7 kB)\n",
      "Requirement already satisfied: safetensors>=0.3.1 in /usr/local/lib/python3.10/dist-packages (from transformers==4.31.0) (0.4.5)\n",
      "Requirement already satisfied: tqdm>=4.27 in /usr/local/lib/python3.10/dist-packages (from transformers==4.31.0) (4.66.5)\n",
      "Requirement already satisfied: psutil in /usr/local/lib/python3.10/dist-packages (from peft==0.3.0) (5.9.5)\n",
      "Requirement already satisfied: torch>=1.13.0 in /usr/local/lib/python3.10/dist-packages (from peft==0.3.0) (2.4.1+cu121)\n",
      "Requirement already satisfied: accelerate in /usr/local/lib/python3.10/dist-packages (from peft==0.3.0) (0.34.2)\n",
      "Requirement already satisfied: fsspec in /usr/local/lib/python3.10/dist-packages (from huggingface_hub==0.17.2) (2024.6.1)\n",
      "Requirement already satisfied: typing-extensions>=3.7.4.3 in /usr/local/lib/python3.10/dist-packages (from huggingface_hub==0.17.2) (4.12.2)\n",
      "Requirement already satisfied: sympy in /usr/local/lib/python3.10/dist-packages (from torch>=1.13.0->peft==0.3.0) (1.13.3)\n",
      "Requirement already satisfied: networkx in /usr/local/lib/python3.10/dist-packages (from torch>=1.13.0->peft==0.3.0) (3.3)\n",
      "Requirement already satisfied: jinja2 in /usr/local/lib/python3.10/dist-packages (from torch>=1.13.0->peft==0.3.0) (3.1.4)\n",
      "INFO: pip is looking at multiple versions of accelerate to determine which version is compatible with other requirements. This could take a while.\n",
      "Collecting accelerate (from peft==0.3.0)\n",
      "  Downloading accelerate-1.2.1-py3-none-any.whl.metadata (19 kB)\n",
      "  Downloading accelerate-1.2.0-py3-none-any.whl.metadata (19 kB)\n",
      "  Downloading accelerate-1.1.1-py3-none-any.whl.metadata (19 kB)\n",
      "  Downloading accelerate-1.1.0-py3-none-any.whl.metadata (19 kB)\n",
      "  Downloading accelerate-1.0.1-py3-none-any.whl.metadata (19 kB)\n",
      "  Downloading accelerate-1.0.0-py3-none-any.whl.metadata (19 kB)\n",
      "  Downloading accelerate-0.34.1-py3-none-any.whl.metadata (19 kB)\n",
      "INFO: pip is still looking at multiple versions of accelerate to determine which version is compatible with other requirements. This could take a while.\n",
      "  Downloading accelerate-0.34.0-py3-none-any.whl.metadata (19 kB)\n",
      "  Downloading accelerate-0.33.0-py3-none-any.whl.metadata (18 kB)\n",
      "  Downloading accelerate-0.32.1-py3-none-any.whl.metadata (18 kB)\n",
      "Requirement already satisfied: charset-normalizer<4,>=2 in /usr/local/lib/python3.10/dist-packages (from requests->transformers==4.31.0) (3.3.2)\n",
      "Requirement already satisfied: idna<4,>=2.5 in /usr/local/lib/python3.10/dist-packages (from requests->transformers==4.31.0) (3.10)\n",
      "Requirement already satisfied: urllib3<3,>=1.21.1 in /usr/local/lib/python3.10/dist-packages (from requests->transformers==4.31.0) (2.2.3)\n",
      "Requirement already satisfied: certifi>=2017.4.17 in /usr/local/lib/python3.10/dist-packages (from requests->transformers==4.31.0) (2024.8.30)\n",
      "Requirement already satisfied: MarkupSafe>=2.0 in /usr/local/lib/python3.10/dist-packages (from jinja2->torch>=1.13.0->peft==0.3.0) (2.1.5)\n",
      "Requirement already satisfied: mpmath<1.4,>=1.1.0 in /usr/local/lib/python3.10/dist-packages (from sympy->torch>=1.13.0->peft==0.3.0) (1.3.0)\n",
      "Downloading transformers-4.31.0-py3-none-any.whl (7.4 MB)\n",
      "\u001b[2K   \u001b[90m━━━━━━━━━━━━━━━━━━━━━━━━━━━━━━━━━━━━━━━━\u001b[0m \u001b[32m7.4/7.4 MB\u001b[0m \u001b[31m77.7 MB/s\u001b[0m eta \u001b[36m0:00:00\u001b[0m:00:01\u001b[0m0:01\u001b[0m\n",
      "\u001b[?25hDownloading peft-0.3.0-py3-none-any.whl (56 kB)\n",
      "\u001b[2K   \u001b[90m━━━━━━━━━━━━━━━━━━━━━━━━━━━━━━━━━━━━━━━━\u001b[0m \u001b[32m56.8/56.8 kB\u001b[0m \u001b[31m3.7 MB/s\u001b[0m eta \u001b[36m0:00:00\u001b[0m\n",
      "\u001b[?25hDownloading huggingface_hub-0.17.2-py3-none-any.whl (294 kB)\n",
      "\u001b[2K   \u001b[90m━━━━━━━━━━━━━━━━━━━━━━━━━━━━━━━━━━━━━━━━\u001b[0m \u001b[32m294.9/294.9 kB\u001b[0m \u001b[31m18.5 MB/s\u001b[0m eta \u001b[36m0:00:00\u001b[0m\n",
      "\u001b[?25hDownloading tokenizers-0.13.3-cp310-cp310-manylinux_2_17_x86_64.manylinux2014_x86_64.whl (7.8 MB)\n",
      "\u001b[2K   \u001b[90m━━━━━━━━━━━━━━━━━━━━━━━━━━━━━━━━━━━━━━━━\u001b[0m \u001b[32m7.8/7.8 MB\u001b[0m \u001b[31m101.2 MB/s\u001b[0m eta \u001b[36m0:00:00\u001b[0m00:01\u001b[0m00:01\u001b[0m\n",
      "\u001b[?25hDownloading accelerate-0.32.1-py3-none-any.whl (314 kB)\n",
      "\u001b[2K   \u001b[90m━━━━━━━━━━━━━━━━━━━━━━━━━━━━━━━━━━━━━━━━\u001b[0m \u001b[32m314.1/314.1 kB\u001b[0m \u001b[31m18.8 MB/s\u001b[0m eta \u001b[36m0:00:00\u001b[0m\n",
      "\u001b[?25hInstalling collected packages: tokenizers, huggingface_hub, transformers, accelerate, peft\n",
      "  Attempting uninstall: tokenizers\n",
      "    Found existing installation: tokenizers 0.19.1\n",
      "    Uninstalling tokenizers-0.19.1:\n",
      "      Successfully uninstalled tokenizers-0.19.1\n",
      "  Attempting uninstall: huggingface_hub\n",
      "    Found existing installation: huggingface-hub 0.24.7\n",
      "    Uninstalling huggingface-hub-0.24.7:\n",
      "      Successfully uninstalled huggingface-hub-0.24.7\n",
      "  Attempting uninstall: transformers\n",
      "    Found existing installation: transformers 4.44.2\n",
      "    Uninstalling transformers-4.44.2:\n",
      "      Successfully uninstalled transformers-4.44.2\n"
     ]
    }
   ],
   "source": [
    "!pip install transformers==4.31.0 peft==0.3.0 huggingface_hub==0.17.2"
   ]
  },
  {
   "cell_type": "code",
   "execution_count": null,
   "metadata": {
    "id": "fe1vGCZwU7MZ",
    "trusted": true
   },
   "outputs": [],
   "source": [
    "from transformers import AutoModelForSequenceClassification, AutoTokenizer\n",
    "from peft import get_peft_model, LoraConfig, TaskType\n",
    "import torch\n",
    "import torch.nn as nn\n",
    "from torch.utils.data import Dataset, DataLoader\n",
    "import numpy as np\n",
    "from tqdm import tqdm\n",
    "from sklearn.metrics import accuracy_score\n",
    "import pandas as pd"
   ]
  },
  {
   "cell_type": "code",
   "execution_count": 75,
   "metadata": {
    "execution": {
     "iopub.execute_input": "2025-01-05T20:31:39.373484Z",
     "iopub.status.busy": "2025-01-05T20:31:39.373162Z",
     "iopub.status.idle": "2025-01-05T20:31:39.989945Z",
     "shell.execute_reply": "2025-01-05T20:31:39.988738Z",
     "shell.execute_reply.started": "2025-01-05T20:31:39.373458Z"
    },
    "id": "LIyN5vOLLWz6",
    "trusted": true
   },
   "outputs": [
    {
     "name": "stderr",
     "output_type": "stream",
     "text": [
      "Some weights of BertForSequenceClassification were not initialized from the model checkpoint at prajjwal1/bert-tiny and are newly initialized: ['classifier.bias', 'classifier.weight']\n",
      "You should probably TRAIN this model on a down-stream task to be able to use it for predictions and inference.\n"
     ]
    }
   ],
   "source": [
    "device = torch.device(\"cuda\" if torch.cuda.is_available() else \"cpu\")\n",
    "model_name = \"prajjwal1/bert-tiny\"\n",
    "base_model = AutoModelForSequenceClassification.from_pretrained(model_name, num_labels=len(set(y)))\n",
    "tokenizer = AutoTokenizer.from_pretrained(model_name)\n",
    "\n",
    "# Define LoRA Configuration\n",
    "lora_config = LoraConfig(\n",
    "    task_type=TaskType.SEQ_CLS,\n",
    "    r=8,\n",
    "    lora_alpha=16,\n",
    "    lora_dropout=0.1,\n",
    "    bias=\"none\"\n",
    ")"
   ]
  },
  {
   "cell_type": "code",
   "execution_count": 76,
   "metadata": {
    "execution": {
     "iopub.execute_input": "2025-01-05T20:31:40.406238Z",
     "iopub.status.busy": "2025-01-05T20:31:40.405946Z",
     "iopub.status.idle": "2025-01-05T20:31:40.428051Z",
     "shell.execute_reply": "2025-01-05T20:31:40.427158Z",
     "shell.execute_reply.started": "2025-01-05T20:31:40.406215Z"
    },
    "id": "jMgwZ8YmLuZ_",
    "trusted": true
   },
   "outputs": [
    {
     "name": "stdout",
     "output_type": "stream",
     "text": [
      "Total Parameters: 4,398,498\n",
      "Trainable Parameters: 10,385\n"
     ]
    }
   ],
   "source": [
    "lora_model = get_peft_model(base_model, lora_config)\n",
    "lora_model.to(device)\n",
    "def count_parameters(model):\n",
    "    total_params = sum(p.numel() for p in model.parameters())\n",
    "    trainable_params = sum(p.numel() for p in model.parameters() if p.requires_grad)\n",
    "    return total_params, trainable_params\n",
    "\n",
    "total_params, trainable_params = count_parameters(lora_model)\n",
    "print(f\"Total Parameters: {total_params:,}\")\n",
    "print(f\"Trainable Parameters: {trainable_params:,}\")\n",
    "# Training configuration\n",
    "optimizer = torch.optim.AdamW(lora_model.parameters(), lr=8e-5)\n",
    "criterion = torch.nn.CrossEntropyLoss()"
   ]
  },
  {
   "cell_type": "code",
   "execution_count": 77,
   "metadata": {
    "execution": {
     "iopub.execute_input": "2025-01-05T20:31:43.518554Z",
     "iopub.status.busy": "2025-01-05T20:31:43.518174Z",
     "iopub.status.idle": "2025-01-05T20:50:38.733153Z",
     "shell.execute_reply": "2025-01-05T20:50:38.732143Z",
     "shell.execute_reply.started": "2025-01-05T20:31:43.518520Z"
    },
    "id": "J395FrcWMbmx",
    "trusted": true
   },
   "outputs": [
    {
     "name": "stdout",
     "output_type": "stream",
     "text": [
      "\n",
      "Epoch 1/3\n"
     ]
    },
    {
     "name": "stderr",
     "output_type": "stream",
     "text": [
      "Training: 100%|██████████| 4664/4664 [05:55<00:00, 13.12it/s]\n"
     ]
    },
    {
     "name": "stdout",
     "output_type": "stream",
     "text": [
      "Epoch 1 Loss: 0.7422 | Accuracy: 0.7419\n",
      "\n",
      "Epoch 2/3\n"
     ]
    },
    {
     "name": "stderr",
     "output_type": "stream",
     "text": [
      "Training: 100%|██████████| 4664/4664 [05:54<00:00, 13.15it/s]\n"
     ]
    },
    {
     "name": "stdout",
     "output_type": "stream",
     "text": [
      "Epoch 2 Loss: 0.7026 | Accuracy: 0.7551\n",
      "\n",
      "Epoch 3/3\n"
     ]
    },
    {
     "name": "stderr",
     "output_type": "stream",
     "text": [
      "Training: 100%|██████████| 4664/4664 [05:54<00:00, 13.14it/s]\n"
     ]
    },
    {
     "name": "stdout",
     "output_type": "stream",
     "text": [
      "Epoch 3 Loss: 0.6668 | Accuracy: 0.7687\n"
     ]
    },
    {
     "name": "stderr",
     "output_type": "stream",
     "text": [
      "Evaluating: 100%|██████████| 1166/1166 [01:09<00:00, 16.67it/s]"
     ]
    },
    {
     "name": "stdout",
     "output_type": "stream",
     "text": [
      "\n",
      "Test Loss: 0.8249 | Test Accuracy: 0.7202\n"
     ]
    },
    {
     "name": "stderr",
     "output_type": "stream",
     "text": [
      "\n"
     ]
    }
   ],
   "source": [
    "def train_one_epoch(model, train_loader, optimizer, device):\n",
    "    model.train()\n",
    "    total_loss = 0\n",
    "    correct_predictions = 0\n",
    "    total_examples = 0\n",
    "\n",
    "    for batch in tqdm(train_loader, desc=\"Training\"):\n",
    "        input_ids = batch['input_ids'].to(device)\n",
    "        attention_mask = batch['attention_mask'].to(device)\n",
    "        labels = batch['labels'].to(device)\n",
    "\n",
    "        optimizer.zero_grad()\n",
    "\n",
    "        outputs = model(input_ids=input_ids, attention_mask=attention_mask, labels=labels)\n",
    "        loss = outputs.loss\n",
    "        logits = outputs.logits\n",
    "\n",
    "        loss.backward()\n",
    "        optimizer.step()\n",
    "\n",
    "        total_loss += loss.item()\n",
    "        predictions = torch.argmax(logits, dim=1)\n",
    "        correct_predictions += (predictions == labels).sum().item()\n",
    "        total_examples += labels.size(0)\n",
    "\n",
    "    average_loss = total_loss / len(train_loader)\n",
    "    accuracy = correct_predictions / total_examples\n",
    "    return average_loss, accuracy\n",
    "\n",
    "\n",
    "def evaluate_model(model, test_loader, device):\n",
    "    model.eval()\n",
    "    total_loss = 0\n",
    "    correct_predictions = 0\n",
    "    total_examples = 0\n",
    "\n",
    "    with torch.no_grad():\n",
    "        for batch in tqdm(test_loader, desc=\"Evaluating\"):\n",
    "            # Move batch data to device\n",
    "            input_ids = batch['input_ids'].to(device)\n",
    "            attention_mask = batch['attention_mask'].to(device)\n",
    "            labels = batch['labels'].to(device)\n",
    "\n",
    "            outputs = model(input_ids=input_ids, attention_mask=attention_mask, labels=labels)\n",
    "            loss = outputs.loss\n",
    "            logits = outputs.logits\n",
    "\n",
    "            total_loss += loss.item()\n",
    "            predictions = torch.argmax(logits, dim=1)\n",
    "            correct_predictions += (predictions == labels).sum().item()\n",
    "            total_examples += labels.size(0)\n",
    "\n",
    "    average_loss = total_loss / len(test_loader)\n",
    "    accuracy = correct_predictions / total_examples\n",
    "    return average_loss, accuracy\n",
    "\n",
    "optimizer = torch.optim.AdamW(model.parameters(), lr=2e-5)\n",
    "num_epochs = 3\n",
    "device = torch.device(\"cuda\" if torch.cuda.is_available() else \"cpu\")\n",
    "model.to(device)\n",
    "\n",
    "for epoch in range(num_epochs):\n",
    "    print(f\"\\nEpoch {epoch + 1}/{num_epochs}\")\n",
    "    train_loss, train_accuracy = train_one_epoch(model, train_loader, optimizer, device)\n",
    "    print(f\"Epoch {epoch + 1} Loss: {train_loss:.4f} | Accuracy: {train_accuracy:.4f}\")\n",
    "\n",
    "test_loss, test_accuracy = evaluate_model(model, test_loader, device)\n",
    "print(f\"\\nTest Loss: {test_loss:.4f} | Test Accuracy: {test_accuracy:.4f}\")\n"
   ]
  },
  {
   "cell_type": "code",
   "execution_count": null,
   "metadata": {
    "trusted": true
   },
   "outputs": [],
   "source": []
  }
 ],
 "metadata": {
  "accelerator": "GPU",
  "colab": {
   "gpuType": "T4",
   "provenance": []
  },
  "kaggle": {
   "accelerator": "gpu",
   "dataSources": [],
   "dockerImageVersionId": 30823,
   "isGpuEnabled": true,
   "isInternetEnabled": true,
   "language": "python",
   "sourceType": "notebook"
  },
  "kernelspec": {
   "display_name": "Python 3",
   "language": "python",
   "name": "python3"
  },
  "language_info": {
   "codemirror_mode": {
    "name": "ipython",
    "version": 3
   },
   "file_extension": ".py",
   "mimetype": "text/x-python",
   "name": "python",
   "nbconvert_exporter": "python",
   "pygments_lexer": "ipython3",
   "version": "3.10.12"
  }
 },
 "nbformat": 4,
 "nbformat_minor": 4
}
