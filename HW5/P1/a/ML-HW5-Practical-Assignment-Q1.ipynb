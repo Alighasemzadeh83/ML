{
 "cells": [
  {
   "cell_type": "markdown",
   "metadata": {
    "id": "0QOmoitc9qC4"
   },
   "source": [
    "<br>\n",
    "<font>\n",
    "<div dir=ltr align=center>\n",
    "<img src=\"https://cdn.freebiesupply.com/logos/large/2x/sharif-logo-png-transparent.png\" width=150 height=150> <br>\n",
    "<font color=0F5298 size=7>\n",
    "    Machine learning <br>\n",
    "<font color=2565AE size=5>\n",
    "    Computer Engineering Department <br>\n",
    "    Fall 2024<br>\n",
    "<font color=3C99D size=5>\n",
    "    Practical Assignment 5 - NLP - Skip-Gram <br>\n",
    "<font color=0CBCDF size=4>\n",
    "   &#x1F335; Amirhossein Akbari  &#x1F335;\n",
    "</div>\n",
    "\n",
    "____"
   ]
  },
  {
   "cell_type": "markdown",
   "metadata": {
    "id": "35Y0nSE3-wuW"
   },
   "source": [
    "<font color=9999FF size=4>\n",
    "&#x1F388; Full Name : Ali Ghasemzadeh\n",
    "<br>\n",
    "<font color=9999FF size=4>\n",
    "&#x1F388; Student Number : 401106339"
   ]
  },
  {
   "cell_type": "markdown",
   "metadata": {
    "id": "i4spZpsq_Pxf"
   },
   "source": [
    "<font color=0080FF size=3>\n",
    "This notebook explores word embeddings, compact and dense vector representations of words that capture their textual meaning. This notebook focusing on implementing the Word2Vec algorithm using the Skip-gram architecture and negative sampling.\n",
    "</font>\n",
    "<br>\n",
    "\n",
    "**Note:**\n",
    "<br>\n",
    "<font color=66B2FF size=2>In this notebook, you are free to use any function or model from TensorFlow to assist with the implementation. However, PyTorch is not permitted for this exercise. This ensures consistency and alignment with the tools being focused on.</font>\n",
    "<br>\n",
    "<font color=red size=3>**Run All Cells Before Submission**</font>: <font color=FF99CC size=2>Before saving and submitting your notebook, please ensure you run all cells from start to finish. This practice guarantees that your notebook is self-consistent and can be evaluated correctly by others.</font>"
   ]
  },
  {
   "cell_type": "markdown",
   "metadata": {
    "id": "hZCaUs-3FsJk"
   },
   "source": [
    "<font color=#ffb578 size=3>\n",
    "you are free to modify, add, or remove any cells as you see fit to complete your tasks. Feel free to change any of the provided code or content to better suit your understanding and approach to the problems.\n",
    "\n",
    "- **Questions**: If you have any questions or require clarifications as you work through the notebook, please do not hesitate to ask. You can post your queries on Quera or reach out via Telegram.\n",
    "- **Feedback**: We encourage you to seek feedback and engage in discussions to enhance your learning experience and improve your solutions.\n",
    "</font>"
   ]
  },
  {
   "cell_type": "code",
   "execution_count": 1,
   "metadata": {
    "colab": {
     "base_uri": "https://localhost:8080/"
    },
    "execution": {
     "iopub.execute_input": "2025-01-05T06:51:54.060489Z",
     "iopub.status.busy": "2025-01-05T06:51:54.060208Z",
     "iopub.status.idle": "2025-01-05T06:52:18.380070Z",
     "shell.execute_reply": "2025-01-05T06:52:18.379033Z",
     "shell.execute_reply.started": "2025-01-05T06:51:54.060462Z"
    },
    "id": "hoV5vSSSbIp0",
    "outputId": "bc730d5e-2aa8-4bac-dc35-d94c178e8d16",
    "papermill": {
     "duration": 8.238801,
     "end_time": "2020-10-10T13:12:49.471884",
     "exception": false,
     "start_time": "2020-10-10T13:12:41.233083",
     "status": "completed"
    },
    "tags": [],
    "trusted": true
   },
   "outputs": [
    {
     "name": "stdout",
     "output_type": "stream",
     "text": [
      "[nltk_data] Downloading package stopwords to /usr/share/nltk_data...\n",
      "[nltk_data]   Package stopwords is already up-to-date!\n"
     ]
    }
   ],
   "source": [
    "import io\n",
    "import math\n",
    "import gzip\n",
    "import nltk\n",
    "import time\n",
    "import random\n",
    "import numpy as np\n",
    "import tensorflow as tf\n",
    "import gensim.downloader as api\n",
    "import tensorflow_datasets as tfds\n",
    "nltk.download('stopwords')\n",
    "\n",
    "from collections import Counter\n",
    "from nltk.corpus import stopwords\n",
    "from tensorflow.keras.preprocessing.text import Tokenizer\n",
    "from tensorflow.keras.preprocessing.sequence import skipgrams\n"
   ]
  },
  {
   "cell_type": "markdown",
   "metadata": {
    "id": "3pwuegqx-JWf",
    "papermill": {
     "duration": 0.023154,
     "end_time": "2020-10-10T13:12:49.521385",
     "exception": false,
     "start_time": "2020-10-10T13:12:49.498231",
     "status": "completed"
    },
    "tags": []
   },
   "source": [
    "### Downloading Dataset\n",
    "We're going to use text8 dataset. Text8 is first 100,000,000 bytes of plain text from Wikipedia. It's mainly used for testing purposes."
   ]
  },
  {
   "cell_type": "code",
   "execution_count": 2,
   "metadata": {
    "colab": {
     "base_uri": "https://localhost:8080/"
    },
    "execution": {
     "iopub.execute_input": "2025-01-05T06:52:23.643675Z",
     "iopub.status.busy": "2025-01-05T06:52:23.643391Z",
     "iopub.status.idle": "2025-01-05T06:52:29.213775Z",
     "shell.execute_reply": "2025-01-05T06:52:29.213031Z",
     "shell.execute_reply.started": "2025-01-05T06:52:23.643654Z"
    },
    "id": "XG-FjuVEFLGW",
    "outputId": "9d1e8f9a-8712-40e9-ddca-1e1ef563bd94",
    "papermill": {
     "duration": 14.234694,
     "end_time": "2020-10-10T13:13:03.779495",
     "exception": false,
     "start_time": "2020-10-10T13:12:49.544801",
     "status": "completed"
    },
    "tags": [],
    "trusted": true
   },
   "outputs": [
    {
     "name": "stdout",
     "output_type": "stream",
     "text": [
      "[==================================================] 100.0% 31.6/31.6MB downloaded\n"
     ]
    }
   ],
   "source": [
    "def load_data():\n",
    "  text8_zip_file_path = api.load('text8', return_path=True)\n",
    "  with gzip.open(text8_zip_file_path, 'rb') as file:\n",
    "    file_content = file.read()\n",
    "  wiki = file_content.decode()\n",
    "  return wiki\n",
    "\n",
    "wiki = load_data()"
   ]
  },
  {
   "cell_type": "markdown",
   "metadata": {
    "id": "QYBT_-Vy_af4",
    "papermill": {
     "duration": 1.449897,
     "end_time": "2020-10-10T13:13:06.611079",
     "exception": false,
     "start_time": "2020-10-10T13:13:05.161182",
     "status": "completed"
    },
    "tags": []
   },
   "source": [
    "### Preprocessing data\n",
    "\n",
    "**Stopwords removal** - Begin by removing stopwords from the dataset, as they provide little to no value in learning word embeddings. Ensure your preprocessing pipeline filters out commonly used words such as \"the,\" \"and,\" or \"of\" that do not contribute to meaningful semantic relationships.\n",
    "\n",
    "---\n",
    "\n",
    "**Subsampling words** - In a large corpora, most frequent words can easily occur hundreds of millions of times and such words usually don't bring much information to the table.  It is of essential importance to cut down on their frequencies to mitigate the negative impact it adds. For example, co-occurrences of \"English\" and \"Spanish\" benefit much more than co-occurrences of \"English\" and \"the\" or \"Spanish\" and \"of\". To counter the imbalance between rare and frequent words Mikolov et. al came up with the following heuristic formula for determining probability to drop a particular word:\n",
    "\n",
    "![formula.png](data:image/png;base64,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)\n",
    "\n",
    "where t is threshold value (heuristically set to 1e-5) and f(w) is frequency of the word.\n",
    "\n",
    "Implement a subsampling mechanism to handle overly frequent words in the corpus. Use the heuristic formula provided by Mikolov et al. to calculate the probability of dropping a word based on its frequency. This step ensures the corpus maintains a balance between rare and frequent words, improving the quality of word co-occurrence relationships.\n",
    "\n",
    "---\n",
    "\n",
    "**Filtering words** - Filter out words that occur only once in the dataset, as they lack sufficient context to be represented effectively. Retain only those words that appear at least five times in the corpus to minimize noise and enhance the overall quality of the embeddings.\n"
   ]
  },
  {
   "cell_type": "code",
   "execution_count": 4,
   "metadata": {
    "execution": {
     "iopub.execute_input": "2025-01-05T06:52:48.662395Z",
     "iopub.status.busy": "2025-01-05T06:52:48.662031Z",
     "iopub.status.idle": "2025-01-05T06:52:48.668983Z",
     "shell.execute_reply": "2025-01-05T06:52:48.668068Z",
     "shell.execute_reply.started": "2025-01-05T06:52:48.662370Z"
    },
    "id": "wp50T2OqA-7L",
    "papermill": {
     "duration": 3.4315,
     "end_time": "2020-10-10T13:13:11.452631",
     "exception": false,
     "start_time": "2020-10-10T13:13:08.021131",
     "status": "completed"
    },
    "tags": [],
    "trusted": true
   },
   "outputs": [],
   "source": [
    "def preprocess_text(text):\n",
    "  # Step 1: Replace punctuation with tokens to standardize the text for processing\n",
    "  # Example: Replace '.', ',', and other punctuation marks with specific tokens\n",
    "  text = text.replace('.', ' . ').replace(',', ' , ').replace('!', ' ! ').replace('?', ' ? ')\n",
    "  text = text.replace(';', ' ; ').replace(':', ' : ').replace('(', ' ( ').replace(')', ' ) ')\n",
    "  # Step 2: Convert text to lowercase and remove unnecessary whitespaces\n",
    "  # Example: Apply text.lower() and text.strip()\n",
    "  text = text.lower().strip()\n",
    "  words = text.split()\n",
    "  # Step 3: Remove stopwords from the text\n",
    "  # Example: Filter out common words such as 'the', 'and', 'of' using a predefined stopwords list\n",
    "  stop_words = set(stopwords.words('english'))\n",
    "  words = [word for word in words if word not in stop_words]\n",
    "  # Step 4: Remove words with frequency less than 5\n",
    "  # Example: Count word frequencies and filter words appearing fewer than 5 times\n",
    "  word_counts = Counter(words)\n",
    "  words = [word for word in words if word_counts[word] >= 5]\n",
    "  # Step 5: Subsample words using a threshold value (e.g., 1e-5)\n",
    "  # Example: Implement the subsampling heuristic to reduce the frequency of overly common words\n",
    "  threshold = 1e-5\n",
    "  total_count = sum(word_counts.values())\n",
    "  word_frequencies = {word: count / total_count for word, count in word_counts.items()}\n",
    "  # Return the processed words and word counts\n",
    "  def subsample(word):\n",
    "    frequency = word_frequencies[word]\n",
    "    prob = (math.sqrt(frequency / threshold) + 1) * (threshold / frequency)\n",
    "    return random.random() < prob\n",
    "    \n",
    "  words = [word for word in words if subsample(word)]\n",
    "  return words, word_counts"
   ]
  },
  {
   "cell_type": "markdown",
   "metadata": {
    "id": "4260B2ZFJ_EA",
    "papermill": {
     "duration": 1.777391,
     "end_time": "2020-10-10T13:13:14.603396",
     "exception": false,
     "start_time": "2020-10-10T13:13:12.826005",
     "status": "completed"
    },
    "tags": []
   },
   "source": [
    "It's always a good idea to take a quick look at preprocessed sample before heading further - you might observe few things that if handled can enrich or correct your data. More like a validation step this."
   ]
  },
  {
   "cell_type": "code",
   "execution_count": 5,
   "metadata": {
    "execution": {
     "iopub.execute_input": "2025-01-05T06:52:58.877215Z",
     "iopub.status.busy": "2025-01-05T06:52:58.876836Z",
     "iopub.status.idle": "2025-01-05T06:53:10.238067Z",
     "shell.execute_reply": "2025-01-05T06:53:10.237128Z",
     "shell.execute_reply.started": "2025-01-05T06:52:58.877185Z"
    },
    "id": "_oNvdt-v1dw0",
    "papermill": {
     "duration": 1.689149,
     "end_time": "2020-10-10T13:13:17.668521",
     "exception": false,
     "start_time": "2020-10-10T13:13:15.979372",
     "status": "completed"
    },
    "tags": [],
    "trusted": true
   },
   "outputs": [
    {
     "name": "stdout",
     "output_type": "stream",
     "text": [
      "Sample slice of preprocessed words (index 1500 to 1550):\n",
      "['disobedience', 'abacus', 'insurrectionary', 'anarchism', 'anarchism', 'anarchism', 'term', 'unconnected', 'contexts', 'dave', 'neal', 'posited', 'big', 'anarchism', 'anarchism', 'ideology', 'methodology', 'anarchism', 'referred', 'ideological', 'anarchists', 'anarchism', 'applied', 'methodological', 'counterparts', 'viewed', 'anarchism', 'acting', 'tendency', 'illegitimate', 'anti', 'ideological', 'anarchism', 'shares', 'similarities', 'anarchy', 'andrej', 'offer', 'alternative', 'applying', 'organising', 'acting', 'manner', 'anarchist', 'principles', 'decentralisation', 'voluntary', 'aid', 'model', 'crucially']\n"
     ]
    }
   ],
   "source": [
    "# Take a quick look at a slice of preprocessed words (e.g., index 1500 to 1550)\n",
    "# Take a quick look at a slice of preprocessed words (e.g., index 1500 to 1550)\n",
    "preprocessed_words, word_counts = preprocess_text(wiki)\n",
    "sample_slice = preprocessed_words[1500:1550]\n",
    "print(\"Sample slice of preprocessed words (index 1500 to 1550):\")\n",
    "print(sample_slice)"
   ]
  },
  {
   "cell_type": "markdown",
   "metadata": {
    "id": "lCkFtaa_KrTb",
    "papermill": {
     "duration": 1.426874,
     "end_time": "2020-10-10T13:13:20.673211",
     "exception": false,
     "start_time": "2020-10-10T13:13:19.246337",
     "status": "completed"
    },
    "tags": []
   },
   "source": [
    "### Hyperparameters\n",
    "Setting a few hyperparamters required for gnerating batches and for deciding the size of word embeddings.\n",
    "\n"
   ]
  },
  {
   "cell_type": "code",
   "execution_count": 36,
   "metadata": {
    "execution": {
     "iopub.execute_input": "2025-01-05T07:38:28.286125Z",
     "iopub.status.busy": "2025-01-05T07:38:28.285768Z",
     "iopub.status.idle": "2025-01-05T07:38:28.290446Z",
     "shell.execute_reply": "2025-01-05T07:38:28.289374Z",
     "shell.execute_reply.started": "2025-01-05T07:38:28.286095Z"
    },
    "id": "mJLzBkSIKoMx",
    "papermill": {
     "duration": 1.447402,
     "end_time": "2020-10-10T13:13:23.486929",
     "exception": false,
     "start_time": "2020-10-10T13:13:22.039527",
     "status": "completed"
    },
    "tags": [],
    "trusted": true
   },
   "outputs": [],
   "source": [
    "EMBEDDING_DIM = 128\n",
    "BUFFER_SIZE = 1000\n",
    "BATCH_SIZE = 1024\n",
    "EPOCHS = 10"
   ]
  },
  {
   "cell_type": "markdown",
   "metadata": {
    "id": "0oO7N0ZsLofI",
    "papermill": {
     "duration": 1.481198,
     "end_time": "2020-10-10T13:13:26.663213",
     "exception": false,
     "start_time": "2020-10-10T13:13:25.182015",
     "status": "completed"
    },
    "tags": []
   },
   "source": [
    "### Preparing TensorFlow Dataset using Skipgrams\n",
    "\n",
    "**Generating Skipgrams**\n",
    "\n",
    "Tokenize your preprocessed textual data and convert the words into their corresponding vectorized tokens. Then, use the `skipgrams` function provided by Keras to generate (word, context) pairs. Ensure the following steps are completed:\n",
    "\n",
    "- Generate positive samples: (word, word in the same window), with label 1.  \n",
    "- Generate negative samples: (word, random word from the vocabulary), with label 0.  \n",
    "\n",
    "Refer to Mikolov et al.'s paper, [Efficient Estimation of Word Representations in Vector Space](https://arxiv.org/pdf/1301.3781v3.pdf), for more details on Skipgrams.\n",
    "\n",
    "---\n",
    "\n",
    "**Negative Sampling**\n",
    "\n",
    "For each input word, implement the negative sampling approach to optimize the training process. Transform the problem of predicting context words into independent binary classification tasks. For every (target, context) pair, generate random negative (target, ~context) samples. This step will reduce computational complexity and make training more efficient.\n"
   ]
  },
  {
   "cell_type": "code",
   "execution_count": 35,
   "metadata": {
    "execution": {
     "iopub.execute_input": "2025-01-05T07:30:04.385039Z",
     "iopub.status.busy": "2025-01-05T07:30:04.384706Z",
     "iopub.status.idle": "2025-01-05T07:38:10.610232Z",
     "shell.execute_reply": "2025-01-05T07:38:10.609239Z",
     "shell.execute_reply.started": "2025-01-05T07:30:04.385010Z"
    },
    "id": "Uq4-jfYOjonO",
    "papermill": {
     "duration": 34.646886,
     "end_time": "2020-10-10T13:14:02.707124",
     "exception": false,
     "start_time": "2020-10-10T13:13:28.060238",
     "status": "completed"
    },
    "tags": [],
    "trusted": true
   },
   "outputs": [],
   "source": [
    "# Step 1: Initialize and fit the tokenizer on preprocessed words\n",
    "# Tokenize the preprocessed words and create a vocabulary index\n",
    "tokenizer = Tokenizer()\n",
    "tokenizer.fit_on_texts(preprocessed_words)\n",
    "# Step 2: Vectorize the words using the tokenizer's word index\n",
    "# Convert the preprocessed words into vectorized tokens\n",
    "vocab_size = len(tokenizer.word_index) + 1\n",
    "word_indices = tokenizer.texts_to_sequences([preprocessed_words])[0]\n",
    "window_size = 4\n",
    "# Step 3: Generate skipgram pairs and labels\n",
    "# Use the skipgrams function to create (word, context) pairs with their labels\n",
    "skip_grams, labels = skipgrams(\n",
    "    word_indices,\n",
    "    vocabulary_size=vocab_size,\n",
    "    window_size=window_size,\n",
    "    negative_samples=1.0  # Ratio of negative samples\n",
    ")\n",
    "# Step 4: Extract target and context words from the generated pairs\n",
    "# Separate the target words and context words for training\n",
    "targets, contexts = zip(*skip_grams)\n",
    "targets = np.array(targets, dtype=np.int32)\n",
    "contexts = np.array(contexts, dtype=np.int32)\n",
    "labels = np.array(labels, dtype=np.int32)\n",
    "# Step 5: Split the data into training and testing sets\n",
    "# Define a sample size and divide the data into training and testing subsets\n",
    "split_ratio = 0.8\n",
    "split_index = int(len(targets) * split_ratio)\n",
    "train_targets = targets[:split_index]\n",
    "train_contexts = contexts[:split_index]\n",
    "train_labels = labels[:split_index]\n",
    "test_targets = targets[split_index:]\n",
    "test_contexts = contexts[split_index:]\n",
    "test_labels = labels[split_index:]\n",
    "# Step 6: Create TensorFlow datasets\n",
    "# Prepare TensorFlow datasets for training and testing with appropriate batching and shuffling\n",
    "train_dataset = tf.data.Dataset.from_tensor_slices(((train_targets, train_contexts), train_labels))\n",
    "test_dataset = tf.data.Dataset.from_tensor_slices(((test_targets, test_contexts), test_labels))\n",
    "train_dataset = train_dataset.shuffle(BUFFER_SIZE).batch(BATCH_SIZE)\n",
    "test_dataset = test_dataset.batch(BATCH_SIZE)\n"
   ]
  },
  {
   "cell_type": "code",
   "execution_count": 37,
   "metadata": {
    "execution": {
     "iopub.execute_input": "2025-01-05T07:38:31.056330Z",
     "iopub.status.busy": "2025-01-05T07:38:31.056022Z",
     "iopub.status.idle": "2025-01-05T07:38:31.062492Z",
     "shell.execute_reply": "2025-01-05T07:38:31.061465Z",
     "shell.execute_reply.started": "2025-01-05T07:38:31.056305Z"
    },
    "id": "JRHxw7X4zOpg",
    "outputId": "93baea2c-a55c-432b-fbe3-831c5ba43785",
    "papermill": {
     "duration": 8.912486,
     "end_time": "2020-10-10T13:14:12.985042",
     "exception": false,
     "start_time": "2020-10-10T13:14:04.072556",
     "status": "completed"
    },
    "tags": [],
    "trusted": true
   },
   "outputs": [
    {
     "name": "stdout",
     "output_type": "stream",
     "text": [
      "Number of batches in the training dataset: 14507\n",
      "Number of batches in the testing dataset: 3627\n"
     ]
    }
   ],
   "source": [
    "# Print the number of batches in the training and testing datasets\n",
    "train_batches = len(train_dataset)\n",
    "test_batches = len(test_dataset)\n",
    "\n",
    "print(f\"Number of batches in the training dataset: {train_batches}\")\n",
    "print(f\"Number of batches in the testing dataset: {test_batches}\")"
   ]
  },
  {
   "cell_type": "markdown",
   "metadata": {
    "id": "VUatOx50OXF1",
    "papermill": {
     "duration": 1.350656,
     "end_time": "2020-10-10T13:14:15.692486",
     "exception": false,
     "start_time": "2020-10-10T13:14:14.341830",
     "status": "completed"
    },
    "tags": []
   },
   "source": [
    "### Building the Model\n",
    "\n",
    "Use the model subclassing method to build your model. While Sequential and Functional APIs are generally more suitable for most use cases, model subclassing allows you to create the model in an object-oriented way. Follow these steps:\n",
    "\n",
    "1. Define a custom model class by inheriting from `tf.keras.Model`.\n",
    "2. Implement the `__init__` method to define the layers of your model.\n",
    "3. Override the `call` method to define the forward pass of your model.\n",
    "4. Ensure that the model includes embedding layers, a skip-gram architecture, and any other necessary components for training.\n"
   ]
  },
  {
   "cell_type": "code",
   "execution_count": 38,
   "metadata": {
    "execution": {
     "iopub.execute_input": "2025-01-05T07:38:57.887613Z",
     "iopub.status.busy": "2025-01-05T07:38:57.887258Z",
     "iopub.status.idle": "2025-01-05T07:38:57.952707Z",
     "shell.execute_reply": "2025-01-05T07:38:57.951915Z",
     "shell.execute_reply.started": "2025-01-05T07:38:57.887589Z"
    },
    "id": "6gLxFZ9Eu9Tw",
    "papermill": {
     "duration": 1.935377,
     "end_time": "2020-10-10T13:14:19.277030",
     "exception": false,
     "start_time": "2020-10-10T13:14:17.341653",
     "status": "completed"
    },
    "tags": [],
    "trusted": true
   },
   "outputs": [
    {
     "name": "stdout",
     "output_type": "stream",
     "text": [
      "Output of the model (sample predictions):\n",
      "tf.Tensor(\n",
      "[[0.5011479 ]\n",
      " [0.49566585]\n",
      " [0.5003732 ]], shape=(3, 1), dtype=float32)\n"
     ]
    }
   ],
   "source": [
    "# Step 1: Create a custom model class by subclassing `tf.keras.Model`\n",
    "# Define a class that inherits from the Keras Model class\n",
    "\n",
    "# Step 2: Initialize the layers in the `__init__` method\n",
    "# Define all the layers such as embedding, dense, or output layers\n",
    "\n",
    "# Step 3: Implement the forward pass in the `call` method\n",
    "# Define how the input data flows through the model to produce the output\n",
    "\n",
    "# Step 4: Ensure the model implements the skip-gram architecture\n",
    "# Include logic for embedding lookups and processing positive and negative samples\n",
    "\n",
    "# Step 5: Verify that the model structure aligns with the objective\n",
    "# Test the forward pass to ensure proper layer connections and outputs\n",
    "import tensorflow as tf\n",
    "\n",
    "# Step 1: Create a custom model class by subclassing `tf.keras.Model`\n",
    "class Word2VecModel(tf.keras.Model):\n",
    "    def __init__(self, vocab_size, embedding_dim):\n",
    "        super(Word2VecModel, self).__init__()\n",
    "        \n",
    "        # Step 2: Initialize the layers\n",
    "        # Embedding layer for word vectors\n",
    "        self.target_embedding = tf.keras.layers.Embedding(\n",
    "            input_dim=vocab_size,\n",
    "            output_dim=embedding_dim,\n",
    "            input_length=1,\n",
    "            name=\"target_embedding\"\n",
    "        )\n",
    "        self.context_embedding = tf.keras.layers.Embedding(\n",
    "            input_dim=vocab_size,\n",
    "            output_dim=embedding_dim,\n",
    "            input_length=1,\n",
    "            name=\"context_embedding\"\n",
    "        )\n",
    "        # Dense layer for computing dot product between embeddings\n",
    "        self.dot_product = tf.keras.layers.Dot(axes=-1, normalize=False, name=\"dot_product\")\n",
    "\n",
    "    # Step 3: Implement the forward pass in the `call` method\n",
    "    def call(self, inputs):\n",
    "        target, context = inputs  # Unpack inputs (target, context)\n",
    "        \n",
    "        # Get embeddings for target and context words\n",
    "        target_vector = self.target_embedding(target)\n",
    "        context_vector = self.context_embedding(context)\n",
    "        \n",
    "        # Compute dot product of the embeddings\n",
    "        dot_product = self.dot_product([target_vector, context_vector])\n",
    "        \n",
    "        # Apply sigmoid activation to get probabilities\n",
    "        output = tf.keras.activations.sigmoid(dot_product)\n",
    "        \n",
    "        return output\n",
    "\n",
    "# Step 4: Instantiate and test the model\n",
    "# Define hyperparameters\n",
    "vocab_size = len(tokenizer.word_index) + 1\n",
    "embedding_dim = EMBEDDING_DIM\n",
    "\n",
    "# Initialize the model\n",
    "word2vec_model = Word2VecModel(vocab_size, embedding_dim)\n",
    "\n",
    "# Test the forward pass with dummy data\n",
    "dummy_target = tf.constant([1, 2, 3])  # Example target word indices\n",
    "dummy_context = tf.constant([4, 5, 6])  # Example context word indices\n",
    "dummy_output = word2vec_model((dummy_target, dummy_context))\n",
    "\n",
    "print(\"Output of the model (sample predictions):\")\n",
    "print(dummy_output)\n"
   ]
  },
  {
   "cell_type": "markdown",
   "metadata": {
    "id": "RN3SV3zv0pXG",
    "papermill": {
     "duration": 1.56129,
     "end_time": "2020-10-10T13:14:22.236946",
     "exception": false,
     "start_time": "2020-10-10T13:14:20.675656",
     "status": "completed"
    },
    "tags": []
   },
   "source": [
    "### Loss function, Metrics and Optimizers"
   ]
  },
  {
   "cell_type": "code",
   "execution_count": 39,
   "metadata": {
    "execution": {
     "iopub.execute_input": "2025-01-05T07:39:01.752634Z",
     "iopub.status.busy": "2025-01-05T07:39:01.752298Z",
     "iopub.status.idle": "2025-01-05T07:39:01.763014Z",
     "shell.execute_reply": "2025-01-05T07:39:01.761881Z",
     "shell.execute_reply.started": "2025-01-05T07:39:01.752605Z"
    },
    "id": "ENLrMWOtpixA",
    "papermill": {
     "duration": 1.420264,
     "end_time": "2020-10-10T13:14:25.068193",
     "exception": false,
     "start_time": "2020-10-10T13:14:23.647929",
     "status": "completed"
    },
    "tags": [],
    "trusted": true
   },
   "outputs": [],
   "source": [
    "optimizer = tf.keras.optimizers.Adam(learning_rate=0.001)\n",
    "loss_fn = tf.keras.losses.BinaryCrossentropy(from_logits=False)\n",
    "train_acc_metric = tf.keras.metrics.BinaryAccuracy(name=\"train_accuracy\")\n",
    "val_acc_metric = tf.keras.metrics.BinaryAccuracy(name=\"val_accuracy\")"
   ]
  },
  {
   "cell_type": "markdown",
   "metadata": {
    "id": "7eyQ_o1EWuJA",
    "papermill": {
     "duration": 1.384257,
     "end_time": "2020-10-10T13:14:27.862984",
     "exception": false,
     "start_time": "2020-10-10T13:14:26.478727",
     "status": "completed"
    },
    "tags": []
   },
   "source": [
    "### Training the Model\n",
    "\n",
    "Implement custom training for learning word embeddings to gain finer control over optimization and training tasks. Follow these steps:\n",
    "\n",
    "1. Define a custom training loop that includes forward propagation, loss computation, and backpropagation.\n",
    "2. Use the optimizer of your choice to update the model's weights based on the computed gradients.\n",
    "3. Implement batching for efficient data processing during training.\n",
    "4. Monitor the loss during each epoch to track the model's performance.\n",
    "5. Save the trained embeddings for later use once the training is complete."
   ]
  },
  {
   "cell_type": "code",
   "execution_count": 42,
   "metadata": {
    "execution": {
     "iopub.execute_input": "2025-01-05T07:42:02.348021Z",
     "iopub.status.busy": "2025-01-05T07:42:02.347647Z",
     "iopub.status.idle": "2025-01-05T07:58:50.289188Z",
     "shell.execute_reply": "2025-01-05T07:58:50.288378Z",
     "shell.execute_reply.started": "2025-01-05T07:42:02.347991Z"
    },
    "id": "oHNb85OL29hu",
    "outputId": "dcf63bef-59c9-4fe9-d15f-9bf4624815de",
    "papermill": {
     "duration": 1336.991023,
     "end_time": "2020-10-10T13:36:46.205587",
     "exception": false,
     "start_time": "2020-10-10T13:14:29.214564",
     "status": "completed"
    },
    "tags": [],
    "trusted": true
   },
   "outputs": [
    {
     "name": "stdout",
     "output_type": "stream",
     "text": [
      "\n",
      "Starting epoch: 0\n",
      "Training acc over epoch: 0.8137\n",
      "Cummulative loss: 6256.3340\n",
      "Validation acc over epoch: 0.8197\n",
      "Cummulative test loss: 1499.7494\n",
      "Time taken: 203.15s\n",
      "\n",
      "Starting epoch: 1\n",
      "Training acc over epoch: 0.8483\n",
      "Cummulative loss: 5126.5068\n",
      "Validation acc over epoch: 0.8276\n",
      "Cummulative test loss: 1444.9926\n",
      "Time taken: 200.39s\n",
      "\n",
      "Starting epoch: 2\n",
      "Training acc over epoch: 0.8672\n",
      "Cummulative loss: 4547.9907\n",
      "Validation acc over epoch: 0.8278\n",
      "Cummulative test loss: 1463.2664\n",
      "Time taken: 201.64s\n",
      "\n",
      "Starting epoch: 3\n",
      "Training acc over epoch: 0.8800\n",
      "Cummulative loss: 4167.8555\n",
      "Validation acc over epoch: 0.8258\n",
      "Cummulative test loss: 1511.9938\n",
      "Time taken: 201.55s\n",
      "\n",
      "Starting epoch: 4\n",
      "Training acc over epoch: 0.8889\n",
      "Cummulative loss: 3903.1345\n",
      "Validation acc over epoch: 0.8233\n",
      "Cummulative test loss: 1573.3611\n",
      "Time taken: 201.20s\n"
     ]
    }
   ],
   "source": [
    "import time\n",
    "\n",
    "# Step 1: Define the training step\n",
    "@tf.function\n",
    "def train_step(model, optimizer, loss_fn, train_acc_metric, targets, contexts, labels):\n",
    "    with tf.GradientTape() as tape:\n",
    "        predictions = model((targets, contexts), training=True)  # Forward pass\n",
    "        loss = loss_fn(labels, predictions)  # Compute loss\n",
    "    gradients = tape.gradient(loss, model.trainable_weights)  # Compute gradients\n",
    "    optimizer.apply_gradients(zip(gradients, model.trainable_weights))  # Apply gradients\n",
    "    train_acc_metric.update_state(labels, predictions)  # Update training accuracy metric\n",
    "    return loss\n",
    "\n",
    "# Step 2: Define the testing step\n",
    "@tf.function\n",
    "def test_step(model, loss_fn, val_acc_metric, targets, contexts, labels):\n",
    "    predictions = model((targets, contexts), training=False)  # Forward pass\n",
    "    loss = loss_fn(labels, predictions)  # Compute validation loss\n",
    "    val_acc_metric.update_state(labels, predictions)  # Update validation accuracy metric\n",
    "    return loss\n",
    "\n",
    "# Step 3: Initialize the training loop\n",
    "for epoch in range(EPOCHS):\n",
    "    print(f\"\\nStarting epoch: {epoch}\")\n",
    "    start_time = time.time()\n",
    "\n",
    "    # Training phase\n",
    "    train_loss = 0.0\n",
    "    for batch, ((targets, contexts), labels) in enumerate(train_dataset):\n",
    "        # if batch  == 1000:\n",
    "        #     break\n",
    "        batch_loss = train_step(word2vec_model, optimizer, loss_fn, train_acc_metric, targets, contexts, labels)\n",
    "        train_loss += batch_loss\n",
    "\n",
    "    # Compute cumulative training loss and accuracy\n",
    "    train_acc = train_acc_metric.result().numpy()\n",
    "    train_acc_metric.reset_state()  # Updated to reset_state()\n",
    "\n",
    "    # Validation phase\n",
    "    val_loss = 0.0\n",
    "    for batch, ((targets, contexts), labels) in enumerate(test_dataset):\n",
    "        batch_loss = test_step(word2vec_model, loss_fn, val_acc_metric, targets, contexts, labels)\n",
    "        val_loss += batch_loss\n",
    "\n",
    "    # Compute cumulative validation loss and accuracy\n",
    "    val_acc = val_acc_metric.result().numpy()\n",
    "    val_acc_metric.reset_state()  # Updated to reset_state()\n",
    "\n",
    "    # Log epoch metrics\n",
    "    print(f\"Training acc over epoch: {train_acc:.4f}\")\n",
    "    print(f\"Cummulative loss: {train_loss.numpy():.4f}\")\n",
    "    print(f\"Validation acc over epoch: {val_acc:.4f}\")\n",
    "    print(f\"Cummulative test loss: {val_loss.numpy():.4f}\")\n",
    "    print(f\"Time taken: {time.time() - start_time:.2f}s\")\n"
   ]
  },
  {
   "cell_type": "code",
   "execution_count": 43,
   "metadata": {
    "execution": {
     "iopub.execute_input": "2025-01-05T07:59:19.132161Z",
     "iopub.status.busy": "2025-01-05T07:59:19.131786Z",
     "iopub.status.idle": "2025-01-05T07:59:19.945869Z",
     "shell.execute_reply": "2025-01-05T07:59:19.945094Z",
     "shell.execute_reply.started": "2025-01-05T07:59:19.132131Z"
    },
    "id": "V2iWMNGQahsc",
    "papermill": {
     "duration": 1.409531,
     "end_time": "2020-10-10T13:36:48.973383",
     "exception": false,
     "start_time": "2020-10-10T13:36:47.563852",
     "status": "completed"
    },
    "tags": [],
    "trusted": true
   },
   "outputs": [
    {
     "name": "stdout",
     "output_type": "stream",
     "text": [
      "Model weights saved to checkpoint.\n"
     ]
    }
   ],
   "source": [
    "# Save weights to a Tensorflow Checkpoint file\n",
    "# Define a checkpoint manager\n",
    "checkpoint = tf.train.Checkpoint(optimizer=optimizer, model=word2vec_model)\n",
    "checkpoint_manager = tf.train.CheckpointManager(checkpoint, directory=\"./checkpoints\", max_to_keep=3)\n",
    "\n",
    "# Save the weights\n",
    "checkpoint_manager.save()\n",
    "print(\"Model weights saved to checkpoint.\")\n"
   ]
  },
  {
   "cell_type": "markdown",
   "metadata": {
    "id": "bb7Wx_rzZOOm",
    "papermill": {
     "duration": 1.591393,
     "end_time": "2020-10-10T13:36:51.938622",
     "exception": false,
     "start_time": "2020-10-10T13:36:50.347229",
     "status": "completed"
    },
    "tags": []
   },
   "source": [
    "### Word Embeddings Projector\n",
    "\n",
    "Follow these steps to visualize the learned word embeddings using TensorFlow's Embedding Projector:\n",
    "\n",
    "1. Extract the weights of the embedding layer from your trained model.\n",
    "2. Save the weights into two files:\n",
    "   - `vecs.tsv`: This file will store the actual vector representations of words.\n",
    "   - `meta.tsv`: This file will store the associated metadata (e.g., word labels) for visualization.\n",
    "3. Go to [TensorFlow Embedding Projector](http://projector.tensorflow.org/).\n",
    "4. Upload the `vecs.tsv` and `meta.tsv` files created in the previous step.\n",
    "5. Explore the visualizations provided by TensorFlow's Embedding Projector.\n",
    "<font color=#ffb578>\n",
    "6.Save the visualization of a word that best demonstrate the quality of your embeddings as an image and store it near the notebook.\n",
    "7. Compress the folder into a `.zip` file and submit it as part of your work.\n",
    "\n",
    "</font>\n"
   ]
  },
  {
   "cell_type": "code",
   "execution_count": 44,
   "metadata": {
    "execution": {
     "iopub.execute_input": "2025-01-05T07:59:24.520219Z",
     "iopub.status.busy": "2025-01-05T07:59:24.519876Z",
     "iopub.status.idle": "2025-01-05T07:59:29.800815Z",
     "shell.execute_reply": "2025-01-05T07:59:29.799715Z",
     "shell.execute_reply.started": "2025-01-05T07:59:24.520192Z"
    },
    "id": "fGpXtNRS-V_u",
    "outputId": "d107098b-260d-4a29-cd17-b25db895ccf0",
    "papermill": {
     "duration": 2.703171,
     "end_time": "2020-10-10T13:36:56.018656",
     "exception": false,
     "start_time": "2020-10-10T13:36:53.315485",
     "status": "completed"
    },
    "tags": [],
    "trusted": true
   },
   "outputs": [
    {
     "name": "stdout",
     "output_type": "stream",
     "text": [
      "Embedding vectors saved to ./embeddings_projector/vecs.tsv\n",
      "Metadata saved to ./embeddings_projector/meta.tsv\n"
     ]
    }
   ],
   "source": [
    "import os\n",
    "import numpy as np\n",
    "\n",
    "# Step 1: Access the embedding layer from the trained model\n",
    "embedding_layer = word2vec_model.target_embedding\n",
    "\n",
    "# Step 2: Extract the weights from the embedding layer\n",
    "embedding_weights = embedding_layer.get_weights()[0]  # Get the weights as a NumPy array\n",
    "\n",
    "# Define file paths for saving the embeddings and metadata\n",
    "output_dir = \"./embeddings_projector\"\n",
    "os.makedirs(output_dir, exist_ok=True)  # Create the directory if it doesn't exist\n",
    "vecs_file = os.path.join(output_dir, \"vecs.tsv\")\n",
    "meta_file = os.path.join(output_dir, \"meta.tsv\")\n",
    "\n",
    "# Step 3: Open files to store embeddings and metadata\n",
    "with open(vecs_file, \"w\", encoding=\"utf-8\") as vecs, open(meta_file, \"w\", encoding=\"utf-8\") as meta:\n",
    "    # Step 4: Iterate through the tokenizer's vocabulary\n",
    "    for word, index in tokenizer.word_index.items():\n",
    "        if index >= len(embedding_weights):\n",
    "            continue  # Skip words outside the vocabulary size\n",
    "        embedding_vector = embedding_weights[index]\n",
    "        vecs.write(\"\\t\".join([str(x) for x in embedding_vector]) + \"\\n\")  # Write vector to vecs.tsv\n",
    "        meta.write(word + \"\\n\")  # Write word to meta.tsv\n",
    "\n",
    "# Step 5: Close the files after writing\n",
    "print(f\"Embedding vectors saved to {vecs_file}\")\n",
    "print(f\"Metadata saved to {meta_file}\")\n"
   ]
  },
  {
   "cell_type": "code",
   "execution_count": 45,
   "metadata": {
    "execution": {
     "iopub.execute_input": "2025-01-05T07:59:33.501836Z",
     "iopub.status.busy": "2025-01-05T07:59:33.501524Z",
     "iopub.status.idle": "2025-01-05T07:59:33.562798Z",
     "shell.execute_reply": "2025-01-05T07:59:33.562010Z",
     "shell.execute_reply.started": "2025-01-05T07:59:33.501811Z"
    },
    "trusted": true
   },
   "outputs": [
    {
     "name": "stdout",
     "output_type": "stream",
     "text": [
      "Shape of word embeddings: (71141, 128)\n"
     ]
    }
   ],
   "source": [
    "# Access the embedding layer from the trained model\n",
    "embedding_layer = word2vec_model.target_embedding\n",
    "\n",
    "# Extract the embedding weights\n",
    "embedding_weights = embedding_layer.get_weights()[0]\n",
    "\n",
    "# Print the shape of the embedding weights\n",
    "print(f\"Shape of word embeddings: {embedding_weights.shape}\")\n"
   ]
  },
  {
   "cell_type": "markdown",
   "metadata": {},
   "source": [
    "### since the size of the vecs.csv file was large i can't upload it in quera so you can download it from this link :<br>\n",
    "- https://s32.picofile.com/file/8481854968/vecs.tsv.html"
   ]
  },
  {
   "cell_type": "markdown",
   "metadata": {},
   "source": []
  }
 ],
 "metadata": {
  "colab": {
   "provenance": []
  },
  "kaggle": {
   "accelerator": "nvidiaTeslaT4",
   "dataSources": [],
   "dockerImageVersionId": 30823,
   "isGpuEnabled": true,
   "isInternetEnabled": true,
   "language": "python",
   "sourceType": "notebook"
  },
  "kernelspec": {
   "display_name": "Python 3",
   "language": "python",
   "name": "python3"
  },
  "language_info": {
   "codemirror_mode": {
    "name": "ipython",
    "version": 3
   },
   "file_extension": ".py",
   "mimetype": "text/x-python",
   "name": "python",
   "nbconvert_exporter": "python",
   "pygments_lexer": "ipython3",
   "version": "3.10.12"
  },
  "papermill": {
   "duration": 1467.163823,
   "end_time": "2020-10-10T13:37:04.319726",
   "environment_variables": {},
   "exception": null,
   "input_path": "__notebook__.ipynb",
   "output_path": "__notebook__.ipynb",
   "parameters": {},
   "start_time": "2020-10-10T13:12:37.155903",
   "version": "2.1.0"
  }
 },
 "nbformat": 4,
 "nbformat_minor": 4
}
