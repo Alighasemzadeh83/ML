{
 "cells": [
  {
   "cell_type": "markdown",
   "metadata": {},
   "source": [
    "<img src='https://sharif.edu/~izadi/images/logo_sharif.png' alt=\"SUT logo\" width=260 height=300 align=left class=\"saturate\">\n",
    "\n",
    "<br><br>\n",
    "<font face=\"Times New Roman\">\n",
    "    <div dir=ltr align=center>\n",
    "        <font color=0F5298 size=7>\n",
    "            Probability and Statistics\n",
    "        </font>\n",
    "        <br><br>\n",
    "        <font color=2565AE size=5>\n",
    "            Computer Engineering Department<br>Lecturer: Dr. Ali Sharifi Zarchi<br>Spring 2025\n",
    "        </font>\n",
    "        <br><br>\n",
    "        <font color=3C99D size=5>\n",
    "            Homework 6 (Practical): Statistical Tests in Probability and Statistics\n",
    "        </font>\n",
    "        <br><br>\n",
    "        <font color=6EACDA size=4>\n",
    "            Authors: Arshia Dadras, Aida Jalali, Alireza Malekhosseini, Leili Motahari, Radin Jarireh\n",
    "        </font>\n",
    "    </div>\n",
    "    <br><br>\n",
    "</font>\n",
    "\n",
    "____\n",
    "\n",
    "#### Student Information  \n",
    "- **First Name**: YOUR FIRST NAME\n",
    "- **Last Name**: YOUR LAST NAME\n",
    "- **Student ID**: YOUR STUDENT ID"
   ]
  },
  {
   "cell_type": "markdown",
   "metadata": {},
   "source": [
    "## Introduction to Statistical Tests\n",
    "\n",
    "Hypothesis testing is a fundamental method in statistics that allows us to make decisions about population parameters based on sample data. It involves two competing hypotheses:\n",
    "\n",
    "- **Null Hypothesis (H₀)**: The default assumption, often stating no effect or no difference.\n",
    "- **Alternative Hypothesis (H₁)**: The hypothesis we aim to support, indicating a significant effect or difference.\n",
    "\n",
    "We use a test statistic to evaluate these hypotheses, comparing it to a critical value or calculating a p-value to decide whether to reject H₀. Statistical tests can be categorized as:\n",
    "\n",
    "- **Parametric Tests**: Assume the data follows a specific distribution (e.g., normal) and often require known population parameters.\n",
    "- **Non-Parametric Tests**: Make fewer assumptions about the data distribution, suitable for smaller samples or non-normal data.\n",
    "\n",
    "In this notebook, you will explore four key statistical tests:\n",
    "\n",
    "1. **Permutation Test**: A non-parametric test to assess if two datasets come from the same distribution.\n",
    "2. **Chi-Square Test**: A test for categorical data to evaluate goodness of fit or independence.\n",
    "3. **Z Test**: A parametric test for hypotheses about means or proportions with known variance or large samples.\n",
    "4. **Fisher's Exact Test**: A test for associations between categorical variables, ideal for small samples.\n",
    "\n",
    "Each section includes an introduction, a practical example with Python code, and TODOs for you to complete. These exercises will help you apply the concepts and deepen your understanding.\n",
    "\n",
    "## Instructions for Students\n",
    "\n",
    "1. Complete all TODO sections by writing the necessary code or answers.\n",
    "2. Ensure you have the required datasets (`Occupancy_Estimation.csv`, `StudentsPerformance.csv`, `heart_cleveland_upload.csv`) and adjust file paths as needed.\n",
    "3. Run the code cells to verify your solutions and interpretations.\n",
    "4. Use the theoretical questions to deepen your understanding of each test's purpose and application."
   ]
  },
  {
   "cell_type": "markdown",
   "metadata": {},
   "source": [
    "## Section 1: Permutation Test\n",
    "\n",
    "### Overview\n",
    "\n",
    "The permutation test is a non-parametric method used to determine if two datasets originate from the same distribution. It works by repeatedly shuffling the combined data and recalculating a test statistic (e.g., difference in means) to build a distribution under the null hypothesis. The observed statistic is then compared to this distribution to compute a p-value.\n",
    "\n",
    "### Use Case\n",
    "\n",
    "You have sleep hours data for two groups of students:\n",
    "\n",
    "- **Group A**: Students with exams (`group_A = [5.5, 5, 6.3, 8, 3]`).\n",
    "- **Group B**: Students without exams (`group_B = [7.5, 7.5, 7.5, 6, 8]`).\n",
    "\n",
    "Your task is to test whether exams significantly affect sleep hours.\n",
    "\n",
    "### Hypotheses\n",
    "\n",
    "- **H₀**: There is no significant difference in sleep hours between the two groups.\n",
    "- **H₁**: There is a significant difference in sleep hours between the two groups."
   ]
  },
  {
   "cell_type": "code",
   "execution_count": null,
   "metadata": {},
   "outputs": [],
   "source": [
    "import numpy as np\n",
    "from itertools import combinations\n",
    "\n",
    "# Sleep hours data\n",
    "group_A = [5.5, 5, 6.3, 8, 3]  # With exams\n",
    "group_B = [7.5, 7.5, 7.5, 6, 8]  # Without exams\n",
    "\n",
    "# TODO: Calculate the average sleep hours for group_A and group_B, then compute their difference\n",
    "# Explanation: This difference in means will be our test statistic for the permutation test.\n",
    "mean_A = ... # Your code here\n",
    "mean_B = ... # Your code here\n",
    "observed_diff = ... # Your code here\n",
    "print(f\"Observed difference in means: {observed_diff}\")\n",
    "\n",
    "# Combine the data\n",
    "combined = np.array(group_A + group_B)\n",
    "n = len(combined)\n",
    "k = len(group_A)\n",
    "\n",
    "# Generate all possible divisions\n",
    "divisions = list(combinations(range(n), k))\n",
    "\n",
    "# TODO: Calculate the test statistic (difference in means) for each permutation\n",
    "# Explanation: By shuffling the data, we simulate the null hypothesis and build a distribution of the test statistic.\n",
    "test_stats = []\n",
    "for div in divisions:\n",
    "    diff_perm = ... # Your code here\n",
    "    test_stats.append(diff_perm)\n",
    "\n",
    "# TODO: Calculate the p-value\n",
    "# Explanation: The p-value is the proportion of permutations where the test statistic is as extreme as or more extreme than the observed difference.\n",
    "p_value = ... # Your code here\n",
    "print(f\"P-value: {p_value}\")"
   ]
  },
  {
   "cell_type": "markdown",
   "metadata": {},
   "source": [
    "### Alternative Test Statistic\n",
    "\n",
    "Now, consider a different test statistic: the difference between the maximum of Group A and the minimum of Group B."
   ]
  },
  {
   "cell_type": "code",
   "execution_count": null,
   "metadata": {},
   "outputs": [],
   "source": [
    "# TODO: Calculate the observed test statistic: max(group_A) - min(group_B)\n",
    "# Explanation: This exercise explores how the choice of test statistic affects the outcome of the test.\n",
    "observed_stat = ... # Your code here\n",
    "print(f\"Observed statistic (max(A) - min(B)): {observed_stat}\")\n",
    "\n",
    "# TODO: Calculate the test statistic for each permutation\n",
    "test_stats_alt = []\n",
    "for div in divisions:\n",
    "    stat_perm = ... # Your code here\n",
    "    test_stats_alt.append(stat_perm)\n",
    "\n",
    "# TODO: Calculate the p-value for this test statistic\n",
    "p_value_alt = ... # Your code here\n",
    "print(f\"Alternative p-value: {p_value_alt}\")"
   ]
  },
  {
   "cell_type": "markdown",
   "metadata": {},
   "source": [
    "### Theoretical Question\n",
    "\n",
    "- **Task**: Discuss the role and importance of the test statistic in a permutation test. What makes a test statistic a poor choice, and when might it lead to misleading results? Write your answer in a markdown cell below.\n",
    "\n",
    "**Answer Here**:"
   ]
  },
  {
   "cell_type": "markdown",
   "metadata": {},
   "source": [
    "## Section 2: Chi-Square Test\n",
    "\n",
    "### Overview\n",
    "\n",
    "The Chi-Square test is used to determine whether observed frequencies in categorical data differ significantly from expected frequencies. It can be applied in two main scenarios:\n",
    "\n",
    "- **Goodness of Fit**: To test if a dataset follows a specific distribution.\n",
    "- **Test of Independence**: To check if two categorical variables are related.\n",
    "\n",
    "### Use Case\n",
    "\n",
    "You will work with the `Occupancy_Estimation` dataset, which includes sensor data (temperature, light, sound, CO₂, PIR) and room occupancy counts. Your tasks include testing if room occupancy is uniformly distributed and exploring relationships between variables.\n",
    "\n",
    "### Hypotheses (Goodness of Fit Example)\n",
    "\n",
    "- **H₀**: The room occupancy count follows a uniform distribution.\n",
    "- **H₁**: The room occupancy count does not follow a uniform distribution."
   ]
  },
  {
   "cell_type": "markdown",
   "metadata": {},
   "source": [
    "### Implementation\n",
    "\n",
    "*Note*: Ensure you have the `Occupancy_Estimation.csv` dataset available and adjust the file path as necessary."
   ]
  },
  {
   "cell_type": "code",
   "execution_count": null,
   "metadata": {},
   "outputs": [],
   "source": [
    "import pandas as pd\n",
    "import matplotlib.pyplot as plt\n",
    "import seaborn as sns\n",
    "from scipy.stats import chi2_contingency, chisquare\n",
    "\n",
    "occupancy_df = pd.read_csv(\"Occupancy_Estimation.csv\")  # Adjust path as needed\n",
    "print(occupancy_df.head())\n",
    "\n",
    "# TODO: Plot histograms with density curves for all numerical features\n",
    "# Explanation: Visualizing the distributions helps in understanding the data's characteristics.\n",
    "numerical_cols = ... # Your code here\n",
    "for col in numerical_cols:\n",
    "    sns.histplot(occupancy_df[col], kde=True)\n",
    "    plt.title(f\"Distribution of {col}\")\n",
    "    plt.show()"
   ]
  },
  {
   "cell_type": "markdown",
   "metadata": {},
   "source": [
    "### Theoretical Question\n",
    "\n",
    "- **Task**: What type of distribution do the sound features follow?\n",
    "\n",
    "**Answer Here**:"
   ]
  },
  {
   "cell_type": "code",
   "execution_count": null,
   "metadata": {},
   "outputs": [],
   "source": [
    "# TODO: Analyze the relationship between PIR sensor activity and room occupancy\n",
    "# Explanation: Use a contingency table to check if PIR activity reliably indicates the presence of people.\n",
    "... # Your code here\n",
    "print(f\"Chi-Square Statistic: {chi2}, P-value: {p}\")"
   ]
  },
  {
   "cell_type": "markdown",
   "metadata": {},
   "source": [
    "### Theoretical Question\n",
    "\n",
    "- **Task**: Does PIR activity align with room occupancy?\n",
    "\n",
    "**Answer Here**:"
   ]
  },
  {
   "cell_type": "code",
   "execution_count": null,
   "metadata": {},
   "outputs": [],
   "source": [
    "# TODO: Test if Room_Occupancy_Count follows a uniform distribution\n",
    "# Explanation: Compare the observed frequencies of occupancy counts to expected frequencies under a uniform distribution.\n",
    "... # Your code here\n",
    "print(f\"Chi-Square Statistic: {chi2_stat}, P-value: {p_val}\")"
   ]
  },
  {
   "cell_type": "markdown",
   "metadata": {},
   "source": [
    "### Theoretical Question\n",
    "\n",
    "- **Task**: Is the room occupancy uniformly distributed?\n",
    "\n",
    "**Answer Here**:"
   ]
  },
  {
   "cell_type": "code",
   "execution_count": null,
   "metadata": {},
   "outputs": [],
   "source": [
    "correlation_matrix = occupancy_df.corr()\n",
    "sns.heatmap(correlation_matrix, annot=True, cmap='coolwarm')\n",
    "plt.title(\"Correlation Matrix\")\n",
    "plt.show()"
   ]
  },
  {
   "cell_type": "markdown",
   "metadata": {},
   "source": [
    "### Theoretical Question\n",
    "\n",
    "- **Task**: Which feature has the strongest correlation with Room_Occupancy_Count?\n",
    "\n",
    "**Answer Here**:\n",
    "\n",
    "- **Task**: Based on the correlation, can we infer if S1_Sound and S2_Sound were installed in similar parts of the room?\n",
    "\n",
    "**Answer Here**:"
   ]
  },
  {
   "cell_type": "markdown",
   "metadata": {},
   "source": [
    "## Section 3: Z Test\n",
    "\n",
    "### Overview\n",
    "\n",
    "The Z test is a parametric test used when the population variance is known or when the sample size is large (n ≥ 30). It leverages the normal distribution, often through the Central Limit Theorem, to test hypotheses about means or proportions.\n",
    "\n",
    "### Use Case\n",
    "\n",
    "You will use two datasets:\n",
    "\n",
    "- **StudentsPerformance.csv**: For one-sample (math scores) and two-sample (reading scores by gender) Z tests.\n",
    "- **heart_cleveland_upload.csv**: For a proportion Z test (heart disease prevalence).\n",
    "\n",
    "### Hypotheses (Examples)\n",
    "\n",
    "- **One-Sample Z Test**: H₀: The mean math score is 70; H₁: The mean math score is not 70.\n",
    "- **Two-Sample Z Test**: H₀: There is no difference in reading scores between male and female students; H₁: There is a difference.\n",
    "- **Proportion Z Test**: H₀: The proportion of heart disease is 0.5; H₁: The proportion is not 0.5."
   ]
  },
  {
   "cell_type": "markdown",
   "metadata": {},
   "source": [
    "### Implementation\n",
    "\n",
    "*Note*: Ensure you have the `StudentsPerformance.csv` and `heart_cleveland_upload.csv` datasets available and adjust the file paths as necessary."
   ]
  },
  {
   "cell_type": "code",
   "execution_count": null,
   "metadata": {},
   "outputs": [],
   "source": [
    "import pandas as pd\n",
    "import numpy as np\n",
    "from scipy.stats import norm\n",
    "\n",
    "# Load datasets\n",
    "students_df = pd.read_csv(\"StudentsPerformance.csv\")\n",
    "heart_df = pd.read_csv(\"heart_cleveland_upload.csv\")\n",
    "\n",
    "# One-Sample Z Test (Math Scores)\n",
    "mu0 = 70  # Hypothesized mean\n",
    "sample_mean = students_df['math score'].mean()\n",
    "sample_std = students_df['math score'].std()\n",
    "n = len(students_df)\n",
    "\n",
    "# TODO: Calculate the Z-score and p-value for the one-sample Z test\n",
    "# Explanation: This test will determine if the mean math score is significantly different from 70.\n",
    "se = ... # Your code here\n",
    "z_score = ... # Your code here\n",
    "p_value = ... # Your code here\n",
    "print(f\"One-Sample Z Test - Z-score: {z_score}, P-value: {p_value}\")"
   ]
  },
  {
   "cell_type": "markdown",
   "metadata": {},
   "source": [
    "### Theoretical Question\n",
    "\n",
    "- **Task**: Based on the p-value, should we reject the null hypothesis?\n",
    "\n",
    "**Answer Here**:"
   ]
  },
  {
   "cell_type": "code",
   "execution_count": null,
   "metadata": {},
   "outputs": [],
   "source": [
    "# Two-Sample Z Test (Reading Scores by Gender)\n",
    "male_scores = students_df[students_df['gender'] == 'male']['reading score']\n",
    "female_scores = students_df[students_df['gender'] == 'female']['reading score']\n",
    "\n",
    "# TODO: Calculate the means, standard deviations, and Z-score for the two-sample Z test\n",
    "# Explanation: This test compares the reading scores between male and female students.\n",
    "mean_male = ... # Your code here\n",
    "mean_female = ... # Your code here\n",
    "std_male = ... # Your code here\n",
    "std_female = ... # Your code here\n",
    "n_male = ... # Your code here\n",
    "n_female = ... # Your code here\n",
    "se_diff = ... # Your code here\n",
    "z_score = ... # Your code here\n",
    "p_value = ... # Your code here\n",
    "print(f\"Two-Sample Z Test - Z-score: {z_score}, P-value: {p_value}\")"
   ]
  },
  {
   "cell_type": "markdown",
   "metadata": {},
   "source": [
    "### Theoretical Question\n",
    "\n",
    "- **Task**: Is there a significant difference in reading scores between genders?\n",
    "\n",
    "**Answer Here**:"
   ]
  },
  {
   "cell_type": "code",
   "execution_count": null,
   "metadata": {},
   "outputs": [],
   "source": [
    "# Proportion Z Test (Heart Disease)\n",
    "p0 = 0.5  # Hypothesized proportion\n",
    "n = len(heart_df)\n",
    "p_hat = heart_df['condition'].mean()\n",
    "\n",
    "# TODO: Calculate the Z-score and p-value for the proportion Z test\n",
    "# Explanation: This test checks if the proportion of heart disease in the sample differs from 50%.\n",
    "se = ... # Your code here\n",
    "z_score = ... # Your code here\n",
    "p_value = ... # Your code here\n",
    "print(f\"Proportion Z Test - Z-score: {z_score}, P-value: {p_value}\")"
   ]
  },
  {
   "cell_type": "markdown",
   "metadata": {},
   "source": [
    "### Theoretical Question\n",
    "\n",
    "- **Task**: Is the proportion of heart disease significantly different from 50%?\n",
    "\n",
    "**Answer Here**:"
   ]
  },
  {
   "cell_type": "markdown",
   "metadata": {},
   "source": [
    "## Section 4: Fisher's Exact Test\n",
    "\n",
    "### Overview\n",
    "\n",
    "Fisher's Exact Test is used to determine if there is a significant association between two categorical variables in a 2×2 contingency table. It is particularly useful for small sample sizes, as it calculates exact p-values using the hypergeometric distribution.\n",
    "\n",
    "### Use Case\n",
    "\n",
    "You will use the Titanic dataset to test if survival is associated with gender or passenger class.\n",
    "\n",
    "### Hypotheses\n",
    "\n",
    "- **H₀**: Survival is independent of gender/passenger class.\n",
    "- **H₁**: Survival is associated with gender/passenger class."
   ]
  },
  {
   "cell_type": "code",
   "execution_count": null,
   "metadata": {},
   "outputs": [],
   "source": [
    "import pandas as pd\n",
    "import seaborn as sns\n",
    "from scipy.stats import fisher_exact\n",
    "\n",
    "# Load Titanic dataset\n",
    "titanic_df = sns.load_dataset('titanic')\n",
    "\n",
    "contingency_table = pd.crosstab(titanic_df['survived'], titanic_df['sex'])\n",
    "print(contingency_table)\n",
    "\n",
    "# TODO: Perform Fisher's Exact Test on the contingency table\n",
    "# Explanation: This test will provide an exact p-value to assess the independence of survival and gender.\n",
    "odds_ratio, p_value = ... # Your code here\n",
    "print(f\"Odds Ratio: {odds_ratio}, P-value: {p_value}\")"
   ]
  },
  {
   "cell_type": "markdown",
   "metadata": {},
   "source": [
    "### Theoretical Question\n",
    "\n",
    "- **Task**: Is there a significant association between survival and gender?\n",
    "\n",
    "**Answer Here**:"
   ]
  },
  {
   "cell_type": "code",
   "execution_count": null,
   "metadata": {},
   "outputs": [],
   "source": [
    "# TODO: Create a contingency table for survival vs. passenger class\n",
    "# Note: Since passenger class has more than two categories, you may need to adjust the test or subset the data.\n",
    "contingency_table_class = ... # Your code here\n",
    "# For a 2x3 table, Fisher's Exact Test isn't directly applicable. Consider using Chi-Square or subsetting to two classes.\n",
    "# Optional: Subset to two classes, e.g., 1st and 3rd class\n",
    "odds_ratio, p_value = ... # Your code here\n",
    "print(f\"Odds Ratio: {odds_ratio}, P-value: {p_value}\")"
   ]
  },
  {
   "cell_type": "markdown",
   "metadata": {},
   "source": [
    "### Theoretical Question\n",
    "\n",
    "- **Task**: Is there a significant association between survival and passenger class?\n",
    "\n",
    "**Answer Here**:"
   ]
  }
 ],
 "metadata": {
  "kernelspec": {
   "display_name": "Python 3",
   "language": "python",
   "name": "python3"
  },
  "language_info": {
   "codemirror_mode": {
    "name": "ipython",
    "version": 3
   },
   "file_extension": ".py",
   "mimetype": "text/x-python",
   "name": "python",
   "nbconvert_exporter": "python",
   "pygments_lexer": "ipython3",
   "version": "3.8.5"
  }
 },
 "nbformat": 4,
 "nbformat_minor": 4
}
